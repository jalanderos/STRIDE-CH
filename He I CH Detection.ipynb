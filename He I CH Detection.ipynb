{
 "cells": [
  {
   "cell_type": "code",
   "execution_count": null,
   "id": "27054106-5f21-4f2a-a320-a24b0e6d0b0b",
   "metadata": {
    "tags": []
   },
   "outputs": [],
   "source": [
    "import os\n",
    "import numpy as np\n",
    "import plotly.io as pio\n",
    "from matplotlib import pyplot as plt\n",
    "\n",
    "import prepare_data\n",
    "import run_detection\n",
    "import plot_detection\n",
    "\n",
    "pio.renderers.default = 'vscode'\n",
    "%matplotlib inline"
   ]
  },
  {
   "attachments": {},
   "cell_type": "markdown",
   "id": "a1324d19-b50d-43d3-8875-f4f0ea184bcb",
   "metadata": {},
   "source": [
    "# Data Inspection"
   ]
  },
  {
   "attachments": {},
   "cell_type": "markdown",
   "id": "9f7089cf",
   "metadata": {},
   "source": [
    "## Prepare Data"
   ]
  },
  {
   "attachments": {},
   "cell_type": "markdown",
   "id": "c1f84995",
   "metadata": {},
   "source": [
    "Configure file paths"
   ]
  },
  {
   "cell_type": "code",
   "execution_count": null,
   "id": "0c1131af",
   "metadata": {},
   "outputs": [],
   "source": [
    "DATA_DIR = 'assets/'\n",
    "\n",
    "ALL_HE_DIR = DATA_DIR + 'All_He/'\n",
    "SELECT_HE_DIR = DATA_DIR + 'Selected_He/'\n",
    "\n",
    "IMG_EUV_DIR = DATA_DIR + 'Img_EUV/'\n",
    "\n",
    "SINGLE_MAPS_DIR = DATA_DIR + 'Output/Single_Maps/'\n",
    "ENSEMBLE_MAPS_DIR = DATA_DIR + 'Output/Ensemble_Maps_v0_3/'\n",
    "ENSEMBLE_MAP_SAVE_DIR = ENSEMBLE_MAPS_DIR + 'Numpy_Arrays/'"
   ]
  },
  {
   "cell_type": "markdown",
   "id": "f74a10ba-f2a1-401d-b55c-a15d66a7ad18",
   "metadata": {},
   "source": [
    "Rename Data\n",
    "- He I and magnetogram FITS files are renamed automatically"
   ]
  },
  {
   "cell_type": "code",
   "execution_count": null,
   "id": "8659fe01-26b6-4ba7-9aac-1e2e62b2c63c",
   "metadata": {},
   "outputs": [],
   "source": [
    "# Delete all gzipped files after renaming\n",
    "remove_gzip = True\n",
    "\n",
    "# Rename all He FITS files to include observation date in title\n",
    "prepare_data.rename_dir(ALL_HE_DIR, remove_gzip)"
   ]
  },
  {
   "attachments": {},
   "cell_type": "markdown",
   "id": "4d0c6db7-3240-467b-a9d4-76e9339adbde",
   "metadata": {},
   "source": [
    "Specify Date Range\n",
    "- WSA chs plots and EUV images must be renamed to match the string format DICT_DATE_STR_FORMAT"
   ]
  },
  {
   "cell_type": "code",
   "execution_count": null,
   "id": "dbe54ac3",
   "metadata": {},
   "outputs": [],
   "source": [
    "# Option to extract all or only select few He FITS files of interest\n",
    "# All dates\n",
    "# date_range = ('2000_01_01__00_00', '2020_01_01__00_00')\n",
    "\n",
    "# CR 2136\n",
    "# date_range = ('2013_04_01__00_00', '2013_06_01__00_00')\n",
    "\n",
    "# CR 2151\n",
    "# date_range = ('2014_06_01__00_00', '2014_06_30__00_00')\n",
    "\n",
    "# GMU period early in Solar Cycle 24\n",
    "date_range = ('2012_04_01__00_00', '2012_09_01__00_00')\n",
    "\n",
    "# Select few dates for analysis\n",
    "# date_range = None"
   ]
  },
  {
   "cell_type": "markdown",
   "id": "bdf30f18",
   "metadata": {},
   "source": [
    "Extract Data from File System"
   ]
  },
  {
   "cell_type": "code",
   "execution_count": null,
   "id": "37a6598a-c954-4bcc-9383-d6ab03b6364d",
   "metadata": {},
   "outputs": [],
   "source": [
    "# Extract data arrays from He FITS files\n",
    "HE_FITS_DICT = prepare_data.extract_he(date_range, ALL_HE_DIR, SELECT_HE_DIR)\n",
    "HE_DATE_LIST = list(HE_FITS_DICT.keys())\n",
    "HE_DATE_LIST.sort()\n",
    "\n",
    "# Extract EUV images from image files\n",
    "EUV_DICT = prepare_data.extract_comparison_ims(IMG_EUV_DIR)"
   ]
  },
  {
   "cell_type": "markdown",
   "id": "6181f045-b741-4915-a11b-e6e127064fab",
   "metadata": {},
   "source": [
    "## Available Data"
   ]
  },
  {
   "cell_type": "code",
   "execution_count": null,
   "id": "bb53e85c-08e3-4ea4-b224-2f95076b967d",
   "metadata": {},
   "outputs": [],
   "source": [
    "print('Available Datetimes for He I Observations:')\n",
    "prepare_data.display_dates(HE_DATE_LIST)"
   ]
  },
  {
   "attachments": {},
   "cell_type": "markdown",
   "id": "f49afd2d",
   "metadata": {},
   "source": [
    "He I FITS File Content"
   ]
  },
  {
   "cell_type": "code",
   "execution_count": null,
   "id": "5f1ab8ce-b570-41ba-a4c3-3eeca487ed03",
   "metadata": {},
   "outputs": [],
   "source": [
    "date_str = '2015_03_31__18_13'\n",
    "# date_str = '2013_04_17__18_39'\n",
    "# date_str = '2014_06_06__17_46'\n",
    "\n",
    "cmaps = [plt.cm.RdBu, plt.cm.afmhot, plt.cm.gray]\n",
    "\n",
    "plot_detection.plot_fits_content(HE_FITS_DICT, date_str, cmaps)"
   ]
  },
  {
   "attachments": {},
   "cell_type": "markdown",
   "id": "9d82b32f-7347-4351-94c2-22c2f8f1786d",
   "metadata": {},
   "source": [
    "# Pre-Process"
   ]
  },
  {
   "attachments": {},
   "cell_type": "markdown",
   "id": "1296c069",
   "metadata": {},
   "source": [
    "## Single Observation"
   ]
  },
  {
   "cell_type": "code",
   "execution_count": null,
   "id": "b7c2d0d4",
   "metadata": {},
   "outputs": [],
   "source": [
    "date_str = '2012_05_07__17_59'\n",
    "\n",
    "\n",
    "raw_eqw = HE_FITS_DICT[date_str][0]\n",
    "eqw_band_cut, eqw_high_cut, eqw_nan = run_detection.pre_process_eqw_v0_1(\n",
    "    raw_eqw, peak_count_cutoff_percent=0.1\n",
    ")\n",
    "\n",
    "arrays = [raw_eqw, eqw_nan, eqw_high_cut, eqw_band_cut]\n",
    "titles = ['EQW', 'EQW NaN', 'EQW High Cut', 'EQW Band Cut']\n",
    "\n",
    "plot_detection.plot_hists(arrays[0:2], titles[0:2], semilogy=True)\n",
    "plot_detection.plot_hists(arrays[2:4], titles[2:4], semilogy=True)"
   ]
  },
  {
   "cell_type": "markdown",
   "id": "07ac5ef7-6c04-4363-aba1-2aa4766b2e9a",
   "metadata": {},
   "source": [
    "# Parameters"
   ]
  },
  {
   "attachments": {},
   "cell_type": "markdown",
   "id": "1ec0780b",
   "metadata": {},
   "source": [
    "## Threshold"
   ]
  },
  {
   "cell_type": "code",
   "execution_count": null,
   "id": "ee11cf9b",
   "metadata": {},
   "outputs": [],
   "source": [
    "date_str = '2012_06_22__18_13'\n",
    "\n",
    "raw_eqw = HE_FITS_DICT[date_str][0]\n",
    "eqw = run_detection.pre_process_eqw_v0_1(raw_eqw)[0]\n",
    "\n",
    "plot_detection.plot_thresholds(eqw, bounds=[75, 85, 100], bounds_as_percent=True)"
   ]
  },
  {
   "cell_type": "markdown",
   "id": "e7886423-ef31-43ec-9020-025001037628",
   "metadata": {},
   "source": [
    "## Structuring Element Radius"
   ]
  },
  {
   "cell_type": "code",
   "execution_count": null,
   "id": "231c2223",
   "metadata": {},
   "outputs": [],
   "source": [
    "date_str = '2012_06_22__18_13'\n",
    "\n",
    "raw_eqw = HE_FITS_DICT[date_str][0]\n",
    "eqw = run_detection.pre_process_eqw_v0_1(raw_eqw)[0]\n",
    "\n",
    "percent_of_peak_list = [90, 90, 90]\n",
    "morph_radius_list = [4,10,14]\n",
    "\n",
    "ch_mask_list = [\n",
    "    run_detection.get_ch_mask(eqw, percent_of_peak, morph_radius)\n",
    "    for percent_of_peak, morph_radius\n",
    "    in zip(percent_of_peak_list, morph_radius_list)\n",
    "]\n",
    "title_list = [f'{percent_of_peak:d}% of Peak | {radius:d}px Radius'\n",
    "              for percent_of_peak in percent_of_peak_list\n",
    "              for radius in morph_radius_list]\n",
    "plot_detection.plot_ims([eqw, [[0,0],[0,0]]], ['',''])\n",
    "plot_detection.plot_ims(ch_mask_list[:3], title_list[:3])"
   ]
  },
  {
   "attachments": {},
   "cell_type": "markdown",
   "id": "173f9d25",
   "metadata": {},
   "source": [
    "## Smoothness: Gradient Median"
   ]
  },
  {
   "cell_type": "code",
   "execution_count": null,
   "id": "61adbe74",
   "metadata": {},
   "outputs": [],
   "source": [
    "date_str = '2015_03_31__18_13'\n",
    "percent_of_peak = 90\n",
    "morph_radius = 15\n",
    "\n",
    "raw_eqw = HE_FITS_DICT[date_str][0]\n",
    "eqw = run_detection.pre_process_eqw_v0_1(raw_eqw)[0]\n",
    "\n",
    "ch_mask = run_detection.get_ch_mask(eqw, percent_of_peak, morph_radius)\n",
    "\n",
    "plot_detection.plot_sorted_ch_hists(eqw, ch_mask, apply_gradient=True,\n",
    "                                    hist_stat='median')"
   ]
  },
  {
   "cell_type": "markdown",
   "id": "24becfa3-4634-43f1-b5c5-9c463459948c",
   "metadata": {},
   "source": [
    "# Ensemble"
   ]
  },
  {
   "attachments": {},
   "cell_type": "markdown",
   "id": "57ad4835",
   "metadata": {},
   "source": [
    "## Individual"
   ]
  },
  {
   "cell_type": "code",
   "execution_count": null,
   "id": "8e1db2d4",
   "metadata": {},
   "outputs": [],
   "source": [
    "# date_str = '2012_06_22__18_13'\n",
    "# date_str = '2014_06_26__14_19'\n",
    "date_str = '2015_03_31__18_13'\n",
    "# date_str = '2015_07_16__17_12'\n",
    "\n",
    "percent_of_peak_list = [80,80,90,100,100]\n",
    "morph_radius_list = [13,17,15,13,17]\n",
    "\n",
    "raw_eqw = HE_FITS_DICT[date_str][0]\n",
    "eqw = run_detection.pre_process_eqw_v0_1(raw_eqw)[0]\n",
    "ensemble_map, isolated_ch_im_list, confidence_list = run_detection.get_ensemble_v0_3(\n",
    "    eqw, percent_of_peak_list, morph_radius_list\n",
    ")\n",
    "plot_detection.plot_ensemble(\n",
    "    eqw, ensemble_map, confidence_list, isolated_ch_im_list\n",
    ")"
   ]
  },
  {
   "attachments": {},
   "cell_type": "markdown",
   "id": "e11b12e6",
   "metadata": {},
   "source": [
    "## Output"
   ]
  },
  {
   "attachments": {},
   "cell_type": "markdown",
   "id": "53525df2",
   "metadata": {},
   "source": [
    "Create Ensemble Maps & Save to Files (Expensive computation)"
   ]
  },
  {
   "cell_type": "code",
   "execution_count": null,
   "id": "f307c89e",
   "metadata": {},
   "outputs": [],
   "source": [
    "overwrite = False\n",
    "\n",
    "# v0.2\n",
    "# O X X\n",
    "# X O O\n",
    "# X O X\n",
    "percent_of_peak_list = [80,80, 90, 100,100]\n",
    "morph_radius_list = [15,17, 13, 13,17]\n",
    "\n",
    "# date_idx = 48 # 32: 05/06-08   # 48: 05/26-28\n",
    "\n",
    "if not os.path.isdir(ENSEMBLE_MAP_SAVE_DIR):\n",
    "    os.makedirs(ENSEMBLE_MAP_SAVE_DIR)\n",
    "\n",
    "# for he_date_str in HE_DATE_LIST[date_idx:date_idx + 3]:\n",
    "for he_date_str in HE_DATE_LIST:\n",
    "    \n",
    "    # Optionally overwrite existing files\n",
    "    save_file = f'{ENSEMBLE_MAP_SAVE_DIR}{he_date_str}_ensemble_map.npy'\n",
    "    if os.path.isfile(save_file) and not overwrite:\n",
    "        print((f'He {he_date_str} ensemble map already exists.'))\n",
    "        continue\n",
    "    \n",
    "    raw_eqw = HE_FITS_DICT[he_date_str][0]\n",
    "    eqw = run_detection.pre_process_eqw_v0_1(raw_eqw)[0]\n",
    "    # eqw = normalize(raw_eqw)[0]\n",
    "\n",
    "    # ensemble_map = run_detection.get_ensemble(\n",
    "    #     eqw, percent_of_peak_list, morph_radius_list\n",
    "    # )[0]\n",
    "    ensemble_map = run_detection.get_smooth_ensemble(\n",
    "        eqw, percent_of_peak_list, morph_radius_list\n",
    "    )[0]\n",
    "    \n",
    "    save_list = [he_date_str, percent_of_peak_list, morph_radius_list, ensemble_map]\n",
    "    np.save(save_file, np.array(save_list, dtype=object), allow_pickle=True)\n",
    "    print(f'{he_date_str} Ensemble Map Saved')"
   ]
  },
  {
   "attachments": {},
   "cell_type": "markdown",
   "id": "0e729d01",
   "metadata": {},
   "source": [
    "Save Ensemble Maps to Images"
   ]
  },
  {
   "cell_type": "code",
   "execution_count": null,
   "id": "795460ae",
   "metadata": {},
   "outputs": [],
   "source": [
    "output_dir = ENSEMBLE_MAPS_DIR + 'Preprocess_v0_3/2012_05_27/'\n",
    "date_idx = 48 # 32: 05/06-08   # 48: 05/26-28\n",
    "\n",
    "\n",
    "if not os.path.isdir(output_dir):\n",
    "    os.makedirs(output_dir)\n",
    "\n",
    "for he_date_str in HE_DATE_LIST[date_idx:date_idx + 3]:\n",
    "    \n",
    "    raw_eqw = HE_FITS_DICT[he_date_str][0]\n",
    "    eqw = run_detection.pre_process_eqw_v0_1(raw_eqw)[0]\n",
    "    # eqw = normalize(raw_eqw)[0]\n",
    "    \n",
    "    save_file = f'{ENSEMBLE_MAP_SAVE_DIR}{he_date_str}_ensemble_map.npy'\n",
    "    ensemble_map = run_detection.get_saved_ensemble_map(save_file)[-1]\n",
    "\n",
    "    fig, axes = plt.subplots(nrows=1, ncols=2, figsize=(20, 10))\n",
    "    ax = axes.ravel()\n",
    "\n",
    "    ax[0].set_title(he_date_str, fontsize=24)\n",
    "    ax[0].imshow(eqw, cmap=plt.cm.gray)\n",
    "    \n",
    "    ax[1].imshow(ensemble_map, cmap=plt.cm.magma)\n",
    "\n",
    "    plt.savefig(f'{output_dir}{he_date_str}.jpg')\n",
    "    plt.close(fig)"
   ]
  },
  {
   "attachments": {},
   "cell_type": "markdown",
   "id": "e5128c55",
   "metadata": {},
   "source": [
    "Write Images to Video"
   ]
  },
  {
   "cell_type": "code",
   "execution_count": null,
   "id": "adb63d07",
   "metadata": {},
   "outputs": [],
   "source": [
    "output_dir = ENSEMBLE_MAPS_DIR + 'Preprocess_v0_3/2012_05_27/'\n",
    "\n",
    "fps = 2\n",
    "\n",
    "run_detection.write_ensemble_video(output_dir, fps)"
   ]
  },
  {
   "cell_type": "code",
   "execution_count": null,
   "id": "6ea0633f",
   "metadata": {},
   "outputs": [],
   "source": []
  }
 ],
 "metadata": {
  "kernelspec": {
   "display_name": "jupyterlab-debugger",
   "language": "python",
   "name": "python3"
  },
  "language_info": {
   "codemirror_mode": {
    "name": "ipython",
    "version": 3
   },
   "file_extension": ".py",
   "mimetype": "text/x-python",
   "name": "python",
   "nbconvert_exporter": "python",
   "pygments_lexer": "ipython3",
   "version": "3.11.0"
  },
  "toc-autonumbering": true,
  "vscode": {
   "interpreter": {
    "hash": "9702f0bff29bacff409d5ed2ffa7f0a67aa5aa939df8fc4f21a3e6487ad9172c"
   }
  }
 },
 "nbformat": 4,
 "nbformat_minor": 5
}
