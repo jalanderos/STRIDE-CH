{
 "cells": [
  {
   "cell_type": "markdown",
   "metadata": {},
   "source": [
    "# STRIDE-CH\n",
    "\n",
    "Sub-Transition Region Identification of Ensemble Coronal Holes\n",
    "\n",
    "1. Specify file system settings in the settings.py script\n",
    "2. Load, download, and rename data in the **Data Preparation** section.\n",
    "3. Confirm that the desired data has been loaded into memory in the **Available Data** section.\n",
    "4. Produce desired data products, including ensemble CH segmentation maps in the **Data Products** section.\n",
    "5. Produce desired plots of data products in the **Data Product Plots** section."
   ]
  },
  {
   "cell_type": "code",
   "execution_count": null,
   "id": "1",
   "metadata": {
    "tags": []
   },
   "outputs": [],
   "source": [
    "import os\n",
    "# See README Python Dependency Installation\n",
    "os.environ['IMAGEIO_FFMPEG_EXE'] = '/opt/homebrew/bin/ffmpeg'\n",
    "\n",
    "import pickle\n",
    "import sunpy.map\n",
    "import numpy as np\n",
    "from sunpy.net import Fido, attrs as a\n",
    "from datetime import datetime, timedelta\n",
    "\n",
    "import astropy.units as u\n",
    "from astropy.coordinates import SkyCoord\n",
    "from matplotlib import colormaps, pyplot as plt\n",
    "\n",
    "import prepare_data\n",
    "import detect\n",
    "import plot_detection\n",
    "from settings import *\n",
    "\n",
    "%matplotlib inline"
   ]
  },
  {
   "attachments": {},
   "cell_type": "markdown",
   "id": "2",
   "metadata": {},
   "source": [
    "# Data Preparation\n",
    "\n",
    "To prepare previously downloaded data to be accessed by this notebook, simply run the **Load Data** subsection.\n",
    "\n",
    "To download and prepare new data:\n",
    "1. Visit the links provided in the **Data** section of the README.\n",
    "2. Manually download the desired He I images and corresponding magnetograms to the subdirectories within the `STRIDE-CH` directory. The default subdirectories are provided below, but may be customized in the settings.py script.\n",
    "   - He I Images: `STRIDE-CH/assets/He`\n",
    "   - Magnetograms: `STRIDE-CH/assets/Mag`\n",
    "3. Execute the **Rename Data** subsection below to rename these files.\n",
    "4. Execute the **Load Data** subsection.\n",
    "5. Use the **EUV Download** subsection below to download corresponding EUV 19.3 nm images.\n",
    "6. Re-execute the **Rename Data** and **Load Data** subsections."
   ]
  },
  {
   "cell_type": "markdown",
   "metadata": {},
   "source": [
    "## Load Data\n",
    "\n",
    "Load lists of available datetimes of observations in the file system into memory.\n",
    "\n",
    "For the usage of ACWE maps, the `DATE_RANGE` in settings.py must encompass all available ACWE map files."
   ]
  },
  {
   "cell_type": "code",
   "execution_count": null,
   "id": "4",
   "metadata": {},
   "outputs": [],
   "source": [
    "# Extract He I observation datetimes from FITS files\n",
    "HE_DATE_LIST = prepare_data.get_fits_date_list(\n",
    "    DATE_RANGE, HE_DIR\n",
    ")\n",
    "\n",
    "# Extract magnetogram datetimes from 6302l FITS files\n",
    "MAG_DATE_LIST = prepare_data.get_fits_date_list(\n",
    "    DATE_RANGE, MAG_DIR\n",
    ")\n",
    "\n",
    "# Extract EUV datetimes from FITS files\n",
    "EUV_DATE_LIST = prepare_data.get_fits_date_list(\n",
    "    DATE_RANGE, EUV_DIR\n",
    ")\n",
    "\n",
    "# Extract ACWE datetimes from FITS files\n",
    "ACWE_DATE_LIST = prepare_data.get_acwe_date_list(DATE_RANGE)\n",
    "\n",
    "if HE_DATE_LIST or EUV_DATE_LIST:\n",
    "    date_strs = [HE_DATE_LIST[0], HE_DATE_LIST[-1]]\n",
    "    file_date_str = f'{date_strs[0]}_{date_strs[-1]}'\n",
    "\n",
    "    num_maps = len(HE_DATE_LIST)\n",
    "    datetimes = [datetime.strptime(date_str, DICT_DATE_STR_FORMAT)\n",
    "                for date_str in date_strs]\n",
    "    title_date_strs = [datetime.strftime(d, '%m/%d/%Y') for d in datetimes]\n",
    "    DATE_RANGE_SUPTITLE = (f'{num_maps} Maps Evaluated from '\n",
    "                        + f'{title_date_strs[0]} to {title_date_strs[-1]}')\n",
    "else:\n",
    "    print('No data is available for the configured date range.')"
   ]
  },
  {
   "cell_type": "markdown",
   "metadata": {},
   "source": [
    "## EUV Download\n",
    "\n",
    "Obtain dates to download."
   ]
  },
  {
   "cell_type": "code",
   "execution_count": null,
   "metadata": {},
   "outputs": [],
   "source": [
    "fill_between_he_dates = False\n",
    "\n",
    "# Idenitfy He I observation datetimes\n",
    "available_he_dates = [\n",
    "    datetime.strptime(date_str, DICT_DATE_STR_FORMAT).date()\n",
    "    for date_str in HE_DATE_LIST\n",
    "]\n",
    "\n",
    "if fill_between_he_dates:\n",
    "    # Identify missing dates between He I observations\n",
    "    days_in_period = (\n",
    "        available_he_dates[-1] - available_he_dates[0]\n",
    "    ).days\n",
    "    all_period_dates = set(available_he_dates[0] + timedelta(num_days)\n",
    "                        for num_days in range(days_in_period + 1))\n",
    "    missing_he_dates = all_period_dates - set(available_he_dates)\n",
    "    missing_he_date_str_list = [\n",
    "        datetime.strftime(missing_date, DICT_DATE_STR_FORMAT)\n",
    "        for missing_date in missing_he_dates\n",
    "    ]\n",
    "    # Set a place holder hour for missing dates\n",
    "    missing_he_date_str_list = [\n",
    "        missing_date_str[:12] + '16_00'\n",
    "        for missing_date_str in missing_he_date_str_list\n",
    "    ]\n",
    "    missing_he_date_str_list.sort()\n",
    "\n",
    "    all_period_date_str_list = HE_DATE_LIST + missing_he_date_str_list\n",
    "    all_period_date_str_list.sort()\n",
    "    \n",
    "    all_period_date_list = list(all_period_dates)\n",
    "    all_period_date_list.sort()\n",
    "else:\n",
    "    all_period_date_str_list = HE_DATE_LIST\n",
    "    all_period_date_list = available_he_dates\n",
    "\n",
    "# Identify datetimes to download EUV that have not yet been downloaded\n",
    "available_euv_dates = [\n",
    "    datetime.strptime(date_str, DICT_DATE_STR_FORMAT).date()\n",
    "    for date_str in EUV_DATE_LIST\n",
    "]\n",
    "download_euv_date_list = [\n",
    "    date_str for date_str, date\n",
    "    in zip(all_period_date_str_list, all_period_date_list)\n",
    "    if date not in available_euv_dates\n",
    "]"
   ]
  },
  {
   "cell_type": "code",
   "execution_count": null,
   "metadata": {},
   "outputs": [],
   "source": [
    "print('Datetimes to Download for EUV Observations:')\n",
    "prepare_data.display_dates(download_euv_date_list)"
   ]
  },
  {
   "cell_type": "markdown",
   "metadata": {},
   "source": [
    "Automatic"
   ]
  },
  {
   "cell_type": "code",
   "execution_count": null,
   "metadata": {},
   "outputs": [],
   "source": [
    "prepare_data.download_euv(\n",
    "    download_euv_date_list, EUV_DATE_LIST,\n",
    "    sat='SDO',\n",
    "    # sat='SOHO',\n",
    "    output_dir=EUV_DIR, hr_window=2\n",
    ")"
   ]
  },
  {
   "cell_type": "markdown",
   "metadata": {},
   "source": [
    "Specify an Individual EUV-Observing Satellite and Datetime"
   ]
  },
  {
   "cell_type": "code",
   "execution_count": null,
   "metadata": {},
   "outputs": [],
   "source": [
    "sat = 'SDO'\n",
    "euv_date_str = '2015_06_11__04_00'\n",
    "hr_window = 2\n",
    "\n",
    "center_date = datetime.strptime(euv_date_str, DICT_DATE_STR_FORMAT)\n",
    "        \n",
    "min_date = center_date - timedelta(hours=hr_window)\n",
    "max_date = center_date + timedelta(hours=hr_window)\n",
    "time_range = a.Time(min_date, max_date)\n",
    "cadence = a.Sample(30*u.minute)\n",
    "\n",
    "if sat == 'SOHO':\n",
    "    result = Fido.search(\n",
    "        time_range,\n",
    "        a.Instrument.eit, a.Wavelength(195*u.angstrom),\n",
    "        cadence\n",
    "    )\n",
    "else: # sat == SDO\n",
    "    result = Fido.search(\n",
    "        time_range,\n",
    "        a.Instrument.aia, a.Wavelength(193*u.angstrom),\n",
    "        cadence\n",
    "    )\n",
    "result"
   ]
  },
  {
   "cell_type": "code",
   "execution_count": null,
   "metadata": {},
   "outputs": [],
   "source": [
    "row_num = 0\n",
    "\n",
    "Fido.fetch(result[:, row_num], path=EUV_DIR+'{file}')"
   ]
  },
  {
   "cell_type": "markdown",
   "metadata": {},
   "source": [
    "## Rename Data\n",
    "\n",
    "Be sure to re-run the **Load Data** section after renaming."
   ]
  },
  {
   "cell_type": "code",
   "execution_count": null,
   "metadata": {},
   "outputs": [],
   "source": [
    "# Delete all gzipped files after renaming\n",
    "remove_gzip = True\n",
    "\n",
    "# Rename all He, magnetogram, and EUV FITS files to include\n",
    "# observation date in title\n",
    "prepare_data.rename_dir(HE_DIR, remove_gzip)\n",
    "prepare_data.rename_dir(MAG_DIR, remove_gzip)\n",
    "prepare_data.rename_dir(EUV_DIR, remove_gzip)"
   ]
  },
  {
   "cell_type": "markdown",
   "metadata": {},
   "source": [
    "# Available Data"
   ]
  },
  {
   "cell_type": "code",
   "execution_count": null,
   "metadata": {},
   "outputs": [],
   "source": [
    "print(f'{len(HE_DATE_LIST)} Available Datetimes for He I Observations:')\n",
    "prepare_data.display_dates(HE_DATE_LIST)"
   ]
  },
  {
   "cell_type": "code",
   "execution_count": null,
   "metadata": {},
   "outputs": [],
   "source": [
    "print(f'{len(MAG_DATE_LIST)} Available Datetimes for Magnetograms:')\n",
    "prepare_data.display_dates(MAG_DATE_LIST)"
   ]
  },
  {
   "cell_type": "code",
   "execution_count": null,
   "metadata": {},
   "outputs": [],
   "source": [
    "print(f'{len(EUV_DATE_LIST)} Available Datetimes for EUV Observations:')\n",
    "prepare_data.display_dates(EUV_DATE_LIST)"
   ]
  },
  {
   "cell_type": "code",
   "execution_count": null,
   "metadata": {},
   "outputs": [],
   "source": [
    "print('He I Observation Coverage: '\n",
    "      f'{len(HE_DATE_LIST)/len(EUV_DATE_LIST)*100:.1f}%')"
   ]
  },
  {
   "cell_type": "code",
   "execution_count": null,
   "metadata": {},
   "outputs": [],
   "source": [
    "print('Available Datetimes for ACWE Confidence Maps:')\n",
    "prepare_data.display_dates(ACWE_DATE_LIST)"
   ]
  },
  {
   "cell_type": "markdown",
   "metadata": {},
   "source": [
    "Observation Comparison: He, Mag, EUV"
   ]
  },
  {
   "cell_type": "code",
   "execution_count": null,
   "metadata": {},
   "outputs": [],
   "source": [
    "smooth_size_percent = 10\n",
    "\n",
    "for he_date_str in HE_DATE_LIST:\n",
    "\n",
    "    mag_date_str = prepare_data.get_nearest_date_str(\n",
    "        MAG_DATE_LIST, selected_date_str=he_date_str\n",
    "    )\n",
    "    euv_date_str = prepare_data.get_nearest_date_str(\n",
    "        date_str_list=EUV_DATE_LIST, selected_date_str=he_date_str\n",
    "    )\n",
    "    \n",
    "    he_fits_file = DATA_FITS_FORMAT.format(\n",
    "        data_dir=HE_DIR, date_str=he_date_str\n",
    "    )\n",
    "    mag_fits_file = DATA_FITS_FORMAT.format(\n",
    "        data_dir=MAG_DIR, date_str=mag_date_str\n",
    "    )\n",
    "    euv_fits_file = DATA_FITS_FORMAT.format(\n",
    "        data_dir=EUV_DIR, date_str=euv_date_str\n",
    "    )\n",
    "    he_map = prepare_data.get_nso_sunpy_map(he_fits_file)\n",
    "    mag_map = prepare_data.get_nso_sunpy_map(mag_fits_file)\n",
    "    euv_map = sunpy.map.Map(euv_fits_file)\n",
    "\n",
    "    # Process magnetogram\n",
    "    smoothed_mag_map = prepare_data.get_smoothed_map(mag_map, smooth_size_percent)\n",
    "\n",
    "    fig = plt.figure(figsize=(18, 5))\n",
    "    \n",
    "    plot_detection.plot_he_map(fig, (1, 3, 1), he_map, he_date_str)\n",
    "\n",
    "    ax = fig.add_subplot(132, projection=mag_map)\n",
    "    mag_map.plot(axes=ax, vmin=-50, vmax=50, title=mag_date_str)\n",
    "    plot_detection.plot_map_contours(ax, smoothed_mag_map)\n",
    "    \n",
    "    plot_detection.plot_euv_map(fig, (1, 3, 3), euv_map, euv_date_str)"
   ]
  },
  {
   "attachments": {},
   "cell_type": "markdown",
   "id": "23",
   "metadata": {},
   "source": [
    "# Data Products\n",
    "\n",
    "Prepare and save pre-processed data and ensemble segmentation maps."
   ]
  },
  {
   "attachments": {},
   "cell_type": "markdown",
   "id": "24",
   "metadata": {},
   "source": [
    "## Pre-Processed Files"
   ]
  },
  {
   "attachments": {},
   "cell_type": "markdown",
   "id": "25",
   "metadata": {},
   "source": [
    "### Pre-Processed Maps"
   ]
  },
  {
   "cell_type": "code",
   "execution_count": null,
   "metadata": {},
   "outputs": [],
   "source": [
    "overwrite = False\n",
    "\n",
    "if not os.path.isdir(PREPROCESS_MAP_SAVE_DIR):\n",
    "    os.makedirs(PREPROCESS_MAP_SAVE_DIR)\n",
    "\n",
    "for he_date_str in HE_DATE_LIST:\n",
    "    \n",
    "    # Optionally overwrite existing files\n",
    "    pre_process_file = (PREPROCESS_MAP_SAVE_DIR + he_date_str\n",
    "                        + '_pre_processed_map.fits')\n",
    "    if os.path.isfile(pre_process_file) and not overwrite:\n",
    "        print((f'He {he_date_str} pre-processed map already exists.'))\n",
    "        continue\n",
    "    \n",
    "    he_fits_file = DATA_FITS_FORMAT.format(\n",
    "        data_dir=HE_DIR, date_str=he_date_str\n",
    "    )\n",
    "    he_map = prepare_data.get_nso_sunpy_map(he_fits_file)\n",
    "    \n",
    "    pre_processed_map = detect.pre_process_v0_5_1(he_map)\n",
    "    \n",
    "    pre_processed_map.save(pre_process_file, overwrite=overwrite)\n",
    "    print(f'{he_date_str} Pre-Processed Map Saved')"
   ]
  },
  {
   "cell_type": "markdown",
   "metadata": {},
   "source": [
    "### Reprojected Magnetograms"
   ]
  },
  {
   "cell_type": "code",
   "execution_count": null,
   "metadata": {},
   "outputs": [],
   "source": [
    "overwrite = False\n",
    "smooth_size_percent = 10\n",
    "\n",
    "if not os.path.isdir(ROTATED_MAG_SAVE_DIR):\n",
    "    os.makedirs(ROTATED_MAG_SAVE_DIR)\n",
    "\n",
    "for he_date_str in HE_DATE_LIST:\n",
    "\n",
    "    mag_date_str = prepare_data.get_nearest_date_str(\n",
    "        MAG_DATE_LIST, selected_date_str=he_date_str\n",
    "    )\n",
    "    \n",
    "    fits_file_name = f'{ROTATED_MAG_SAVE_DIR}Mag{mag_date_str}_He{he_date_str}'\n",
    "    reprojected_fits_file = f'{fits_file_name}.fits'\n",
    "    reprojected_smooth_fits_file = f'{fits_file_name}_smooth.fits'\n",
    "    \n",
    "    # Optionally overwrite existing files\n",
    "    if (os.path.isfile(reprojected_fits_file) or \\\n",
    "        os.path.isfile(reprojected_smooth_fits_file)) and not overwrite:\n",
    "        print((f'{mag_date_str} magnetogram reprojected '\n",
    "                + f'to {he_date_str} already exists.'))\n",
    "        continue\n",
    "    \n",
    "    # Extract He I observation\n",
    "    he_map = prepare_data.get_nso_sunpy_map(HE_DIR + he_date_str + '.fts')\n",
    "    if not he_map:\n",
    "        print(f'{he_date_str} He I observation extraction failed.')\n",
    "        continue\n",
    "    \n",
    "    # Extract Magnetogram observation\n",
    "    mag_map = prepare_data.get_nso_sunpy_map(MAG_DIR + mag_date_str + '.fts')\n",
    "\n",
    "    # Process magnetogram\n",
    "    reprojected_mag_map = prepare_data.diff_rotate(\n",
    "        input_map=mag_map, target_map=he_map\n",
    "    )\n",
    "    \n",
    "    smoothed_map = prepare_data.get_smoothed_map(mag_map, smooth_size_percent)\n",
    "    reprojected_smooth_map = prepare_data.diff_rotate(\n",
    "        input_map=smoothed_map, target_map=he_map\n",
    "    )\n",
    "    \n",
    "    # Save to FITS files\n",
    "    reprojected_mag_map.save(reprojected_fits_file, overwrite=overwrite)\n",
    "    reprojected_smooth_map.save(f'{fits_file_name}_smooth.fits', overwrite=overwrite)\n",
    "    print(f'{mag_date_str} magnetogram reprojected to {he_date_str} maps saved.')"
   ]
  },
  {
   "attachments": {},
   "cell_type": "markdown",
   "id": "29",
   "metadata": {},
   "source": [
    "## Ensemble Maps"
   ]
  },
  {
   "cell_type": "markdown",
   "metadata": {},
   "source": [
    "v1.1"
   ]
  },
  {
   "cell_type": "code",
   "execution_count": null,
   "metadata": {},
   "outputs": [],
   "source": [
    "LDA_FILE_NAME = 'v1_1_LDA_model.pkl'\n",
    "\n",
    "with open(LDA_FILE_NAME, 'rb') as lda_file:\n",
    "    lda = pickle.load(lda_file)"
   ]
  },
  {
   "cell_type": "code",
   "execution_count": null,
   "metadata": {},
   "outputs": [],
   "source": [
    "overwrite = False\n",
    "\n",
    "# v1.0 SOLIS Design\n",
    "percent_of_peak_list = [70, 70, 80, 90]\n",
    "morph_radius_list = [   15, 17, 13, 13] # Mm\n",
    "probability_threshold = 0.4\n",
    "# probability_threshold = 0\n",
    "\n",
    "\n",
    "if not os.path.isdir(DETECTION_MAP_SAVE_DIR):\n",
    "    os.makedirs(DETECTION_MAP_SAVE_DIR)\n",
    "\n",
    "for he_date_str in HE_DATE_LIST:\n",
    "    \n",
    "    # Optionally overwrite existing files\n",
    "    ensemble_file = f'{DETECTION_MAP_SAVE_DIR}{he_date_str}_ensemble_map.fits'\n",
    "    if os.path.isfile(ensemble_file) and not overwrite:\n",
    "        print((f'He {he_date_str} ensemble map already exists.'))\n",
    "        continue\n",
    "    \n",
    "    # Extract He I map\n",
    "    he_fits_file = DATA_FITS_FORMAT.format(\n",
    "        data_dir=HE_DIR, date_str=he_date_str\n",
    "    )\n",
    "    he_map = prepare_data.get_nso_sunpy_map(he_fits_file)\n",
    "    he_map_data = np.flipud(he_map.data)\n",
    "    \n",
    "    # Extract pre-processed map\n",
    "    pre_process_file = (PREPROCESS_MAP_SAVE_DIR + he_date_str\n",
    "                        + '_pre_processed_map.fits')\n",
    "    pre_processed_map = sunpy.map.Map(pre_process_file)\n",
    "\n",
    "    # Extract saved processed magnetograms\n",
    "    mag_date_str = prepare_data.get_nearest_date_str(\n",
    "        MAG_DATE_LIST, selected_date_str=he_date_str\n",
    "    )\n",
    "    reprojected_fits_file = (f'{ROTATED_MAG_SAVE_DIR}'\n",
    "                             f'Mag{mag_date_str}_He{he_date_str}.fits')\n",
    "    reprojected_mag_map = sunpy.map.Map(reprojected_fits_file)\n",
    "\n",
    "    ensemble_map_data = detect.get_ensemble_v1_1(\n",
    "        he_map_data, pre_processed_map, reprojected_mag_map,\n",
    "        percent_of_peak_list, morph_radius_list, lda, probability_threshold\n",
    "    )[0]\n",
    "    ensemble_map = sunpy.map.Map(\n",
    "        np.flipud(ensemble_map_data), pre_processed_map.meta\n",
    "    )\n",
    "    \n",
    "    ensemble_map.save(ensemble_file, overwrite=overwrite)\n",
    "    print(f'{he_date_str} Ensemble Map Saved')"
   ]
  },
  {
   "cell_type": "markdown",
   "metadata": {},
   "source": [
    "v1.0"
   ]
  },
  {
   "cell_type": "code",
   "execution_count": null,
   "metadata": {},
   "outputs": [],
   "source": [
    "overwrite = False\n",
    "\n",
    "# v1.0 SOLIS Design\n",
    "percent_of_peak_list = [70, 70, 80, 90]\n",
    "morph_radius_list = [   15, 17, 13, 13] # Mm\n",
    "unipolarity_threshold = 0.5\n",
    "# unipolarity_threshold = 0\n",
    "\n",
    "# # v1.0 KPVT Design\n",
    "# percent_of_peak_list = [85, 105, 85, 95]\n",
    "# morph_radius_list = [   17, 13, 15, 13] # Mm\n",
    "# unipolarity_threshold = 0\n",
    "\n",
    "\n",
    "if not os.path.isdir(DETECTION_MAP_SAVE_DIR):\n",
    "    os.makedirs(DETECTION_MAP_SAVE_DIR)\n",
    "\n",
    "for he_date_str in HE_DATE_LIST:\n",
    "    \n",
    "    # Optionally overwrite existing files\n",
    "    ensemble_file = f'{DETECTION_MAP_SAVE_DIR}{he_date_str}_ensemble_map.fits'\n",
    "    if os.path.isfile(ensemble_file) and not overwrite:\n",
    "        print((f'He {he_date_str} ensemble map already exists.'))\n",
    "        continue\n",
    "    \n",
    "    # Extract pre-processed map\n",
    "    pre_process_file = (PREPROCESS_MAP_SAVE_DIR + he_date_str\n",
    "                        + '_pre_processed_map.fits')\n",
    "    pre_processed_map = sunpy.map.Map(pre_process_file)\n",
    "\n",
    "    # Extract saved processed magnetograms\n",
    "    mag_date_str = prepare_data.get_nearest_date_str(\n",
    "        MAG_DATE_LIST, selected_date_str=he_date_str\n",
    "    )\n",
    "    reprojected_fits_file = (f'{ROTATED_MAG_SAVE_DIR}'\n",
    "                             f'Mag{mag_date_str}_He{he_date_str}.fits')\n",
    "    reprojected_mag_map = sunpy.map.Map(reprojected_fits_file)\n",
    "\n",
    "    ensemble_map_data = detect.get_ensemble_v1_0(\n",
    "        pre_processed_map, reprojected_mag_map,\n",
    "        percent_of_peak_list, morph_radius_list,\n",
    "        unipolarity_threshold\n",
    "    )[0]\n",
    "    ensemble_map = sunpy.map.Map(\n",
    "        np.flipud(ensemble_map_data), pre_processed_map.meta\n",
    "    )\n",
    "    \n",
    "    ensemble_map.save(ensemble_file, overwrite=overwrite)\n",
    "    print(f'{he_date_str} Ensemble Map Saved')"
   ]
  },
  {
   "cell_type": "markdown",
   "metadata": {},
   "source": [
    "## Fused Maps"
   ]
  },
  {
   "cell_type": "code",
   "execution_count": null,
   "metadata": {},
   "outputs": [],
   "source": [
    "overwrite = False\n",
    "\n",
    "if not os.path.isdir(FUSED_MAP_SAVE_DIR):\n",
    "    os.makedirs(FUSED_MAP_SAVE_DIR)\n",
    "\n",
    "for he_date_str in HE_DATE_LIST:\n",
    "    \n",
    "    # Optionally overwrite existing files\n",
    "    fused_file = f'{FUSED_MAP_SAVE_DIR}{he_date_str}_fused_map.fits'\n",
    "    if os.path.isfile(fused_file) and not overwrite:\n",
    "        print((f'He {he_date_str} ensemble map already exists.'))\n",
    "        continue\n",
    "    \n",
    "    # Extract saved ACWE map\n",
    "    acwe_date_str = prepare_data.get_nearest_date_str(\n",
    "        ACWE_DATE_LIST, he_date_str\n",
    "    )\n",
    "    acwe_map = prepare_data.get_acwe_sunpy_map(\n",
    "        acwe_date_str, ACWE_DATE_LIST\n",
    "    )\n",
    "    \n",
    "    # Extract saved ensemble map\n",
    "    ensemble_file = f'{DETECTION_MAP_SAVE_DIR}{he_date_str}_ensemble_map.fits'\n",
    "    ensemble_map = sunpy.map.Map(ensemble_file)\n",
    "    ensemble_map_data = np.flipud(ensemble_map.data)\n",
    "\n",
    "    # Align ACWE map to STRIDE map datetime via differential rotation\n",
    "    rotated_acwe_map = prepare_data.diff_rotate(acwe_map, ensemble_map)\n",
    "    rotated_acwe_map_data = np.flipud(rotated_acwe_map.data)\n",
    "\n",
    "    # Fuse by taking pixel-wise maximum confidence\n",
    "    fused_map_data = np.max(\n",
    "        np.stack((ensemble_map_data, rotated_acwe_map_data)), axis=0\n",
    "    )\n",
    "    fused_map = sunpy.map.Map(np.flipud(fused_map_data), ensemble_map.meta)\n",
    "    \n",
    "    fused_map.save(fused_file, overwrite=overwrite)\n",
    "    print(f'{he_date_str} Ensemble Map Saved')"
   ]
  },
  {
   "cell_type": "markdown",
   "metadata": {},
   "source": [
    "# Data Product Plots"
   ]
  },
  {
   "cell_type": "markdown",
   "metadata": {},
   "source": [
    "## Write Images to Video\n",
    "\n",
    "Run directly after saving many images to a single output directory to compile them into a video."
   ]
  },
  {
   "cell_type": "code",
   "execution_count": null,
   "metadata": {},
   "outputs": [],
   "source": [
    "detect.write_video(out_dir, fps=2)"
   ]
  },
  {
   "cell_type": "markdown",
   "metadata": {},
   "source": [
    "## Pre-Process Comparison\n",
    "\n",
    "He I and pre-processed He I"
   ]
  },
  {
   "cell_type": "code",
   "execution_count": null,
   "metadata": {},
   "outputs": [],
   "source": [
    "for he_date_str in HE_DATE_LIST:\n",
    "    \n",
    "    he_fits_file = DATA_FITS_FORMAT.format(\n",
    "        data_dir=HE_DIR, date_str=he_date_str\n",
    "    )\n",
    "    he_map = prepare_data.get_nso_sunpy_map(he_fits_file)\n",
    "    if not he_map:\n",
    "        print(f'{he_date_str} He I observation extraction failed.')\n",
    "        continue\n",
    "    \n",
    "    pre_process_file = (PREPROCESS_MAP_SAVE_DIR + he_date_str\n",
    "                        + '_pre_processed_map.fits')\n",
    "    pre_processed_map = sunpy.map.Map(pre_process_file)\n",
    "\n",
    "    fig = plt.figure(figsize=(10, 4))\n",
    "    \n",
    "    plot_detection.plot_he_map(fig, (1, 2, 1), he_map, he_date_str)\n",
    "    \n",
    "    ax = fig.add_subplot(122, projection=pre_processed_map)\n",
    "    pre_processed_map.plot(axes=ax, title=he_date_str)"
   ]
  },
  {
   "cell_type": "markdown",
   "metadata": {},
   "source": [
    "## Ensemble Comparison\n",
    "\n",
    "Plot ensemble segmentation maps alongside pre-processed data."
   ]
  },
  {
   "cell_type": "markdown",
   "metadata": {},
   "source": [
    "### EUV Comparison: He I, Ensemble with Inversion Lines, & EUV"
   ]
  },
  {
   "cell_type": "markdown",
   "metadata": {},
   "source": [
    "v1.0+"
   ]
  },
  {
   "cell_type": "code",
   "execution_count": null,
   "metadata": {},
   "outputs": [],
   "source": [
    "overwrite = True\n",
    "out_dir = DETECTION_IMAGE_DIR + 'EUV_Comparison/'\n",
    "\n",
    "if not os.path.isdir(out_dir):\n",
    "    os.makedirs(out_dir)\n",
    "\n",
    "for euv_date_str in EUV_DATE_LIST:\n",
    "    \n",
    "    # Optionally overwrite existing files\n",
    "    comparison_img_file = f'{out_dir}EUV{euv_date_str}.jpg'\n",
    "    if os.path.isfile(comparison_img_file) and not overwrite:\n",
    "        print((f'EUV {euv_date_str} comparison already exists.'))\n",
    "        continue\n",
    "    \n",
    "    he_date_str = prepare_data.get_latest_date_str(\n",
    "        HE_DATE_LIST, selected_date_str=euv_date_str,\n",
    "        hr_window=7\n",
    "        \n",
    "    )\n",
    "    mag_date_str = prepare_data.get_nearest_date_str(\n",
    "        MAG_DATE_LIST, selected_date_str=he_date_str\n",
    "    )\n",
    "    \n",
    "    fig = plt.figure(figsize=(21, 5))\n",
    "    plot_detection.plot_he_neutral_lines_euv_v1_0(\n",
    "        fig, he_date_str, mag_date_str, euv_date_str\n",
    "    )\n",
    "    \n",
    "    # Save plot\n",
    "    plt.savefig(comparison_img_file)\n",
    "    plt.close(fig)\n",
    "    print(f'{euv_date_str} map comparison saved.')"
   ]
  },
  {
   "cell_type": "markdown",
   "metadata": {},
   "source": [
    "v0.5.1 & vY"
   ]
  },
  {
   "cell_type": "code",
   "execution_count": null,
   "metadata": {},
   "outputs": [],
   "source": [
    "overwrite = True\n",
    "# Option to display Heliographic reprojected maps. Leave as False\n",
    "hg_reproject = False\n",
    "out_dir = DETECTION_IMAGE_DIR + 'EUV_Comparison/'\n",
    "\n",
    "if not os.path.isdir(out_dir):\n",
    "    os.makedirs(out_dir)\n",
    "\n",
    "for euv_date_str in EUV_DATE_LIST:\n",
    "    \n",
    "    # Optionally overwrite existing files\n",
    "    comparison_img_file = f'{out_dir}EUV{euv_date_str}.jpg'\n",
    "    if os.path.isfile(comparison_img_file) and not overwrite:\n",
    "        print((f'EUV {euv_date_str} comparison already exists.'))\n",
    "        continue\n",
    "    \n",
    "    he_date_str = prepare_data.get_latest_date_str(\n",
    "        HE_DATE_LIST, selected_date_str=euv_date_str\n",
    "    )\n",
    "    mag_date_str = prepare_data.get_nearest_date_str(\n",
    "        MAG_DATE_LIST, selected_date_str=he_date_str\n",
    "    )\n",
    "    \n",
    "    if hg_reproject:\n",
    "        fig = plt.figure(figsize=(22, 5))\n",
    "    else:\n",
    "        fig = plt.figure(figsize=(18, 5))\n",
    "    \n",
    "    plot_detection.plot_he_neutral_lines_euv_v0_5_1(\n",
    "        fig, he_date_str, mag_date_str, euv_date_str, hg_reproject=False\n",
    "    )\n",
    "    \n",
    "    # Save plot\n",
    "    plt.savefig(comparison_img_file)\n",
    "    plt.close(fig)\n",
    "    print(f'{euv_date_str} map comparison saved.')"
   ]
  },
  {
   "cell_type": "markdown",
   "metadata": {},
   "source": [
    "v0.2-v0.5"
   ]
  },
  {
   "cell_type": "code",
   "execution_count": null,
   "metadata": {},
   "outputs": [],
   "source": [
    "overwrite = False\n",
    "out_dir = DETECTION_IMAGE_DIR + 'EUV_Comparison/'\n",
    "\n",
    "if not os.path.isdir(out_dir):\n",
    "    os.makedirs(out_dir)\n",
    "\n",
    "for euv_date_str in EUV_DATE_LIST:\n",
    "    \n",
    "    # Optionally overwrite existing files\n",
    "    comparison_img_file = f'{out_dir}EUV{euv_date_str}.jpg'\n",
    "    if os.path.isfile(comparison_img_file) and not overwrite:\n",
    "        print((f'EUV {euv_date_str} comparison already exists.'))\n",
    "        continue\n",
    "    \n",
    "    he_date_str = prepare_data.get_latest_date_str(\n",
    "        HE_DATE_LIST, selected_date_str=euv_date_str\n",
    "    )\n",
    "    mag_date_str = prepare_data.get_nearest_date_str(\n",
    "        MAG_DATE_LIST, selected_date_str=he_date_str\n",
    "    )\n",
    "    \n",
    "    fig = plt.figure(figsize=(18, 5))\n",
    "    plot_detection.plot_he_neutral_lines_euv_comparison(\n",
    "        fig, he_date_str, mag_date_str, euv_date_str,\n",
    "        ROTATED_MAG_SAVE_DIR\n",
    "    )\n",
    "    \n",
    "    # Save plot\n",
    "    plt.savefig(comparison_img_file)\n",
    "    plt.close(fig)\n",
    "    print(f'{euv_date_str} map comparison saved.')"
   ]
  },
  {
   "cell_type": "markdown",
   "metadata": {},
   "source": [
    "Version Comparison"
   ]
  },
  {
   "cell_type": "code",
   "execution_count": null,
   "metadata": {},
   "outputs": [],
   "source": [
    "overwrite = True\n",
    "# out_dir = (DETECTION_IMAGE_DIR + '_Version_Comparison'\n",
    "#            + DATE_DIR + 'v0_2_v0_4_Unipolar/')\n",
    "out_dir = (DETECTION_IMAGE_DIR + '_Version_Comparison'\n",
    "           + DATE_DIR + 'v0_5_v0_6/')\n",
    "\n",
    "if not os.path.isdir(out_dir):\n",
    "    os.makedirs(out_dir)\n",
    "\n",
    "# comparison_version_dir = DETECT_DIR + 'v0_1/' + 'Saved_npy_Files/'\n",
    "comparison_version_dir = DETECT_DIR + 'v0_5/' + 'Saved_npy_Files/'\n",
    "\n",
    "for euv_date_str in EUV_DATE_LIST:\n",
    "    \n",
    "    # Optionally overwrite existing files\n",
    "    comparison_img_file = f'{out_dir}EUV{euv_date_str}.jpg'\n",
    "    if os.path.isfile(comparison_img_file) and not overwrite:\n",
    "        print((f'EUV {euv_date_str} comparison already exists.'))\n",
    "        continue\n",
    "    \n",
    "    he_date_str = prepare_data.get_latest_date_str(\n",
    "        HE_DATE_LIST, selected_date_str=euv_date_str\n",
    "    )\n",
    "    mag_date_str = prepare_data.get_nearest_date_str(\n",
    "        MAG_DATE_LIST, selected_date_str=he_date_str\n",
    "    )\n",
    "    \n",
    "    # Extract He I observation\n",
    "    he_map = prepare_data.get_nso_sunpy_map(HE_DIR + he_date_str + '.fts')\n",
    "    if not he_map:\n",
    "        print(f'{he_date_str} He I observation extraction failed.')\n",
    "    \n",
    "    # Extract comparison saved ensemble map array and convert to Sunpy map\n",
    "    comparison_file = f'{comparison_version_dir}{he_date_str}_ensemble_map.npy'\n",
    "    comparison_map_data = np.load(comparison_file, allow_pickle=True)[-1]\n",
    "    comparison_map_data = np.where(np.isnan(ensemble_map_data), np.nan, comparison_map_data)\n",
    "    comparison_map = sunpy.map.Map(np.flipud(comparison_map_data), he_map.meta)\n",
    "    \n",
    "    # Extract saved ensemble map array and convert to Sunpy map\n",
    "    ensemble_file = f'{DETECTION_SAVE_DIR}{he_date_str}_ensemble_map.npy'\n",
    "    ensemble_map_data = np.load(ensemble_file, allow_pickle=True)[-1]\n",
    "    ensemble_map = sunpy.map.Map(np.flipud(ensemble_map_data), he_map.meta)\n",
    "    ensemble_map.plot_settings['cmap'] = colormaps['magma']\n",
    "\n",
    "    \n",
    "    # Extract saved processed magnetogram\n",
    "    reprojected_smooth_file = (f'{ROTATED_MAG_SAVE_DIR}Mag{mag_date_str}'\n",
    "                               + f'_He{he_date_str}_smooth.fits')\n",
    "    reprojected_smooth_map = sunpy.map.Map(reprojected_smooth_file)\n",
    "    \n",
    "    euv_map = sunpy.map.Map(EUV_DIR + euv_date_str + '.fts')\n",
    "    \n",
    "    fig = plt.figure(figsize=(12, 11))\n",
    "    \n",
    "    # Plot He observation\n",
    "    plot_detection.plot_he_map(fig, (2, 2, 1), he_map, he_date_str)\n",
    "    \n",
    "    plot_detection.plot_euv_map(fig, (2, 2, 2), euv_map, euv_date_str)\n",
    "    \n",
    "    # Plot ensemble map with overlayed neutral lines\n",
    "    ax = fig.add_subplot(2, 2, 3, projection=he_map)\n",
    "    comparison_map.plot(axes=ax, title='v0.5')\n",
    "    plot_detection.plot_map_contours(ax, reprojected_smooth_map)\n",
    "    \n",
    "    # Plot ensemble map with overlayed neutral lines\n",
    "    ax = fig.add_subplot(2, 2, 4, projection=he_map)\n",
    "    ensemble_map.plot(axes=ax, title='v0.6')\n",
    "    plot_detection.plot_map_contours(ax, reprojected_smooth_map)\n",
    "\n",
    "    # Save plot\n",
    "    plt.savefig(comparison_img_file)\n",
    "    plt.close(fig)\n",
    "    print(f'{euv_date_str} map comparison saved.')"
   ]
  },
  {
   "cell_type": "markdown",
   "metadata": {},
   "source": [
    "### He I & Ensemble with Inversion Lines"
   ]
  },
  {
   "cell_type": "code",
   "execution_count": null,
   "metadata": {},
   "outputs": [],
   "source": [
    "overwrite = True\n",
    "out_dir = DETECTION_IMAGE_DIR + 'He_Comparison/'\n",
    "\n",
    "\n",
    "if not os.path.isdir(out_dir):\n",
    "    os.makedirs(out_dir)\n",
    "\n",
    "for he_date_str in HE_DATE_LIST[:1]:\n",
    "    \n",
    "    # Optionally overwrite existing files\n",
    "    comparison_img_file = f'{out_dir}{he_date_str}.jpg'\n",
    "    if os.path.isfile(comparison_img_file) and not overwrite:\n",
    "        print((f'He I {he_date_str} comparison already exists.'))\n",
    "        continue\n",
    "    \n",
    "    mag_date_str = prepare_data.get_nearest_date_str(\n",
    "        MAG_DATE_LIST, selected_date_str=he_date_str\n",
    "    )\n",
    "    \n",
    "    he_map = prepare_data.get_nso_sunpy_map(HE_DIR + he_date_str + '.fts')\n",
    "    if not he_map:\n",
    "        print(f'{he_date_str} He I observation extraction failed.')\n",
    "    \n",
    "    # Extract saved ensemble map array and convert to Sunpy map\n",
    "    ensemble_file = f'{DETECTION_MAP_SAVE_DIR}{he_date_str}_ensemble_map.fits'\n",
    "    ensemble_map = sunpy.map.Map(ensemble_file)\n",
    "    \n",
    "    # Extract saved processed magnetogram\n",
    "    reprojected_smooth_file = (f'{ROTATED_MAG_SAVE_DIR}Mag{mag_date_str}'\n",
    "                            + f'_He{he_date_str}_smooth.fits')\n",
    "    reprojected_smooth_map = sunpy.map.Map(reprojected_smooth_file)\n",
    "\n",
    "    fig = plt.figure(figsize=(12, 5))\n",
    "    plot_detection.plot_he_map(fig, (1, 2, 1), he_map, he_date_str)\n",
    "    \n",
    "    # Plot ensemble map with overlayed neutral lines\n",
    "    ax = fig.add_subplot(1, 2, 2, projection=ensemble_map)\n",
    "    ensemble_map.plot(axes=ax, title='', cmap='magma')\n",
    "    plot_detection.plot_map_contours(ax, reprojected_smooth_map)\n",
    "\n",
    "    plt.savefig(comparison_img_file)\n",
    "    plt.close(fig)\n",
    "    print(f'{he_date_str} map saved.')"
   ]
  },
  {
   "attachments": {},
   "cell_type": "markdown",
   "id": "54",
   "metadata": {},
   "source": [
    "### Pre-Processed & Ensemble Maps"
   ]
  },
  {
   "cell_type": "markdown",
   "metadata": {},
   "source": [
    "v1.0"
   ]
  },
  {
   "cell_type": "code",
   "execution_count": null,
   "metadata": {},
   "outputs": [],
   "source": [
    "out_dir = DETECTION_IMAGE_DIR + 'Preprocess_Comparison/'\n",
    "\n",
    "\n",
    "if not os.path.isdir(out_dir):\n",
    "    os.makedirs(out_dir)\n",
    "\n",
    "for he_date_str in HE_DATE_LIST[:1]:\n",
    "    \n",
    "    pre_process_file = (PREPROCESS_MAP_SAVE_DIR + he_date_str\n",
    "                        + '_pre_processed_map.fits')\n",
    "    pre_processed_map = sunpy.map.Map(pre_process_file)\n",
    "    \n",
    "    ensemble_file = f'{DETECTION_MAP_SAVE_DIR}{he_date_str}_ensemble_map.fits'\n",
    "    ensemble_map = sunpy.map.Map(ensemble_file)\n",
    "\n",
    "    fig = plt.figure(figsize=(12, 5))\n",
    "    ax = fig.add_subplot(1, 2, 1, projection=pre_processed_map)\n",
    "    pre_processed_map.plot(axes=ax, title=he_date_str)\n",
    "    \n",
    "    ax = fig.add_subplot(1, 2, 2, projection=ensemble_map)\n",
    "    ensemble_map.plot(axes=ax, title='', cmap='magma', vmin=0, vmax=1)\n",
    "\n",
    "    # plt.savefig(f'{out_dir}{he_date_str}.jpg')\n",
    "    # plt.close(fig)\n",
    "    # print(f'{he_date_str} map saved.')"
   ]
  },
  {
   "cell_type": "markdown",
   "metadata": {},
   "source": [
    "v0.5.1"
   ]
  },
  {
   "cell_type": "code",
   "execution_count": null,
   "metadata": {},
   "outputs": [],
   "source": [
    "out_dir = DETECTION_IMAGE_DIR + 'Preprocess_Comparison/'\n",
    "\n",
    "\n",
    "if not os.path.isdir(out_dir):\n",
    "    os.makedirs(out_dir)\n",
    "\n",
    "for he_date_str in HE_DATE_LIST[:1]:\n",
    "    \n",
    "    pre_process_file = (PREPROCESS_MAP_SAVE_DIR + he_date_str\n",
    "                        + '_pre_processed_map.fits')\n",
    "    pre_processed_map = sunpy.map.Map(pre_process_file)\n",
    "    \n",
    "    ensemble_file = f'{DETECTION_MAP_SAVE_DIR}{he_date_str}_ensemble_map.fits'\n",
    "    ensemble_map = sunpy.map.Map(ensemble_file)\n",
    "\n",
    "    fig = plt.figure(figsize=(12, 5))\n",
    "    ax = fig.add_subplot(1, 2, 1, projection=pre_processed_map)\n",
    "    pre_processed_map.plot(axes=ax, title=he_date_str)\n",
    "    \n",
    "    ax = fig.add_subplot(1, 2, 2, projection=ensemble_map)\n",
    "    ensemble_map.plot(axes=ax, title='', cmap='magma', vmin=0, vmax=100)\n",
    "\n",
    "    # plt.savefig(f'{out_dir}{he_date_str}.jpg')\n",
    "    # plt.close(fig)\n",
    "    # print(f'{he_date_str} map saved.')"
   ]
  },
  {
   "cell_type": "markdown",
   "metadata": {},
   "source": [
    "v0.2-v0.5"
   ]
  },
  {
   "cell_type": "code",
   "execution_count": null,
   "id": "60",
   "metadata": {},
   "outputs": [],
   "source": [
    "out_dir = DETECTION_IMAGE_DIR + 'Preprocess_Comparison/'\n",
    "\n",
    "\n",
    "if not os.path.isdir(out_dir):\n",
    "    os.makedirs(out_dir)\n",
    "\n",
    "for he_date_str in HE_DATE_LIST:\n",
    "    \n",
    "    pre_process_file = (PREPROCESS_NPY_SAVE_DIR + he_date_str\n",
    "                        + '_pre_processed_map.npy')\n",
    "    pre_processed_map = np.load(pre_process_file, allow_pickle=True)[-1]\n",
    "    \n",
    "    ensemble_file = f'{DETECTION_SAVE_DIR}{he_date_str}_ensemble_map.npy'\n",
    "    ensemble_map = np.load(ensemble_file, allow_pickle=True)[-1]\n",
    "\n",
    "    fig, axes = plt.subplots(nrows=1, ncols=2, figsize=(20, 10))\n",
    "    ax = axes.ravel()\n",
    "\n",
    "    ax[0].set_title(he_date_str, fontsize=24)\n",
    "    ax[0].imshow(pre_processed_map, cmap=plt.cm.gray)\n",
    "    \n",
    "    ax[1].imshow(ensemble_map, cmap=plt.cm.magma)\n",
    "\n",
    "    plt.savefig(f'{out_dir}{he_date_str}.jpg')\n",
    "    plt.close(fig)\n",
    "    print(f'{he_date_str} map saved.')"
   ]
  },
  {
   "cell_type": "markdown",
   "metadata": {},
   "source": [
    "vY"
   ]
  },
  {
   "cell_type": "code",
   "execution_count": null,
   "metadata": {},
   "outputs": [],
   "source": [
    "out_dir = DETECTION_IMAGE_DIR + 'Preprocess_Comparison/'\n",
    "\n",
    "\n",
    "if not os.path.isdir(out_dir):\n",
    "    os.makedirs(out_dir)\n",
    "\n",
    "for he_date_str in HE_DATE_LIST:\n",
    "    \n",
    "    pre_process_file = (PREPROCESS_MAP_SAVE_DIR + he_date_str\n",
    "                        + '_pre_processed_map.fits')\n",
    "    pre_processed_map = sunpy.map.Map(pre_process_file)\n",
    "    \n",
    "    ensemble_file = f'{DETECTION_MAP_SAVE_DIR}{he_date_str}_ensemble_map.fits'\n",
    "    ensemble_map = sunpy.map.Map(ensemble_file)\n",
    "\n",
    "    fig = plt.figure(figsize=(18, 5))\n",
    "    ax = fig.add_subplot(1, 5, (1,2), projection=pre_processed_map)\n",
    "    pre_processed_map.plot(axes=ax, title=he_date_str)\n",
    "    \n",
    "    # Plot ensemble map with overlayed neutral lines\n",
    "    ax = fig.add_subplot(1, 5, (3,5), projection=ensemble_map)\n",
    "    ensemble_map.plot(axes=ax, title='', cmap='magma')\n",
    "\n",
    "    plt.savefig(f'{out_dir}{he_date_str}.jpg')\n",
    "    plt.close(fig)\n",
    "    print(f'{he_date_str} map saved.')"
   ]
  },
  {
   "cell_type": "markdown",
   "metadata": {},
   "source": [
    "### Magnetic Comparison: He I, Ensemble, & Magnetogram with Inversion Lines"
   ]
  },
  {
   "cell_type": "markdown",
   "metadata": {},
   "source": [
    "v0.2-v0.5 Only"
   ]
  },
  {
   "cell_type": "code",
   "execution_count": null,
   "metadata": {},
   "outputs": [],
   "source": [
    "out_dir = DETECTION_IMAGE_DIR + 'Mag_Comparison/'\n",
    "\n",
    "if not os.path.isdir(out_dir):\n",
    "    os.makedirs(out_dir)\n",
    "\n",
    "for he_date_str in HE_DATE_LIST[-10:]:\n",
    "\n",
    "    mag_date_str = prepare_data.get_nearest_date_str(\n",
    "        MAG_DATE_LIST, selected_date_str=he_date_str\n",
    "    )\n",
    "\n",
    "    # Extract He I observation\n",
    "    he_map = prepare_data.get_nso_sunpy_map(HE_DIR + he_date_str + '.fts')\n",
    "    if not he_map:\n",
    "        print(f'{he_date_str} He I observation extraction failed.')\n",
    "        continue\n",
    "\n",
    "    # Extract saved processed magnetograms\n",
    "    mag_fits_name = f'{ROTATED_MAG_SAVE_DIR}Mag{mag_date_str}_He{he_date_str}'\n",
    "    reprojected_fits_file = f'{mag_fits_name}.fits'\n",
    "    reprojected_smooth_fits_file = f'{mag_fits_name}_smooth.fits'\n",
    "    reprojected_mag_map = sunpy.map.Map(reprojected_fits_file)\n",
    "    reprojected_smooth_map = sunpy.map.Map(reprojected_smooth_fits_file)\n",
    "\n",
    "    # Extract saved ensemble map array and convert to Sunpy map\n",
    "    ensemble_file = f'{DETECTION_SAVE_DIR}{he_date_str}_ensemble_map.npy'\n",
    "    ensemble_map_data = np.load(ensemble_file, allow_pickle=True)[-1]\n",
    "    ensemble_map = sunpy.map.Map(np.flipud(ensemble_map_data), he_map.meta)\n",
    "    ensemble_map.plot_settings['cmap'] = colormaps['magma']\n",
    "\n",
    "    fig = plt.figure(figsize=(18, 5))\n",
    "\n",
    "    plot_detection.plot_he_map(fig, (1, 3, 1), he_map, he_date_str)\n",
    "\n",
    "    ax = fig.add_subplot(132, projection=he_map)\n",
    "    ensemble_map.plot(axes=ax, title='')\n",
    "    plot_detection.plot_map_contours(ax, reprojected_smooth_map)\n",
    "\n",
    "    ax = fig.add_subplot(133, projection=he_map)\n",
    "    reprojected_mag_map.plot(axes=ax, vmin=-50, vmax=50, title=mag_date_str)\n",
    "    plot_detection.plot_map_contours(ax, reprojected_smooth_map)\n",
    "\n",
    "    plt.savefig(f'{out_dir}He{he_date_str}.jpg')\n",
    "    plt.close(fig)\n",
    "\n",
    "    print(f'{he_date_str} map comparison saved')"
   ]
  },
  {
   "cell_type": "markdown",
   "metadata": {},
   "source": [
    "### Full Comparison: He I, Ensemble, Magnetogram, & EUV"
   ]
  },
  {
   "cell_type": "markdown",
   "metadata": {},
   "source": [
    "v0.2-v0.5 Only"
   ]
  },
  {
   "cell_type": "code",
   "execution_count": null,
   "metadata": {},
   "outputs": [],
   "source": [
    "overwrite = True\n",
    "out_dir = DETECTION_IMAGE_DIR + 'Full_Comparison/'\n",
    "smooth_size_percent = 10\n",
    "\n",
    "if not os.path.isdir(out_dir):\n",
    "    os.makedirs(out_dir)\n",
    "\n",
    "for euv_date_str in EUV_DATE_LIST:\n",
    "    \n",
    "    # Optionally overwrite existing files\n",
    "    comparison_img_file = f'{out_dir}EUV{euv_date_str}.jpg'\n",
    "    if os.path.isfile(comparison_img_file) and not overwrite:\n",
    "        print((f'EUV {euv_date_str} full comparison already exists.'))\n",
    "        continue\n",
    "\n",
    "    he_date_str = prepare_data.get_latest_date_str(\n",
    "        HE_DATE_LIST, selected_date_str=euv_date_str\n",
    "    )\n",
    "    mag_date_str = prepare_data.get_nearest_date_str(\n",
    "        MAG_DATE_LIST, selected_date_str=he_date_str\n",
    "    )\n",
    "    \n",
    "    # Extract He I observation\n",
    "    he_map = prepare_data.get_nso_sunpy_map(HE_DIR + he_date_str + '.fts')\n",
    "    if not he_map:\n",
    "        print(f'{he_date_str} He I observation extraction failed.')\n",
    "        continue\n",
    "    \n",
    "    mag_map = prepare_data.get_nso_sunpy_map(MAG_DIR + mag_date_str + '.fts')\n",
    "    \n",
    "    # Extract and crop EUV map to similar zoom level to other observations \n",
    "    euv_map = sunpy.map.Map(EUV_DIR + euv_date_str + '.fts')\n",
    "    euv_map = euv_map.submap(\n",
    "        bottom_left=SkyCoord(\n",
    "            Tx=-1050*u.arcsec, Ty=-1050*u.arcsec,\n",
    "                 frame=euv_map.coordinate_frame\n",
    "        ),\n",
    "        top_right=SkyCoord(\n",
    "            Tx=1050*u.arcsec, Ty=1050*u.arcsec,\n",
    "            frame=euv_map.coordinate_frame\n",
    "        )\n",
    "    )\n",
    "\n",
    "    # Process magnetogram\n",
    "    smoothed_mag_map = prepare_data.get_smoothed_map(mag_map, smooth_size_percent)\n",
    "    \n",
    "    # Extract saved ensemble map array and convert to Sunpy map\n",
    "    ensemble_file = f'{DETECTION_SAVE_DIR}{he_date_str}_ensemble_map.npy'\n",
    "    ensemble_map_data = np.load(ensemble_file, allow_pickle=True)[-1]\n",
    "    ensemble_map = sunpy.map.Map(np.flipud(ensemble_map_data), he_map.meta)\n",
    "    ensemble_map.plot_settings['cmap'] = colormaps['magma']\n",
    "    \n",
    "    fig = plt.figure(figsize=(24, 5))\n",
    "\n",
    "    plot_detection.plot_he_map(fig, (1, 4, 1), he_map, he_date_str)\n",
    "\n",
    "    ax = fig.add_subplot(142, projection=he_map)\n",
    "    ensemble_map.plot(axes=ax, title='')\n",
    "    \n",
    "    ax = fig.add_subplot(143, projection=mag_map)\n",
    "    mag_map.plot(axes=ax, vmin=-50, vmax=50, title=mag_date_str)\n",
    "    plot_detection.plot_map_contours(ax, smoothed_mag_map)\n",
    "    \n",
    "    plot_detection.plot_euv_map(fig, (1, 4, 4), euv_map, euv_date_str)\n",
    "    \n",
    "    plt.savefig(comparison_img_file)\n",
    "    plt.close(fig)\n",
    "\n",
    "    print(f'{euv_date_str} map comparison saved.')"
   ]
  },
  {
   "cell_type": "markdown",
   "metadata": {},
   "source": [
    "## Single Mask Comparison: Pre-Processed He I & Single Mask"
   ]
  },
  {
   "cell_type": "markdown",
   "metadata": {},
   "source": [
    "v0.1 Only"
   ]
  },
  {
   "cell_type": "code",
   "execution_count": null,
   "metadata": {},
   "outputs": [],
   "source": [
    "out_dir = DETECTION_IMAGE_DIR + 'Preprocess_Single_Comparison/'\n",
    "\n",
    "\n",
    "if not os.path.isdir(out_dir):\n",
    "    os.makedirs(out_dir)\n",
    "\n",
    "for he_date_str in HE_DATE_LIST:\n",
    "    \n",
    "    pre_process_file = (PREPROCESS_NPY_SAVE_DIR + he_date_str\n",
    "                        + '_pre_processed_map.npy')\n",
    "    pre_processed_map = np.load(pre_process_file, allow_pickle=True)[-1]\n",
    "    \n",
    "    he_fits_file = DATA_FITS_FORMAT.format(\n",
    "        data_dir=HE_DIR, date_str=he_date_str\n",
    "    )\n",
    "    raw_he = prepare_data.get_image_from_fits(he_fits_file)\n",
    "    he = np.where(raw_he == raw_he[0,0], np.NaN, raw_he)\n",
    "    \n",
    "    mask_file = f'{DETECTION_SAVE_DIR}{he_date_str}_ensemble_map.npy'\n",
    "    single_mask = np.load(mask_file, allow_pickle=True)[-1]\n",
    "\n",
    "    fig, axes = plt.subplots(nrows=1, ncols=2, figsize=(20, 10))\n",
    "    ax = axes.ravel()\n",
    "\n",
    "    ax[0].set_title(he_date_str, fontsize=24)\n",
    "    ax[0].imshow(pre_processed_map, cmap=plt.cm.gray)\n",
    "    \n",
    "    ax[1].imshow(he, cmap=plt.cm.afmhot, vmin=-100, vmax=100)\n",
    "    ax[1].contour(single_mask, linewidths=2, cmap=plt.cm.gray)\n",
    "\n",
    "    plt.savefig(f'{out_dir}{he_date_str}.jpg')\n",
    "    plt.close(fig)\n",
    "    print(f'{he_date_str} map saved.')"
   ]
  },
  {
   "cell_type": "code",
   "execution_count": null,
   "metadata": {},
   "outputs": [],
   "source": [
    "for euv_date_str in EUV_DATE_LIST[:1]:\n",
    "\n",
    "    he_date_str = prepare_data.get_latest_date_str(\n",
    "        HE_DATE_LIST, selected_date_str=euv_date_str\n",
    "    )\n",
    "    \n",
    "    # Extract He I observation\n",
    "    he_map = prepare_data.get_nso_sunpy_map(HE_DIR + he_date_str + '.fts')\n",
    "    if not he_map:\n",
    "        print(f'{he_date_str} He I observation extraction failed.')\n",
    "        continue\n",
    "    \n",
    "    he_base_data = np.where(he_map.data == he_map.data[0,0], np.nan, he_map.data)\n",
    "    he_base_map = sunpy.map.Map(he_base_data, he_map.meta)\n",
    "    \n",
    "    # Extract saved single mask array and convert to Sunpy map\n",
    "    mask_file = f'{DETECTION_SAVE_DIR}{he_date_str}_ensemble_map.npy'\n",
    "    mask_data = np.load(mask_file, allow_pickle=True)[-1]\n",
    "    mask_map = sunpy.map.Map(np.flipud(mask_data), he_map.meta)\n",
    "    mask_map.plot_settings['cmap'] = colormaps['gray']\n",
    "    \n",
    "    euv_map = sunpy.map.Map(EUV_DIR + euv_date_str + '.fts')\n",
    "    \n",
    "    fig = plt.figure(figsize=(18, 5))\n",
    "    \n",
    "    plot_detection.plot_he_map(fig, (1, 3, 1), he_map, he_date_str)\n",
    "    \n",
    "    # Plot He I observation with overlayed detection contours\n",
    "    ax = fig.add_subplot(132, projection=he_map)\n",
    "    he_base_map.plot(axes=ax, vmin=-100, vmax=100, title=he_date_str,\n",
    "                     cmap='afmhot')\n",
    "    for contour in mask_map.contour(0):\n",
    "        ax.plot_coord(contour, color='black', linewidth=1)\n",
    "    \n",
    "    plot_detection.plot_euv_map(fig, (1, 3, 3), euv_map, euv_date_str)"
   ]
  }
 ],
 "metadata": {
  "kernelspec": {
   "display_name": "jupyterlab-debugger",
   "language": "python",
   "name": "python3"
  },
  "language_info": {
   "codemirror_mode": {
    "name": "ipython",
    "version": 3
   },
   "file_extension": ".py",
   "mimetype": "text/x-python",
   "name": "python",
   "nbconvert_exporter": "python",
   "pygments_lexer": "ipython3",
   "version": "3.11.0"
  },
  "toc-autonumbering": true,
  "vscode": {
   "interpreter": {
    "hash": "9702f0bff29bacff409d5ed2ffa7f0a67aa5aa939df8fc4f21a3e6487ad9172c"
   }
  }
 },
 "nbformat": 4,
 "nbformat_minor": 4
}
