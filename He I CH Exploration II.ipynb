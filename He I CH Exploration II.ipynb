{
 "cells": [
  {
   "cell_type": "code",
   "execution_count": null,
   "id": "27054106-5f21-4f2a-a320-a24b0e6d0b0b",
   "metadata": {
    "tags": []
   },
   "outputs": [],
   "source": [
    "import os\n",
    "import numpy as np\n",
    "import plotly.io as pio\n",
    "from matplotlib import pyplot as plt\n",
    "\n",
    "import prepare_data\n",
    "import run_detection\n",
    "import plot_detection\n",
    "\n",
    "pio.renderers.default = 'vscode'\n",
    "%matplotlib inline"
   ]
  },
  {
   "attachments": {},
   "cell_type": "markdown",
   "id": "a1324d19-b50d-43d3-8875-f4f0ea184bcb",
   "metadata": {},
   "source": [
    "# Data Inspection"
   ]
  },
  {
   "attachments": {},
   "cell_type": "markdown",
   "id": "9f7089cf",
   "metadata": {},
   "source": [
    "## Prepare Data"
   ]
  },
  {
   "attachments": {},
   "cell_type": "markdown",
   "id": "c1f84995",
   "metadata": {},
   "source": [
    "Configure file paths"
   ]
  },
  {
   "cell_type": "code",
   "execution_count": null,
   "id": "0c1131af",
   "metadata": {},
   "outputs": [],
   "source": [
    "DATA_DIR = 'assets/'\n",
    "\n",
    "ALL_HE_DIR = DATA_DIR + 'All_He/'\n",
    "SELECT_HE_DIR = DATA_DIR + 'Selected_He/'\n",
    "\n",
    "IMG_EUV_DIR = DATA_DIR + 'Img_EUV/'\n",
    "\n",
    "SINGLE_MAPS_DIR = DATA_DIR + 'Output/Single_Maps/'\n",
    "ENSEMBLE_MAPS_DIR = DATA_DIR + 'Output/Ensemble_Maps_v0_3/'\n",
    "ENSEMBLE_MAP_SAVE_DIR = ENSEMBLE_MAPS_DIR + 'Numpy_Arrays/'"
   ]
  },
  {
   "cell_type": "markdown",
   "id": "f74a10ba-f2a1-401d-b55c-a15d66a7ad18",
   "metadata": {},
   "source": [
    "Rename Data\n",
    "- He I and magnetogram FITS files are renamed automatically"
   ]
  },
  {
   "cell_type": "code",
   "execution_count": null,
   "id": "8659fe01-26b6-4ba7-9aac-1e2e62b2c63c",
   "metadata": {},
   "outputs": [],
   "source": [
    "# Delete all gzipped files after renaming\n",
    "remove_gzip = True\n",
    "\n",
    "# Rename all He FITS files to include observation date in title\n",
    "prepare_data.rename_dir(ALL_HE_DIR, remove_gzip)"
   ]
  },
  {
   "attachments": {},
   "cell_type": "markdown",
   "id": "4d0c6db7-3240-467b-a9d4-76e9339adbde",
   "metadata": {},
   "source": [
    "Specify Date Range\n",
    "- WSA chs plots and EUV images must be renamed to match the string format DICT_DATE_STR_FORMAT"
   ]
  },
  {
   "cell_type": "code",
   "execution_count": null,
   "id": "dbe54ac3",
   "metadata": {},
   "outputs": [],
   "source": [
    "# Option to extract all or only select few He FITS files of interest\n",
    "# All dates\n",
    "# date_range = ('2000_01_01__00_00', '2020_01_01__00_00')\n",
    "\n",
    "# CR 2136\n",
    "# date_range = ('2013_04_01__00_00', '2013_06_01__00_00')\n",
    "\n",
    "# CR 2151\n",
    "# date_range = ('2014_06_01__00_00', '2014_06_30__00_00')\n",
    "\n",
    "# GMU period early in Solar Cycle 24\n",
    "date_range = ('2012_04_01__00_00', '2012_09_01__00_00')\n",
    "\n",
    "# Select few dates for analysis\n",
    "# date_range = None"
   ]
  },
  {
   "cell_type": "markdown",
   "id": "bdf30f18",
   "metadata": {},
   "source": [
    "Extract Data from File System"
   ]
  },
  {
   "cell_type": "code",
   "execution_count": null,
   "id": "37a6598a-c954-4bcc-9383-d6ab03b6364d",
   "metadata": {},
   "outputs": [],
   "source": [
    "# Extract data arrays from He FITS files\n",
    "HE_FITS_DICT = prepare_data.extract_he(date_range, ALL_HE_DIR, SELECT_HE_DIR)\n",
    "HE_DATE_LIST = list(HE_FITS_DICT.keys())\n",
    "HE_DATE_LIST.sort()\n",
    "\n",
    "# Extract EUV images from image files\n",
    "EUV_DICT = prepare_data.extract_comparison_ims(IMG_EUV_DIR)"
   ]
  },
  {
   "cell_type": "markdown",
   "id": "6181f045-b741-4915-a11b-e6e127064fab",
   "metadata": {},
   "source": [
    "## Available Data"
   ]
  },
  {
   "cell_type": "code",
   "execution_count": null,
   "id": "bb53e85c-08e3-4ea4-b224-2f95076b967d",
   "metadata": {},
   "outputs": [],
   "source": [
    "print('Available Datetimes for He I Observations:')\n",
    "prepare_data.display_dates(HE_DATE_LIST)"
   ]
  },
  {
   "attachments": {},
   "cell_type": "markdown",
   "id": "f49afd2d",
   "metadata": {},
   "source": [
    "He I FITS File Content"
   ]
  },
  {
   "cell_type": "code",
   "execution_count": null,
   "id": "5f1ab8ce-b570-41ba-a4c3-3eeca487ed03",
   "metadata": {},
   "outputs": [],
   "source": [
    "date_str = '2015_03_31__18_13'\n",
    "# date_str = '2013_04_17__18_39'\n",
    "# date_str = '2014_06_06__17_46'\n",
    "\n",
    "cmaps = [plt.cm.RdBu, plt.cm.afmhot, plt.cm.gray]\n",
    "\n",
    "plot_detection.plot_fits_content(HE_FITS_DICT, date_str, cmaps)"
   ]
  },
  {
   "attachments": {},
   "cell_type": "markdown",
   "id": "9d82b32f-7347-4351-94c2-22c2f8f1786d",
   "metadata": {},
   "source": [
    "# Pre-Process"
   ]
  },
  {
   "cell_type": "code",
   "execution_count": null,
   "id": "8c6aaa18",
   "metadata": {},
   "outputs": [],
   "source": [
    "from skimage import exposure\n",
    "\n",
    "\n",
    "def remove_peak_counts(array):\n",
    "    \"\"\"Retrieve an array with the value of peak counts replaced with NaN.\n",
    "    \"\"\"\n",
    "    peak_counts_val = run_detection.get_peak_counts_loc(array, bins_as_percent=False)\n",
    "    zero_vals = (array > peak_counts_val - 1e-2) & (array < peak_counts_val + 1e-2)\n",
    "    \n",
    "    return np.where(zero_vals, np.NaN, array)\n",
    "\n",
    "\n",
    "def remove_background(array):\n",
    "    \"\"\"Retrieve an array with the background replaced with NaN.\n",
    "    \"\"\"\n",
    "    background_val = array[0,0]    \n",
    "    return np.where(array == background_val, np.NaN, array)\n",
    "\n",
    "\n",
    "def pre_process_eqw_v0_4(raw_eqw):\n",
    "    \"\"\"Pre-process equivalent width array by setting background to NaN\n",
    "    and a simple brightness band pass.\n",
    "    \"\"\"\n",
    "    eqw_nan = np.where(raw_eqw == 0, np.NaN, raw_eqw)\n",
    "    \n",
    "    eqw_high_cut = np.where(eqw_nan > 100, np.NaN, eqw_nan)\n",
    "    # eqw_band_cut = np.where(eqw_high_cut < -100, np.NaN, eqw_high_cut)\n",
    "    eqw_band_cut = np.clip(eqw_high_cut, -100, 100)\n",
    "    \n",
    "    return eqw_band_cut, eqw_high_cut, eqw_nan\n",
    "\n",
    "\n",
    "def equalize(raw_eqw):\n",
    "    \"\"\"Pre-process equivalent width array by setting background to NaN\n",
    "    and a simple brightness band pass.\n",
    "    \"\"\"\n",
    "    # Histogram equalization\n",
    "    eqw1 = exposure.equalize_hist(raw_eqw)\n",
    "    eqw1 = remove_background(eqw1)\n",
    "    \n",
    "    # Shift nonzero values into positive range and equalize histogram\n",
    "    eqw2 = np.where(raw_eqw == 0, 0, raw_eqw + np.abs(np.min(raw_eqw)))\n",
    "    eqw3 = exposure.equalize_hist(eqw2)\n",
    "    \n",
    "    eqw3 = np.where(eqw3 == np.min(eqw3), np.NaN, eqw3)\n",
    "    \n",
    "    return eqw3, eqw2, eqw1\n",
    "\n",
    "\n",
    "def normalize(raw_eqw):\n",
    "    \"\"\"Pre-process equivalent width array by applying linear rescaling\n",
    "    to normalize the contrast and setting background to NaN. Linear\n",
    "    rescaling between 2-98 percentiles produces a less harsh contrast\n",
    "    enhancement than histogram equalization.\n",
    "    \"\"\"\n",
    "    p2, p98 = np.percentile(raw_eqw, (2, 98))\n",
    "    \n",
    "    # Shift nonzero values into positive range and normalize\n",
    "    eqw1 = np.where(raw_eqw == 0, 0, raw_eqw + np.abs(np.min(raw_eqw)))\n",
    "    eqw2 = exposure.rescale_intensity(eqw1, in_range=(p2, p98))\n",
    "    \n",
    "    # Normalize directly\n",
    "    eqw3 = exposure.rescale_intensity(raw_eqw, in_range=(p2, p98))\n",
    "    eqw3 = remove_background(eqw3)\n",
    "        \n",
    "    return eqw3, eqw2, eqw1"
   ]
  },
  {
   "attachments": {},
   "cell_type": "markdown",
   "id": "1296c069",
   "metadata": {},
   "source": [
    "## Single Observation"
   ]
  },
  {
   "cell_type": "code",
   "execution_count": null,
   "id": "b7c2d0d4",
   "metadata": {},
   "outputs": [],
   "source": [
    "date_str = '2012_05_07__17_59'\n",
    "\n",
    "\n",
    "raw_eqw = HE_FITS_DICT[date_str][0]\n",
    "eqw_band_cut, eqw_high_cut, eqw_nan = run_detection.pre_process_eqw_v0_1(\n",
    "    raw_eqw, peak_count_cutoff_percent=0.1\n",
    ")\n",
    "\n",
    "arrays = [raw_eqw, eqw_nan, eqw_high_cut, eqw_band_cut]\n",
    "titles = ['EQW', 'EQW NaN', 'EQW High Cut', 'EQW Band Cut']\n",
    "\n",
    "plot_detection.plot_hists(arrays[0:2], titles[0:2], semilogy=True)\n",
    "plot_detection.plot_hists(arrays[2:4], titles[2:4], semilogy=True)"
   ]
  },
  {
   "cell_type": "code",
   "execution_count": null,
   "id": "6e418b58",
   "metadata": {},
   "outputs": [],
   "source": [
    "date_str = '2012_05_07__17_59'\n",
    "\n",
    "\n",
    "raw_eqw = HE_FITS_DICT[date_str][0]\n",
    "eqw_band_cut, eqw_high_cut, eqw_nan = pre_process_eqw_v0_3(raw_eqw)\n",
    "\n",
    "arrays = [raw_eqw, eqw_nan, eqw_high_cut, eqw_band_cut]\n",
    "titles = ['EQW', 'EQW NaN', 'EQW High Cut', 'EQW Band Cut']\n",
    "\n",
    "plot_detection.plot_hists(arrays[0:2], titles[0:2], semilogy=True)\n",
    "plot_detection.plot_hists(arrays[2:4], titles[2:4], semilogy=True)"
   ]
  },
  {
   "cell_type": "code",
   "execution_count": null,
   "id": "f5300ba2",
   "metadata": {},
   "outputs": [],
   "source": [
    "date_str = '2012_05_07__17_59'\n",
    "\n",
    "\n",
    "raw_eqw = HE_FITS_DICT[date_str][0]\n",
    "eqw3, eqw2, eqw1 = equalize(raw_eqw)\n",
    "\n",
    "arrays = [raw_eqw, eqw1, eqw2, eqw3]\n",
    "titles = ['EQW', 'Equalized', 'Shifted', 'Shifted & Equalized']\n",
    "\n",
    "plot_detection.plot_hists(arrays[0:2], titles[0:2], semilogy=True)\n",
    "plot_detection.plot_hists(arrays[2:4], titles[2:4], semilogy=True)"
   ]
  },
  {
   "attachments": {},
   "cell_type": "markdown",
   "id": "4bf6e056",
   "metadata": {},
   "source": [
    "Normalized"
   ]
  },
  {
   "cell_type": "code",
   "execution_count": null,
   "id": "8e692a4e",
   "metadata": {},
   "outputs": [],
   "source": [
    "date_str = '2012_05_07__17_59'\n",
    "\n",
    "\n",
    "raw_eqw = HE_FITS_DICT[date_str][0]\n",
    "eqw3, eqw2, eqw1 = normalize(raw_eqw)\n",
    "\n",
    "arrays = [raw_eqw, eqw3, eqw1, eqw2]\n",
    "titles = ['EQW', 'Stretched', 'Shifted', 'Shifted & Stretched']\n",
    "\n",
    "plot_detection.plot_hists(arrays[0:2], titles[0:2], semilogy=True)\n",
    "plot_detection.plot_hists(arrays[2:4], titles[2:4], semilogy=True)"
   ]
  },
  {
   "attachments": {},
   "cell_type": "markdown",
   "id": "2faa94e2",
   "metadata": {},
   "source": [
    "## Compare Observations"
   ]
  },
  {
   "cell_type": "code",
   "execution_count": null,
   "id": "32f21add-4cf2-410a-ad25-613d3be75959",
   "metadata": {},
   "outputs": [],
   "source": [
    "date_idx = 48 # 32: 05/06-08   # 48: 05/26-28\n",
    "\n",
    "for date_str in HE_DATE_LIST[date_idx:date_idx + 3]:\n",
    "    raw_eqw = HE_FITS_DICT[date_str][0]\n",
    "    eqw_band_cut = run_detection.pre_process_eqw_v0_1(raw_eqw)[0]\n",
    "    arrays = [raw_eqw, eqw_band_cut]\n",
    "    titles = [date_str, 'Pre-Processed']\n",
    "    plot_detection.plot_hists(arrays, titles, semilogy=True)"
   ]
  },
  {
   "cell_type": "code",
   "execution_count": null,
   "id": "1d84ebff",
   "metadata": {},
   "outputs": [],
   "source": [
    "for date_str in HE_DATE_LIST[date_idx:date_idx + 3]:\n",
    "    raw_eqw = HE_FITS_DICT[date_str][0]\n",
    "    eqw_band_cut = pre_process_eqw_v0_3(raw_eqw)[0]\n",
    "    arrays = [raw_eqw, eqw_band_cut]\n",
    "    titles = [date_str, 'Pre-Processed']\n",
    "    plot_detection.plot_hists(arrays, titles, semilogy=True)"
   ]
  },
  {
   "attachments": {},
   "cell_type": "markdown",
   "id": "9625044b",
   "metadata": {},
   "source": [
    "Normalized"
   ]
  },
  {
   "cell_type": "code",
   "execution_count": null,
   "id": "213abce6",
   "metadata": {},
   "outputs": [],
   "source": [
    "for date_str in HE_DATE_LIST[date_idx:date_idx + 3]:\n",
    "    raw_eqw = HE_FITS_DICT[date_str][0]\n",
    "    eqw = normalize(raw_eqw)[0]\n",
    "    arrays = [raw_eqw, eqw]\n",
    "    titles = [date_str, 'Normalized']\n",
    "    plot_detection.plot_hists(arrays, titles, semilogy=True)"
   ]
  },
  {
   "cell_type": "markdown",
   "id": "07ac5ef7-6c04-4363-aba1-2aa4766b2e9a",
   "metadata": {},
   "source": [
    "# Parameters"
   ]
  },
  {
   "attachments": {},
   "cell_type": "markdown",
   "id": "1ec0780b",
   "metadata": {},
   "source": [
    "## Threshold"
   ]
  },
  {
   "cell_type": "markdown",
   "id": "af26d555",
   "metadata": {},
   "source": [
    "Single Observation"
   ]
  },
  {
   "cell_type": "code",
   "execution_count": null,
   "id": "ee11cf9b",
   "metadata": {},
   "outputs": [],
   "source": [
    "date_str = '2012_06_22__18_13'\n",
    "\n",
    "raw_eqw = HE_FITS_DICT[date_str][0]\n",
    "eqw = run_detection.pre_process_eqw_v0_1(raw_eqw)[0]\n",
    "\n",
    "plot_detection.plot_thresholds(eqw, bounds=[75, 85, 100], bounds_as_percent=True)"
   ]
  },
  {
   "cell_type": "markdown",
   "id": "238fe565",
   "metadata": {},
   "source": [
    "Compare Observations"
   ]
  },
  {
   "cell_type": "code",
   "execution_count": null,
   "id": "ac62905a-359b-4315-9aa6-70580f47cf73",
   "metadata": {},
   "outputs": [],
   "source": [
    "for date_str in HE_DATE_LIST[32:35]:\n",
    "    raw_eqw = HE_FITS_DICT[date_str][0]\n",
    "    eqw = run_detection.pre_process_eqw_v0_1(raw_eqw)[0]\n",
    "    plot_detection.plot_thresholds(eqw, bounds=[75, 85, 100], bounds_as_percent=True)"
   ]
  },
  {
   "cell_type": "code",
   "execution_count": null,
   "id": "d039c3c4-6503-4853-a71e-170efef45fc4",
   "metadata": {},
   "outputs": [],
   "source": [
    "date_str = '2015_03_31__18_13'\n",
    "step = 2\n",
    "\n",
    "raw_eqw = HE_FITS_DICT[date_str][0]\n",
    "eqw = run_detection.pre_process_eqw_v0_1(raw_eqw)[0]\n",
    "\n",
    "percent_of_peak_lists = [list(np.arange(0,200,step)), list(np.arange(80,130,step))]\n",
    "\n",
    "for percent_of_peak_list in percent_of_peak_lists:\n",
    "    area_percent_list = run_detection.get_thresh_area_percent_list(eqw, percent_of_peak_list)\n",
    "    \n",
    "    parameter_stats = run_detection.get_parameter_stats(area_percent_list)\n",
    "    max_diff, cutoff, selected_parameter_num, pixel_percent_diffs = parameter_stats\n",
    "    \n",
    "    fig = plt.figure(figsize=(20, 10))\n",
    "    ax = fig.add_subplot()\n",
    "\n",
    "    plot_detection.plot_pixel_percent_bars(\n",
    "        ax, percent_of_peak_list, area_percent_list, max_diff, cutoff, selected_parameter_num,\n",
    "        step, title='Threshold', unit='%', xlabel='Percent of Peak Pixel Count (%)', thresh=True)"
   ]
  },
  {
   "cell_type": "markdown",
   "id": "e7886423-ef31-43ec-9020-025001037628",
   "metadata": {},
   "source": [
    "## Structuring Element Radius"
   ]
  },
  {
   "cell_type": "code",
   "execution_count": null,
   "id": "231c2223",
   "metadata": {},
   "outputs": [],
   "source": [
    "date_str = '2012_06_22__18_13'\n",
    "\n",
    "raw_eqw = HE_FITS_DICT[date_str][0]\n",
    "eqw = pre_process_eqw_v0_3(raw_eqw)[0]\n",
    "\n",
    "percent_of_peak_list = [90, 90, 90]\n",
    "morph_radius_list = [4,10,14]\n",
    "\n",
    "ch_mask_list = [\n",
    "    run_detection.get_ch_mask(eqw, percent_of_peak, morph_radius)\n",
    "    for percent_of_peak, morph_radius\n",
    "    in zip(percent_of_peak_list, morph_radius_list)\n",
    "]\n",
    "title_list = [f'{percent_of_peak:d}% of Peak | {radius:d}px Radius'\n",
    "              for percent_of_peak in percent_of_peak_list\n",
    "              for radius in morph_radius_list]\n",
    "plot_detection.plot_ims([eqw, [[0,0],[0,0]]], ['',''])\n",
    "plot_detection.plot_ims(ch_mask_list[:3], title_list[:3])"
   ]
  },
  {
   "cell_type": "code",
   "execution_count": null,
   "id": "7b327def-2b9e-43e3-b5f4-69dea76a5857",
   "metadata": {},
   "outputs": [],
   "source": [
    "# date_str = '2015_03_31__18_13'\n",
    "date_str = '2015_07_16__17_12'\n",
    "\n",
    "\n",
    "raw_eqw = HE_FITS_DICT[date_str][0]\n",
    "eqw = run_detection.pre_process_eqw_v0_1(raw_eqw)[0]\n",
    "\n",
    "percent_of_peak_list = [90, 90, 90]\n",
    "morph_radius_list = [4,10,14]\n",
    "\n",
    "ch_mask_list = [\n",
    "    run_detection.get_ch_mask(eqw, percent_of_peak, morph_radius)\n",
    "    for percent_of_peak, morph_radius\n",
    "    in zip(percent_of_peak_list, morph_radius_list)\n",
    "]\n",
    "title_list = [f'{percent_of_peak:d}% of Peak | {radius:d}px Radius'\n",
    "              for percent_of_peak in percent_of_peak_list\n",
    "              for radius in morph_radius_list]\n",
    "plot_detection.plot_ims([eqw, [[0,0],[0,0]]], ['',''])\n",
    "plot_detection.plot_ims(ch_mask_list[:3], title_list[:3])"
   ]
  },
  {
   "cell_type": "code",
   "execution_count": null,
   "id": "e3b3660c-3cb1-46f3-94ed-fa9e35134099",
   "metadata": {},
   "outputs": [],
   "source": [
    "date_str = '2015_03_31__18_13'\n",
    "\n",
    "\n",
    "raw_eqw = HE_FITS_DICT[date_str][0]\n",
    "eqw = run_detection.pre_process_eqw_v0_1(raw_eqw)[0]\n",
    "\n",
    "step = 1\n",
    "morph_radius_lists = [list(np.arange(1,21,step))]\n",
    "percent_of_peak_list = [100]\n",
    "\n",
    "for morph_radius_list in morph_radius_lists:\n",
    "    ch_mask_list = run_detection.get_CH_mask_list(eqw, percent_of_peak_list, morph_radius_list)\n",
    "    \n",
    "    area_percent_list = run_detection.get_area_percent_list(ch_mask_list)\n",
    "    \n",
    "    parameter_stats = run_detection.get_parameter_stats(area_percent_list)\n",
    "    max_diff, cutoff, selected_parameter_num, pixel_percent_diffs = parameter_stats\n",
    "    \n",
    "    fig = plt.figure(figsize=(20, 10))\n",
    "    ax = fig.add_subplot()\n",
    "\n",
    "    plot_detection.plot_pixel_percent_bars(\n",
    "        ax, morph_radius_list, area_percent_list, max_diff, cutoff, selected_parameter_num,\n",
    "        step, title='SE Disk Radius', unit='px', xlabel='SE Disk Radius (px)', thresh=False\n",
    "    )"
   ]
  },
  {
   "attachments": {},
   "cell_type": "markdown",
   "id": "173f9d25",
   "metadata": {},
   "source": [
    "## Smoothness"
   ]
  },
  {
   "attachments": {},
   "cell_type": "markdown",
   "id": "e0ff9584",
   "metadata": {},
   "source": [
    "### Brightness Width"
   ]
  },
  {
   "cell_type": "code",
   "execution_count": null,
   "id": "f32d558d",
   "metadata": {},
   "outputs": [],
   "source": [
    "date_str = '2015_03_31__18_13'\n",
    "percent_of_peak = 90\n",
    "morph_radius = 15\n",
    "\n",
    "raw_eqw = HE_FITS_DICT[date_str][0]\n",
    "eqw = run_detection.pre_process_eqw_v0_1(raw_eqw)[0]\n",
    "ch_mask = run_detection.get_ch_mask(eqw, percent_of_peak, morph_radius)\n",
    "\n",
    "plot_detection.plot_sorted_ch_hists(eqw, ch_mask, apply_gradient=False,\n",
    "                                    hist_stat='width')"
   ]
  },
  {
   "cell_type": "code",
   "execution_count": null,
   "id": "70b8167b",
   "metadata": {},
   "outputs": [],
   "source": [
    "percent_of_peak = 90\n",
    "morph_radius = 15\n",
    "apply_gradient = False\n",
    "hist_stat = 'median'\n",
    "ascend_sort = False\n",
    "\n",
    "for eqw_date in HE_DATE_LIST:\n",
    "    raw_eqw = HE_FITS_DICT[date_str][0]\n",
    "    eqw = run_detection.pre_process_eqw_v0_1(raw_eqw)[0]\n",
    "    \n",
    "    ch_mask = run_detection.get_ch_mask(eqw, percent_of_peak, morph_radius)\n",
    "    \n",
    "    ranked_map = run_detection.get_ranked_map(\n",
    "        eqw, ch_mask, apply_gradient, hist_stat, ascend_sort\n",
    "    )\n",
    "\n",
    "    euv = EUV_DICT[eqw_date]\n",
    "\n",
    "    plot_detection.plot_ensemble_comparison(eqw, eqw_date, ranked_map, euv)"
   ]
  },
  {
   "attachments": {},
   "cell_type": "markdown",
   "id": "8d862fbf",
   "metadata": {},
   "source": [
    "### Brightness Tail Width"
   ]
  },
  {
   "cell_type": "code",
   "execution_count": null,
   "id": "1c5125e5",
   "metadata": {},
   "outputs": [],
   "source": [
    "date_str = '2015_03_31__18_13'\n",
    "percent_of_peak = 90\n",
    "morph_radius = 15\n",
    "\n",
    "raw_eqw = HE_FITS_DICT[date_str][0]\n",
    "eqw = run_detection.pre_process_eqw_v0_1(raw_eqw)[0]\n",
    "\n",
    "ch_mask = run_detection.get_ch_mask(eqw, percent_of_peak, morph_radius)\n",
    "\n",
    "plot_detection.plot_sorted_ch_hists(eqw, ch_mask, apply_gradient=False,\n",
    "                                    hist_stat='tail_width')"
   ]
  },
  {
   "cell_type": "code",
   "execution_count": null,
   "id": "8ecef61f",
   "metadata": {},
   "outputs": [],
   "source": [
    "percent_of_peak = 90\n",
    "morph_radius = 15\n",
    "apply_gradient = False\n",
    "hist_stat = 'tail_width'\n",
    "\n",
    "for eqw_date in HE_DATE_LIST:\n",
    "    raw_eqw = HE_FITS_DICT[date_str][0]\n",
    "    eqw = run_detection.pre_process_eqw_v0_1(raw_eqw)[0]\n",
    "    \n",
    "    ch_mask = run_detection.get_ch_mask(eqw, percent_of_peak, morph_radius)\n",
    "    ranked_map = run_detection.get_ranked_map(\n",
    "        eqw, ch_mask, apply_gradient, hist_stat\n",
    "    )\n",
    "\n",
    "    euv = EUV_DICT[eqw_date]\n",
    "\n",
    "    plot_detection.plot_ensemble_comparison(eqw, eqw_date, ranked_map, euv)"
   ]
  },
  {
   "attachments": {},
   "cell_type": "markdown",
   "id": "28a2affe",
   "metadata": {},
   "source": [
    "### Gradient Median"
   ]
  },
  {
   "cell_type": "code",
   "execution_count": null,
   "id": "61adbe74",
   "metadata": {},
   "outputs": [],
   "source": [
    "date_str = '2015_03_31__18_13'\n",
    "percent_of_peak = 90\n",
    "morph_radius = 15\n",
    "\n",
    "raw_eqw = HE_FITS_DICT[date_str][0]\n",
    "eqw = run_detection.pre_process_eqw_v0_1(raw_eqw)[0]\n",
    "\n",
    "ch_mask = run_detection.get_ch_mask(eqw, percent_of_peak, morph_radius)\n",
    "\n",
    "plot_detection.plot_sorted_ch_hists(eqw, ch_mask, apply_gradient=True,\n",
    "                                    hist_stat='median')"
   ]
  },
  {
   "cell_type": "code",
   "execution_count": null,
   "id": "6c3ddcff",
   "metadata": {},
   "outputs": [],
   "source": [
    "percent_of_peak = 90\n",
    "morph_radius = 15\n",
    "apply_gradient = True\n",
    "hist_stat = 'median'\n",
    "\n",
    "for date_str in HE_DATE_LIST[-1:]:\n",
    "    raw_eqw = HE_FITS_DICT[date_str][0]\n",
    "    eqw = run_detection.pre_process_eqw_v0_1(raw_eqw)[0]\n",
    "    \n",
    "    ch_mask = run_detection.get_ch_mask(eqw, percent_of_peak, morph_radius)\n",
    "    ranked_map = run_detection.get_ranked_map(\n",
    "        eqw, ch_mask, apply_gradient, hist_stat\n",
    "    )\n",
    "\n",
    "    euv = EUV_DICT[date_str]\n",
    "\n",
    "    plot_detection.plot_ensemble_comparison(eqw, date_str, ranked_map, euv)"
   ]
  },
  {
   "attachments": {},
   "cell_type": "markdown",
   "id": "9fb4158f",
   "metadata": {},
   "source": [
    "### Gradient Width"
   ]
  },
  {
   "cell_type": "code",
   "execution_count": null,
   "id": "90029251",
   "metadata": {},
   "outputs": [],
   "source": [
    "date_str = '2015_03_31__18_13'\n",
    "percent_of_peak = 90\n",
    "morph_radius = 15\n",
    "\n",
    "raw_eqw = HE_FITS_DICT[date_str][0]\n",
    "eqw = run_detection.pre_process_eqw_v0_1(raw_eqw)[0]\n",
    "\n",
    "ch_mask = run_detection.get_ch_mask(eqw, percent_of_peak, morph_radius)\n",
    "\n",
    "plot_detection.plot_sorted_ch_hists(eqw, ch_mask, apply_gradient=True,\n",
    "                                    hist_stat='width')"
   ]
  },
  {
   "cell_type": "code",
   "execution_count": null,
   "id": "2f85fe7b",
   "metadata": {},
   "outputs": [],
   "source": [
    "percent_of_peak = 90\n",
    "morph_radius = 15\n",
    "apply_gradient = True\n",
    "hist_stat = 'width'\n",
    "\n",
    "for eqw_date in HE_DATE_LIST:\n",
    "    raw_eqw = HE_FITS_DICT[date_str][0]\n",
    "    eqw = run_detection.pre_process_eqw_v0_1(raw_eqw)[0]\n",
    "    \n",
    "    ch_mask = run_detection.get_ch_mask(eqw, percent_of_peak, morph_radius)\n",
    "    ranked_map = run_detection.get_ranked_map(\n",
    "        eqw, ch_mask, apply_gradient, hist_stat\n",
    "    )\n",
    "\n",
    "    euv = EUV_DICT[eqw_date]\n",
    "\n",
    "    plot_detection.plot_ensemble_comparison(eqw, eqw_date, ranked_map, euv)"
   ]
  },
  {
   "attachments": {},
   "cell_type": "markdown",
   "id": "84c44b72",
   "metadata": {},
   "source": [
    "### Date Comparison"
   ]
  },
  {
   "cell_type": "code",
   "execution_count": null,
   "id": "d9d6bb58",
   "metadata": {},
   "outputs": [],
   "source": [
    "percent_of_peak = 90\n",
    "morph_radius = 15\n",
    "eqw_date = HE_DATE_LIST[1]\n",
    "apply_gradient_list = [False, False, True, True]\n",
    "hist_stat_list = ['width', 'tail_width', 'median', 'width']\n",
    "\n",
    "raw_eqw = HE_FITS_DICT[date_str][0]\n",
    "eqw = run_detection.pre_process_eqw_v0_1(raw_eqw)[0]\n",
    "\n",
    "ch_mask = run_detection.get_ch_mask(eqw, percent_of_peak, morph_radius)\n",
    "\n",
    "euv = EUV_DICT[eqw_date]\n",
    "    \n",
    "for apply_gradient, hist_stat in zip(apply_gradient_list, hist_stat_list):\n",
    "    ranked_map = run_detection.get_ranked_map(\n",
    "        eqw, ch_mask, apply_gradient, hist_stat\n",
    "    )\n",
    "    plot_detection.plot_ensemble_comparison(eqw, eqw_date, ranked_map, euv)"
   ]
  },
  {
   "cell_type": "markdown",
   "id": "0ae83bcc-daba-498b-8955-1c4af9853299",
   "metadata": {},
   "source": [
    "# Outcomes"
   ]
  },
  {
   "attachments": {},
   "cell_type": "markdown",
   "id": "8d7cbf14",
   "metadata": {},
   "source": [
    "## Varied Parameter CH Masks"
   ]
  },
  {
   "cell_type": "code",
   "execution_count": null,
   "id": "786d0b0e",
   "metadata": {},
   "outputs": [],
   "source": [
    "date_str = '2015_03_31__18_13'\n",
    "raw_eqw = HE_FITS_DICT[date_str][0]\n",
    "eqw = run_detection.pre_process_eqw_v0_1(raw_eqw)[0]\n",
    "save_file = f'{SINGLE_MAPS_DIR}{date_str}_maps.npy'"
   ]
  },
  {
   "attachments": {},
   "cell_type": "markdown",
   "id": "a4aeaedc",
   "metadata": {},
   "source": [
    "Create CH Mask List (Expensive computation)"
   ]
  },
  {
   "cell_type": "code",
   "execution_count": null,
   "id": "b8306703",
   "metadata": {},
   "outputs": [],
   "source": [
    "# Lower threshold accepts more and lets morphology carry the load in selection and removal\n",
    "thresh_step = 5\n",
    "radius_step = 1\n",
    "percent_of_peak_list = list(np.arange(70,106,thresh_step))\n",
    "morph_radius_list = list(np.arange(6,21,radius_step))\n",
    "\n",
    "# List of CHS masks for different files with varied parameters\n",
    "all_ch_mask_list = [\n",
    "    run_detection.get_ch_mask(eqw, percent_of_peak, morph_radius)\n",
    "    for percent_of_peak, morph_radius\n",
    "    in zip(percent_of_peak_list, morph_radius_list)\n",
    "]\n",
    "\n",
    "save_list = [date_str, percent_of_peak_list, morph_radius_list, all_ch_mask_list]\n",
    "np.save(save_file, np.array(save_list, dtype=object), allow_pickle=True)"
   ]
  },
  {
   "attachments": {},
   "cell_type": "markdown",
   "id": "a460451a",
   "metadata": {},
   "source": [
    "Load CH Mask List"
   ]
  },
  {
   "cell_type": "code",
   "execution_count": null,
   "id": "9c36caf9",
   "metadata": {},
   "outputs": [],
   "source": [
    "save_list = np.load(save_file, allow_pickle=True)\n",
    "date_str = save_list[0]\n",
    "percent_of_peak_list = save_list[1]\n",
    "morph_radius_list = save_list[2]\n",
    "all_ch_mask_list = save_list[3]"
   ]
  },
  {
   "cell_type": "code",
   "execution_count": null,
   "id": "fb380d24",
   "metadata": {},
   "outputs": [],
   "source": [
    "title_list = [f'{percent_of_peak:d}% of Peak | {radius:d}px Radius'\n",
    "              for percent_of_peak in percent_of_peak_list\n",
    "              for radius in morph_radius_list]"
   ]
  },
  {
   "cell_type": "markdown",
   "id": "9ea5701b-59b8-464a-9fec-cb6d8501a457",
   "metadata": {},
   "source": [
    "## Area"
   ]
  },
  {
   "cell_type": "code",
   "execution_count": null,
   "id": "bf4d5576-4c5b-46ba-8382-e88422180fff",
   "metadata": {},
   "outputs": [],
   "source": [
    "area_percent_list = run_detection.get_area_percent_list(all_ch_mask_list)"
   ]
  },
  {
   "cell_type": "code",
   "execution_count": null,
   "id": "731d5f43-4e63-4ac6-b001-38ece4617882",
   "metadata": {},
   "outputs": [],
   "source": [
    "heat_map_title = f'{date_str} Segmented Area Percentage'\n",
    "\n",
    "plot_detection.plot_heat_map(\n",
    "    area_percent_list, heat_map_title, percent_of_peak_list, morph_radius_list\n",
    ")"
   ]
  },
  {
   "cell_type": "code",
   "execution_count": null,
   "id": "b6b9c542-e51b-4585-aece-63815b17b83f",
   "metadata": {},
   "outputs": [],
   "source": [
    "fig = plt.figure(figsize=(12, 7))\n",
    "ax = fig.add_subplot()\n",
    "\n",
    "ax.hist(area_percent_list[:-1], bins=30)\n",
    "ax.set_title(f'{date_str} Segmented Area Bins', fontsize=20)\n",
    "ax.set_xlabel('Area Percentage', fontsize=18)\n",
    "ax.set_ylabel('Number of Masks in Area Bin', fontsize=18)"
   ]
  },
  {
   "cell_type": "markdown",
   "id": "208b280f-2e13-4ab3-8d54-8d82217785f7",
   "metadata": {},
   "source": [
    "### Heat Map Bands"
   ]
  },
  {
   "cell_type": "code",
   "execution_count": null,
   "id": "dc25d8b6-dbcc-4f7a-807f-c8e07816c081",
   "metadata": {},
   "outputs": [],
   "source": [
    "lower_bound = 16\n",
    "upper_bound = 18\n",
    "\n",
    "heat_map_title = f'{date_str} {lower_bound}-{upper_bound}% Segmented Area'\n",
    "\n",
    "plot_detection.plot_heat_map_band(\n",
    "    area_percent_list, heat_map_title, lower_bound, upper_bound,\n",
    "    percent_of_peak_list, morph_radius_list, \n",
    "    eqw, all_ch_mask_list, title_list\n",
    ")"
   ]
  },
  {
   "cell_type": "code",
   "execution_count": null,
   "id": "3d8216d0-8226-463a-8541-2277457e9889",
   "metadata": {},
   "outputs": [],
   "source": [
    "lower_bound = 6.8\n",
    "upper_bound = 7.3\n",
    "\n",
    "heat_map_title = f'{date_str} {lower_bound}-{upper_bound}% Segmented Area'\n",
    "\n",
    "plot_detection.plot_heat_map_band(\n",
    "    area_percent_list, heat_map_title, lower_bound, upper_bound,\n",
    "    percent_of_peak_list, morph_radius_list, \n",
    "    eqw, all_ch_mask_list, title_list\n",
    ")"
   ]
  },
  {
   "cell_type": "code",
   "execution_count": null,
   "id": "349fe31a-36c1-4857-9126-27b151c513e2",
   "metadata": {},
   "outputs": [],
   "source": [
    "lower_bound = 5.4\n",
    "upper_bound = 6\n",
    "\n",
    "heat_map_title = f'{date_str} {lower_bound}-{upper_bound}% Segmented Area'\n",
    "\n",
    "plot_detection.plot_heat_map_band(\n",
    "    area_percent_list, heat_map_title, lower_bound, upper_bound,\n",
    "    percent_of_peak_list, morph_radius_list, \n",
    "    eqw, all_ch_mask_list, title_list\n",
    ")"
   ]
  },
  {
   "cell_type": "code",
   "execution_count": null,
   "id": "7212aa04-9c35-4b52-9704-8d625d0f6b4f",
   "metadata": {},
   "outputs": [],
   "source": [
    "lower_bound = 3.2\n",
    "upper_bound = 3.3\n",
    "\n",
    "heat_map_title = f'{date_str} {lower_bound}-{upper_bound}% Segmented Area'\n",
    "\n",
    "plot_detection.plot_heat_map_band(\n",
    "    area_percent_list, heat_map_title, lower_bound, upper_bound,\n",
    "    percent_of_peak_list, morph_radius_list, \n",
    "    eqw, all_ch_mask_list, title_list\n",
    ")"
   ]
  },
  {
   "cell_type": "markdown",
   "id": "acae1df2-c952-476c-8730-cac2951cd076",
   "metadata": {},
   "source": [
    "## Hole Number"
   ]
  },
  {
   "cell_type": "code",
   "execution_count": null,
   "id": "7facebb5-87e3-4c62-9c45-f507b5c56be0",
   "metadata": {},
   "outputs": [],
   "source": [
    "num_ch_list = run_detection.get_num_CH_list(all_ch_mask_list)"
   ]
  },
  {
   "cell_type": "code",
   "execution_count": null,
   "id": "74d6bf15-84bf-46f4-b3ee-fbd88e12d656",
   "metadata": {},
   "outputs": [],
   "source": [
    "heat_map_title = f'{date_str} Segmented Hole Number'\n",
    "color_scale = 'Aggrnyl'\n",
    "\n",
    "plot_detection.plot_heat_map(\n",
    "    num_ch_list, heat_map_title, percent_of_peak_list, morph_radius_list, color_scale\n",
    ")"
   ]
  },
  {
   "cell_type": "code",
   "execution_count": null,
   "id": "1a378a6e",
   "metadata": {},
   "outputs": [],
   "source": [
    "fig = plt.figure(figsize=(12, 7))\n",
    "ax = fig.add_subplot()\n",
    "\n",
    "ax.hist(num_ch_list, bins=30, range=(0,25))\n",
    "ax.set_title(f'{date_str} Segmented Hole Number Bins', fontsize=20)\n",
    "ax.set_xlabel('Segemented Hole Number', fontsize=18)\n",
    "ax.set_ylabel('Number of Masks in Hole Number Bin', fontsize=18)"
   ]
  },
  {
   "cell_type": "markdown",
   "id": "c2dc91aa-b618-4334-8801-cad2a48f919c",
   "metadata": {},
   "source": [
    "### Heat Map Bands"
   ]
  },
  {
   "cell_type": "code",
   "execution_count": null,
   "id": "cdb3397e-7069-4d12-9047-2410356e71ee",
   "metadata": {},
   "outputs": [],
   "source": [
    "lower_bound = 17\n",
    "upper_bound = 17\n",
    "\n",
    "heat_map_title = f'{date_str} {lower_bound}-{upper_bound} Segmented Holes'\n",
    "color_scale = 'Aggrnyl'\n",
    "\n",
    "plot_detection.plot_heat_map_band(\n",
    "    num_ch_list, heat_map_title, lower_bound, upper_bound,\n",
    "    percent_of_peak_list, morph_radius_list, \n",
    "    eqw, all_ch_mask_list, title_list, color_scale\n",
    ")"
   ]
  },
  {
   "cell_type": "code",
   "execution_count": null,
   "id": "e4290713-db6e-43cb-b0de-8a2d345b362a",
   "metadata": {},
   "outputs": [],
   "source": [
    "lower_bound = 11\n",
    "upper_bound = 11\n",
    "\n",
    "heat_map_title = f'{date_str} {lower_bound}-{upper_bound} Segmented Holes'\n",
    "color_scale = 'Aggrnyl'\n",
    "\n",
    "plot_detection.plot_heat_map_band(\n",
    "    num_ch_list, heat_map_title, lower_bound, upper_bound,\n",
    "    percent_of_peak_list, morph_radius_list, \n",
    "    eqw, all_ch_mask_list, title_list, color_scale\n",
    ")"
   ]
  },
  {
   "cell_type": "code",
   "execution_count": null,
   "id": "ed18f0ef-ba23-49b7-b0f5-2565d1a36866",
   "metadata": {},
   "outputs": [],
   "source": [
    "lower_bound = 9\n",
    "upper_bound = 9\n",
    "\n",
    "heat_map_title = f'{date_str} {lower_bound}-{upper_bound} Segmented Holes'\n",
    "color_scale = 'Aggrnyl'\n",
    "\n",
    "plot_detection.plot_heat_map_band(\n",
    "    num_ch_list, heat_map_title, lower_bound, upper_bound,\n",
    "    percent_of_peak_list, morph_radius_list, \n",
    "    eqw, all_ch_mask_list, title_list, color_scale\n",
    ")"
   ]
  },
  {
   "attachments": {},
   "cell_type": "markdown",
   "id": "6178c0fe-ba0a-47cc-8f4c-5e74ed970820",
   "metadata": {},
   "source": [
    "## Lower Tail Width"
   ]
  },
  {
   "cell_type": "code",
   "execution_count": null,
   "id": "50130652-598d-4596-96c6-5300704d09df",
   "metadata": {},
   "outputs": [],
   "source": [
    "lower_tail_width_list = run_detection.get_ch_lower_tail_width_list(eqw, all_ch_mask_list)"
   ]
  },
  {
   "cell_type": "code",
   "execution_count": null,
   "id": "c37d526f-920f-4bf4-b98c-550d06c5e658",
   "metadata": {},
   "outputs": [],
   "source": [
    "heat_map_title = f'{date_str} Mean CH Tail Width'\n",
    "color_scale = 'ice'\n",
    "\n",
    "plot_detection.plot_heat_map(\n",
    "    lower_tail_width_list, heat_map_title, percent_of_peak_list, morph_radius_list, color_scale\n",
    ")"
   ]
  },
  {
   "cell_type": "code",
   "execution_count": null,
   "id": "fc87e619",
   "metadata": {},
   "outputs": [],
   "source": [
    "fig = plt.figure(figsize=(12, 7))\n",
    "ax = fig.add_subplot()\n",
    "\n",
    "ax.hist(lower_tail_width_list, bins=30, range=(10,40))\n",
    "ax.set_title(f'{date_str} Mean CH Tail Width Bins', fontsize=20)\n",
    "ax.set_xlabel('Mean CH Tail Width', fontsize=18)\n",
    "ax.set_ylabel('Number of Masks in Tail Width Bin', fontsize=18)"
   ]
  },
  {
   "cell_type": "markdown",
   "id": "15083f17-625e-4b94-b352-5ff71a55d26a",
   "metadata": {},
   "source": [
    "### Heat Map Bands"
   ]
  },
  {
   "cell_type": "code",
   "execution_count": null,
   "id": "8150f7fc-b3e8-4420-89de-46d7e0d08c49",
   "metadata": {},
   "outputs": [],
   "source": [
    "lower_bound = 29\n",
    "upper_bound = 29.5\n",
    "\n",
    "heat_map_title = f'{date_str} {lower_bound}-{upper_bound} Mean CH Tail Width'\n",
    "color_scale = 'ice'\n",
    "\n",
    "plot_detection.plot_heat_map_band(\n",
    "    lower_tail_width_list, heat_map_title, lower_bound, upper_bound,\n",
    "    percent_of_peak_list, morph_radius_list, \n",
    "    eqw, all_ch_mask_list, title_list, color_scale\n",
    ")"
   ]
  },
  {
   "cell_type": "code",
   "execution_count": null,
   "id": "45b44207",
   "metadata": {},
   "outputs": [],
   "source": [
    "lower_bound = 24.5\n",
    "upper_bound = 25\n",
    "\n",
    "heat_map_title = f'{date_str} {lower_bound}-{upper_bound} Mean CH Tail Width'\n",
    "color_scale = 'ice'\n",
    "\n",
    "plot_detection.plot_heat_map_band(\n",
    "    lower_tail_width_list, heat_map_title, lower_bound, upper_bound,\n",
    "    percent_of_peak_list, morph_radius_list, \n",
    "    eqw, all_ch_mask_list, title_list, color_scale\n",
    ")"
   ]
  },
  {
   "cell_type": "markdown",
   "id": "43684e5b-777f-43d5-9a98-ce7a711c1136",
   "metadata": {},
   "source": [
    "## Multiplied"
   ]
  },
  {
   "cell_type": "code",
   "execution_count": null,
   "id": "3b256b59-1b2c-4877-b8a7-86f84c9ecb02",
   "metadata": {},
   "outputs": [],
   "source": [
    "heat_map_title = f'{date_str} Multiplied Metrics'\n",
    "color_scale = 'dense_r'\n",
    "\n",
    "outcome_list = list(np.array(area_percent_list)*np.array(num_ch_list)*np.array(lower_tail_width_list))\n",
    "\n",
    "plot_detection.plot_heat_map(\n",
    "    outcome_list, heat_map_title, percent_of_peak_list, morph_radius_list, color_scale\n",
    ")"
   ]
  },
  {
   "cell_type": "markdown",
   "id": "24becfa3-4634-43f1-b5c5-9c463459948c",
   "metadata": {},
   "source": [
    "# Ensemble"
   ]
  },
  {
   "attachments": {},
   "cell_type": "markdown",
   "id": "57ad4835",
   "metadata": {},
   "source": [
    "## Individual"
   ]
  },
  {
   "attachments": {},
   "cell_type": "markdown",
   "id": "7a1d178f",
   "metadata": {},
   "source": [
    "### Sorted by Area"
   ]
  },
  {
   "attachments": {},
   "cell_type": "markdown",
   "id": "0f95f843",
   "metadata": {},
   "source": [
    "v0.2 Pre-Process"
   ]
  },
  {
   "cell_type": "code",
   "execution_count": null,
   "id": "c1148e83-6a17-4503-8814-053692d910b7",
   "metadata": {},
   "outputs": [],
   "source": [
    "date_str = '2012_05_07__17_59'\n",
    "# date_str = '2013_04_17__18_39'\n",
    "# date_str = '2014_06_26__14_19'\n",
    "# date_str = '2015_03_31__18_13'\n",
    "# date_str = '2015_07_16__17_12'\n",
    "\n",
    "\n",
    "raw_eqw = HE_FITS_DICT[date_str][0]\n",
    "\n",
    "# v0.2\n",
    "eqw = run_detection.pre_process_eqw_v0_1(raw_eqw)[0]\n",
    "percent_of_peak_list = [80,80,90,100,100]\n",
    "morph_radius_list = [13,17,15,13,17]\n",
    "\n",
    "ensemble_map, ch_masks, confidence_list = run_detection.get_ensemble_v0_2(\n",
    "    eqw, percent_of_peak_list, morph_radius_list\n",
    ")\n",
    "plot_detection.plot_ensemble(\n",
    "    eqw, ensemble_map, confidence_list, ch_masks\n",
    ")"
   ]
  },
  {
   "attachments": {},
   "cell_type": "markdown",
   "id": "8496c280",
   "metadata": {},
   "source": [
    "v0.3 Pre-Process"
   ]
  },
  {
   "cell_type": "code",
   "execution_count": null,
   "id": "d3f84800",
   "metadata": {},
   "outputs": [],
   "source": [
    "date_str = '2012_06_22__18_13'\n",
    "# date_str = '2014_06_26__14_19'\n",
    "# date_str = '2015_03_31__18_13'\n",
    "# date_str = '2015_07_16__17_12'\n",
    "\n",
    "raw_eqw = HE_FITS_DICT[date_str][0]\n",
    "\n",
    "# v0.3\n",
    "eqw = pre_process_eqw_v0_3(raw_eqw)[0]\n",
    "percent_of_peak_list = [80,80,90,100,100]\n",
    "morph_radius_list = [13,17,15,13,17]\n",
    "\n",
    "ensemble_map, ch_masks, confidence_list = run_detection.get_ensemble_v0_2(\n",
    "    eqw, percent_of_peak_list, morph_radius_list\n",
    ")\n",
    "plot_detection.plot_ensemble(\n",
    "    eqw, ensemble_map, confidence_list, ch_masks\n",
    ")"
   ]
  },
  {
   "attachments": {},
   "cell_type": "markdown",
   "id": "e492d033",
   "metadata": {},
   "source": [
    "### Sorted by Smoothness"
   ]
  },
  {
   "cell_type": "code",
   "execution_count": null,
   "id": "8e1db2d4",
   "metadata": {},
   "outputs": [],
   "source": [
    "# date_str = '2012_06_22__18_13'\n",
    "# date_str = '2014_06_26__14_19'\n",
    "date_str = '2015_03_31__18_13'\n",
    "# date_str = '2015_07_16__17_12'\n",
    "\n",
    "percent_of_peak_list = [80,80,90,100,100]\n",
    "morph_radius_list = [13,17,15,13,17]\n",
    "\n",
    "raw_eqw = HE_FITS_DICT[date_str][0]\n",
    "eqw = run_detection.pre_process_eqw_v0_1(raw_eqw)[0]\n",
    "ensemble_map, isolated_ch_im_list, confidence_list = run_detection.get_ensemble_v0_3(\n",
    "    eqw, percent_of_peak_list, morph_radius_list\n",
    ")\n",
    "plot_detection.plot_ensemble(\n",
    "    eqw, ensemble_map, confidence_list, isolated_ch_im_list\n",
    ")"
   ]
  },
  {
   "attachments": {},
   "cell_type": "markdown",
   "id": "2d947bd7",
   "metadata": {},
   "source": [
    "#### Percentage Rank"
   ]
  },
  {
   "cell_type": "code",
   "execution_count": null,
   "id": "bd9add29",
   "metadata": {},
   "outputs": [],
   "source": [
    "# date_str = '2013_04_17__18_39'\n",
    "# date_str = '2014_06_26__14_19'\n",
    "date_str = '2015_03_31__18_13'\n",
    "# date_str = '2015_07_16__17_12'\n",
    "\n",
    "percent_of_peak_list = [80,80,90,100,100]\n",
    "morph_radius_list = [13,17,15,13,17]\n",
    "\n",
    "raw_eqw = HE_FITS_DICT[date_str][0]\n",
    "eqw = run_detection.pre_process_eqw_v0_1(raw_eqw)[0]\n",
    "ensemble_map, isolated_ch_ims, confidence_list = run_detection.get_smooth_ensemble(\n",
    "    eqw, percent_of_peak_list, morph_radius_list, percent_rank=True\n",
    ")\n",
    "plot_detection.plot_ensemble(\n",
    "    eqw, ensemble_map, confidence_list, isolated_ch_ims\n",
    ")"
   ]
  },
  {
   "attachments": {},
   "cell_type": "markdown",
   "id": "0728003c",
   "metadata": {},
   "source": [
    "## Outcomes"
   ]
  },
  {
   "cell_type": "code",
   "execution_count": null,
   "id": "8506b865",
   "metadata": {},
   "outputs": [],
   "source": [
    "from scipy import ndimage\n",
    "from datetime import datetime\n",
    "from matplotlib import colors, colormaps\n",
    "\n",
    "\n",
    "oldcmp = colormaps['PuBuGn']\n",
    "newcolors = oldcmp(np.linspace(0, 1, 256))\n",
    "newcolors = newcolors[20:]\n",
    "\n",
    "background = np.array([0, 0, 0, 1])\n",
    "newcolors[:1, :] = background\n",
    "confidence_cmap = colors.ListedColormap(newcolors)"
   ]
  },
  {
   "attachments": {},
   "cell_type": "markdown",
   "id": "f7c81803",
   "metadata": {},
   "source": [
    "Threshold by Confidence"
   ]
  },
  {
   "cell_type": "code",
   "execution_count": null,
   "id": "8c87a4b3",
   "metadata": {},
   "outputs": [],
   "source": [
    "he_date_str = HE_DATE_LIST[52]\n",
    "confidence_level = 90\n",
    "\n",
    "raw_eqw = HE_FITS_DICT[he_date_str][0]\n",
    "eqw = run_detection.pre_process_eqw_v0_1(raw_eqw)[0]\n",
    "\n",
    "save_file = f'{ENSEMBLE_MAP_SAVE_DIR}{he_date_str}_ensemble_map.npy'\n",
    "ensemble_map = run_detection.get_saved_ensemble_map(save_file)[-1]\n",
    "confidence_map = np.where(ensemble_map >= confidence_level, ensemble_map, 0)\n",
    "\n",
    "labeled_map, num_ch = ndimage.label(confidence_map)\n",
    "\n",
    "fig, ax = plt.subplots(nrows=1, ncols=3, figsize=(15, 5))\n",
    "\n",
    "ax[0].set_title(he_date_str)\n",
    "ax[0].imshow(eqw, cmap=plt.cm.gray)\n",
    "ax[0].grid(False)\n",
    "\n",
    "ax[1].imshow(confidence_map, cmap=plt.cm.magma)\n",
    "ax[2].imshow(labeled_map, cmap=confidence_cmap)"
   ]
  },
  {
   "cell_type": "code",
   "execution_count": null,
   "id": "a1eef0ce",
   "metadata": {},
   "outputs": [],
   "source": [
    "he_date_str_list = HE_DATE_LIST[48:62]\n",
    "confidence_level_list = [0, 25, 50, 90]\n",
    "\n",
    "num_ch_by_confidences_list = []\n",
    "\n",
    "\n",
    "for he_date_str in he_date_str_list:\n",
    "    save_file = f'{ENSEMBLE_MAP_SAVE_DIR}{he_date_str}_ensemble_map.npy'\n",
    "    ensemble_map = run_detection.get_saved_ensemble_map(save_file)[-1]\n",
    "    confidence_maps = [np.where(ensemble_map >= confidence_level, ensemble_map, 0)\n",
    "                       for confidence_level in confidence_level_list]\n",
    "    \n",
    "    # List of number of CH detected by at given or greater confidence levels\n",
    "    num_ch_by_confidences = [ndimage.label(confidence_map)[1]\n",
    "                             for confidence_map in confidence_maps]\n",
    "    num_ch_by_confidences = np.flip(num_ch_by_confidences)\n",
    "    num_ch_by_confidences_list.append(num_ch_by_confidences)"
   ]
  },
  {
   "cell_type": "code",
   "execution_count": null,
   "id": "3e8dd142",
   "metadata": {},
   "outputs": [],
   "source": [
    "DICT_DATE_STR_FORMAT = '%Y_%m_%d__%H_%M'\n",
    "OUTCOME_CMAP = colormaps['viridis']\n",
    "\n",
    "\n",
    "def plot_outcome_vs_time(he_date_str_list, outcome_by_confidences_list, ylabel):\n",
    "    \"\"\"Plot outcome stacked plot vs time for ensemble maps.\n",
    "    \"\"\"\n",
    "    datetime_list = [datetime.strptime(he_date_str, DICT_DATE_STR_FORMAT)\n",
    "                     for he_date_str in he_date_str_list]\n",
    "    \n",
    "    # Array of differences in outcomes between confidence levels\n",
    "    outcome_diff_by_confidences = np.array([\n",
    "        np.append(outcome_by_confidences[0], np.diff(outcome_by_confidences))\n",
    "        for outcome_by_confidences in outcome_by_confidences_list\n",
    "    ])\n",
    "    outcome_diff_by_confidences = outcome_diff_by_confidences.T\n",
    "    \n",
    "    # max_outcome = np.max(outcome_by_confidences_list)\n",
    "\n",
    "    confidence_label_list = [f'{confidence_level}% Confidence'\n",
    "                            for confidence_level in reversed(confidence_level_list)]\n",
    "\n",
    "    color_list = OUTCOME_CMAP(np.linspace(0, 0.75, len(confidence_level_list)))\n",
    "\n",
    "    plt.figure(figsize=(12,5))\n",
    "    plt.stackplot(datetime_list, outcome_diff_by_confidences,\n",
    "                labels=confidence_label_list, colors=color_list)\n",
    "    plt.xticks(rotation=45, ha='right')\n",
    "    plt.ylabel(ylabel)\n",
    "    # plt.ylim([0, 1.05*max_outcome])\n",
    "    plt.legend(reverse=True)\n",
    "\n",
    "\n",
    "plot_outcome_vs_time(he_date_str_list, num_ch_by_confidences_list,\n",
    "                     'Detected CH Number')"
   ]
  },
  {
   "attachments": {},
   "cell_type": "markdown",
   "id": "e11b12e6",
   "metadata": {},
   "source": [
    "## Output"
   ]
  },
  {
   "attachments": {},
   "cell_type": "markdown",
   "id": "53525df2",
   "metadata": {},
   "source": [
    "Create Ensemble Maps & Save to Files (Expensive computation)"
   ]
  },
  {
   "cell_type": "code",
   "execution_count": null,
   "id": "f307c89e",
   "metadata": {},
   "outputs": [],
   "source": [
    "overwrite = False\n",
    "\n",
    "# v0.2\n",
    "# O X X\n",
    "# X O O\n",
    "# X O X\n",
    "percent_of_peak_list = [80,80, 90, 100,100]\n",
    "morph_radius_list = [15,17, 13, 13,17]\n",
    "\n",
    "# date_idx = 48 # 32: 05/06-08   # 48: 05/26-28\n",
    "\n",
    "if not os.path.isdir(ENSEMBLE_MAP_SAVE_DIR):\n",
    "    os.makedirs(ENSEMBLE_MAP_SAVE_DIR)\n",
    "\n",
    "# for he_date_str in HE_DATE_LIST[date_idx:date_idx + 3]:\n",
    "for he_date_str in HE_DATE_LIST:\n",
    "    \n",
    "    # Optionally overwrite existing files\n",
    "    save_file = f'{ENSEMBLE_MAP_SAVE_DIR}{he_date_str}_ensemble_map.npy'\n",
    "    if os.path.isfile(save_file) and not overwrite:\n",
    "        print((f'He {he_date_str} ensemble map already exists.'))\n",
    "        continue\n",
    "    \n",
    "    raw_eqw = HE_FITS_DICT[he_date_str][0]\n",
    "    eqw = run_detection.pre_process_eqw_v0_1(raw_eqw)[0]\n",
    "    # eqw = normalize(raw_eqw)[0]\n",
    "\n",
    "    # ensemble_map = run_detection.get_ensemble(\n",
    "    #     eqw, percent_of_peak_list, morph_radius_list\n",
    "    # )[0]\n",
    "    ensemble_map = run_detection.get_smooth_ensemble(\n",
    "        eqw, percent_of_peak_list, morph_radius_list\n",
    "    )[0]\n",
    "    \n",
    "    save_list = [he_date_str, percent_of_peak_list, morph_radius_list, ensemble_map]\n",
    "    np.save(save_file, np.array(save_list, dtype=object), allow_pickle=True)\n",
    "    print(f'{he_date_str} Ensemble Map Saved')"
   ]
  },
  {
   "attachments": {},
   "cell_type": "markdown",
   "id": "0e729d01",
   "metadata": {},
   "source": [
    "Save Ensemble Maps to Images"
   ]
  },
  {
   "cell_type": "code",
   "execution_count": null,
   "id": "795460ae",
   "metadata": {},
   "outputs": [],
   "source": [
    "output_dir = ENSEMBLE_MAPS_DIR + 'Preprocess_v0_3/2012_05_27/'\n",
    "date_idx = 48 # 32: 05/06-08   # 48: 05/26-28\n",
    "\n",
    "\n",
    "if not os.path.isdir(output_dir):\n",
    "    os.makedirs(output_dir)\n",
    "\n",
    "for he_date_str in HE_DATE_LIST[date_idx:date_idx + 3]:\n",
    "    \n",
    "    raw_eqw = HE_FITS_DICT[he_date_str][0]\n",
    "    eqw = run_detection.pre_process_eqw_v0_1(raw_eqw)[0]\n",
    "    # eqw = normalize(raw_eqw)[0]\n",
    "    \n",
    "    save_file = f'{ENSEMBLE_MAP_SAVE_DIR}{he_date_str}_ensemble_map.npy'\n",
    "    ensemble_map = run_detection.get_saved_ensemble_map(save_file)[-1]\n",
    "\n",
    "    fig, axes = plt.subplots(nrows=1, ncols=2, figsize=(20, 10))\n",
    "    ax = axes.ravel()\n",
    "\n",
    "    ax[0].set_title(he_date_str, fontsize=24)\n",
    "    ax[0].imshow(eqw, cmap=plt.cm.gray)\n",
    "    \n",
    "    ax[1].imshow(ensemble_map, cmap=plt.cm.magma)\n",
    "\n",
    "    plt.savefig(f'{output_dir}{he_date_str}.jpg')\n",
    "    plt.close(fig)"
   ]
  },
  {
   "attachments": {},
   "cell_type": "markdown",
   "id": "e5128c55",
   "metadata": {},
   "source": [
    "Write Images to Video"
   ]
  },
  {
   "cell_type": "code",
   "execution_count": null,
   "id": "adb63d07",
   "metadata": {},
   "outputs": [],
   "source": [
    "output_dir = ENSEMBLE_MAPS_DIR + 'Preprocess_v0_3/2012_05_27/'\n",
    "\n",
    "fps = 2\n",
    "\n",
    "run_detection.write_ensemble_video(output_dir, fps)"
   ]
  },
  {
   "cell_type": "code",
   "execution_count": null,
   "id": "6ea0633f",
   "metadata": {},
   "outputs": [],
   "source": []
  }
 ],
 "metadata": {
  "kernelspec": {
   "display_name": "jupyterlab-debugger",
   "language": "python",
   "name": "python3"
  },
  "language_info": {
   "codemirror_mode": {
    "name": "ipython",
    "version": 3
   },
   "file_extension": ".py",
   "mimetype": "text/x-python",
   "name": "python",
   "nbconvert_exporter": "python",
   "pygments_lexer": "ipython3",
   "version": "3.11.0"
  },
  "toc-autonumbering": true,
  "vscode": {
   "interpreter": {
    "hash": "9702f0bff29bacff409d5ed2ffa7f0a67aa5aa939df8fc4f21a3e6487ad9172c"
   }
  }
 },
 "nbformat": 4,
 "nbformat_minor": 5
}
