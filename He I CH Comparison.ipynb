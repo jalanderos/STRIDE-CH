{
 "cells": [
  {
   "cell_type": "code",
   "execution_count": null,
   "id": "27054106-5f21-4f2a-a320-a24b0e6d0b0b",
   "metadata": {
    "tags": []
   },
   "outputs": [],
   "source": [
    "import os\n",
    "import sunpy.map\n",
    "import matplotlib\n",
    "import numpy as np\n",
    "import plotly.io as pio\n",
    "from matplotlib import pyplot as plt\n",
    "\n",
    "import prepare_data\n",
    "import run_detection\n",
    "import plot_detection\n",
    "\n",
    "pio.renderers.default = 'vscode'\n",
    "%matplotlib inline"
   ]
  },
  {
   "attachments": {},
   "cell_type": "markdown",
   "id": "9f7089cf",
   "metadata": {},
   "source": [
    "# Prepare Data"
   ]
  },
  {
   "attachments": {},
   "cell_type": "markdown",
   "id": "c1f84995",
   "metadata": {},
   "source": [
    "Configure File Paths"
   ]
  },
  {
   "cell_type": "code",
   "execution_count": null,
   "id": "0c1131af",
   "metadata": {},
   "outputs": [],
   "source": [
    "DATA_DIR = 'assets/'\n",
    "\n",
    "ALL_HE_DIR = DATA_DIR + 'All_He/'\n",
    "SELECT_HE_DIR = DATA_DIR + 'Selected_He/'\n",
    "\n",
    "ALL_MAG_DIR = DATA_DIR + 'All_Mag/'\n",
    "SELECT_MAG_DIR = DATA_DIR + 'Selected_Mag/'\n",
    "\n",
    "ALL_EUV_DIR = DATA_DIR + 'All_EUV/'\n",
    "SELECT_EUV_DIR = DATA_DIR + 'Selected_EUV/'\n",
    "\n",
    "WSA_DIR = DATA_DIR + 'WSA_CHS_R000/'\n",
    "\n",
    "NSO_INPUT_DIR = DATA_DIR + 'NSO_Input/'\n",
    "NSO_SINGLE_DIR = DATA_DIR + 'NSO_Output/single/'\n",
    "NSO_MERGED_DIR = DATA_DIR + 'NSO_Output/merged/'\n",
    "\n",
    "SINGLE_MAPS_DIR = DATA_DIR + 'Output/Single_Maps/'\n",
    "ENSEMBLE_MAPS_DIR = DATA_DIR + 'Output/Ensemble_Maps_v0_3/2012_04_2012_08/'\n",
    "# ENSEMBLE_MAPS_DIR = DATA_DIR + 'Output/Ensemble_Maps_v0_3/Selected_Maps/'\n",
    "ENSEMBLE_MAP_SAVE_DIR = DATA_DIR + 'Output/Ensemble_Maps_v0_3/Numpy_Arrays/'\n",
    "\n",
    "REPROJECT_MAG_SAVE_DIR = DATA_DIR + 'Output/Reprojected_Mag/'\n",
    "\n",
    "DICT_DATE_STR_FORMAT = '%Y_%m_%d__%H_%M'"
   ]
  },
  {
   "cell_type": "markdown",
   "id": "f74a10ba-f2a1-401d-b55c-a15d66a7ad18",
   "metadata": {},
   "source": [
    "Rename Data\n",
    "- He I and magnetogram FITS files are renamed automatically"
   ]
  },
  {
   "cell_type": "code",
   "execution_count": null,
   "id": "8659fe01-26b6-4ba7-9aac-1e2e62b2c63c",
   "metadata": {},
   "outputs": [],
   "source": [
    "# Delete all gzipped files after renaming\n",
    "remove_gzip = True\n",
    "\n",
    "# Rename all He FITS files to include observation date in title\n",
    "prepare_data.rename_dir(ALL_HE_DIR, remove_gzip)\n",
    "\n",
    "# Rename all magnetogram FITS files to include observation date in title\n",
    "prepare_data.rename_dir(ALL_MAG_DIR, remove_gzip)\n",
    "\n",
    "# Rename all EUV FITS files to include observation date in title\n",
    "prepare_data.rename_dir(ALL_EUV_DIR, remove_gzip)"
   ]
  },
  {
   "attachments": {},
   "cell_type": "markdown",
   "id": "4d0c6db7-3240-467b-a9d4-76e9339adbde",
   "metadata": {},
   "source": [
    "Specify Date Range\n",
    "- WSA chs plots must be renamed to match the string format DICT_DATE_STR_FORMAT"
   ]
  },
  {
   "cell_type": "code",
   "execution_count": null,
   "id": "dbe54ac3",
   "metadata": {},
   "outputs": [],
   "source": [
    "# Option to extract all or only select few He FITS files of interest\n",
    "# All dates\n",
    "# date_range = ('2000_01_01__00_00', '2020_01_01__00_00')\n",
    "\n",
    "# CR 2136\n",
    "# date_range = ('2013_04_01__00_00', '2013_06_01__00_00')\n",
    "\n",
    "# CR 2151\n",
    "# date_range = ('2014_06_01__00_00', '2014_06_30__00_00')\n",
    "\n",
    "# GMU period early in Solar Cycle 24\n",
    "date_range = ('2012_04_01__00_00', '2012_09_01__00_00')\n",
    "\n",
    "# Select few dates for analysis\n",
    "# date_range = None"
   ]
  },
  {
   "attachments": {},
   "cell_type": "markdown",
   "id": "0bd5bbb9",
   "metadata": {},
   "source": [
    "Extract Data from File System"
   ]
  },
  {
   "cell_type": "code",
   "execution_count": null,
   "id": "37a6598a-c954-4bcc-9383-d6ab03b6364d",
   "metadata": {},
   "outputs": [],
   "source": [
    "# Extract He I observation datetimes from FITS files\n",
    "HE_DATE_LIST = prepare_data.get_fits_date_list(\n",
    "    date_range, ALL_HE_DIR, SELECT_HE_DIR\n",
    ")\n",
    "\n",
    "# Extract magnetogram datetimes from 6302l FITS files\n",
    "MAG_DATE_LIST = prepare_data.get_fits_date_list(\n",
    "    date_range, ALL_MAG_DIR, SELECT_MAG_DIR\n",
    ")\n",
    "\n",
    "# Extract EUV datetimes from FITS files\n",
    "EUV_DATE_LIST = prepare_data.get_fits_date_list(\n",
    "    date_range, ALL_EUV_DIR, SELECT_EUV_DIR\n",
    ")\n",
    "\n",
    "# Extract WSA coronal holes plot images from image files\n",
    "WSA_DICT = prepare_data.extract_comparison_ims(WSA_DIR)\n",
    "\n",
    "# Extract NSO pre-processed EQW arrays from NSO FITS files\n",
    "NSO_EQW_DICT = prepare_data.extract_nso_eqw(NSO_SINGLE_DIR)\n",
    "NSO_EQW_DATE_LIST = list(NSO_EQW_DICT.keys())\n",
    "NSO_EQW_DATE_LIST.sort()\n",
    "\n",
    "# Extract NSO estimated CH Carrington maps from NSO FITS files\n",
    "CH_MAP_DICT = prepare_data.extract_nso_ch_maps(NSO_MERGED_DIR)\n",
    "CH_MAP_LIST = list(CH_MAP_DICT.keys())\n",
    "CH_MAP_LIST.sort()"
   ]
  },
  {
   "attachments": {},
   "cell_type": "markdown",
   "id": "cab78849",
   "metadata": {},
   "source": [
    "Automatic EUV Download"
   ]
  },
  {
   "cell_type": "code",
   "execution_count": null,
   "id": "a0b8f468",
   "metadata": {},
   "outputs": [],
   "source": [
    "from datetime import datetime, timedelta\n",
    "DICT_DATE_STR_FORMAT = '%Y_%m_%d__%H_%M'\n",
    "\n",
    "# Dates for which to download EUV observations\n",
    "download_euv_dates = HE_DATE_LIST\n",
    "\n",
    "# Identify missing dates\n",
    "available_datetimes = [datetime.strptime(date_str, DICT_DATE_STR_FORMAT).date()\n",
    "                       for date_str in HE_DATE_LIST]\n",
    "days_in_period = (available_datetimes[-1] - available_datetimes[0]).days\n",
    "all_period_dates = set(available_datetimes[0] + timedelta(num_days)\n",
    "                       for num_days in range(days_in_period))\n",
    "missing_dates = all_period_dates - set(available_datetimes)\n",
    "\n",
    "# Missing datetime strings shifted to noon\n",
    "missing_date_str_list = [\n",
    "    datetime.strftime(missing_date, DICT_DATE_STR_FORMAT)\n",
    "    for missing_date in missing_dates\n",
    "]\n",
    "missing_date_str_list = [\n",
    "    missing_date_str[:12] + '13_00'\n",
    "    for missing_date_str in missing_date_str_list\n",
    "]\n",
    "\n",
    "# Add missing datetimes\n",
    "download_euv_dates.extend(missing_date_str_list)\n",
    "download_euv_dates.sort()"
   ]
  },
  {
   "cell_type": "code",
   "execution_count": null,
   "id": "1c55b559",
   "metadata": {},
   "outputs": [],
   "source": [
    "prepare_data.download_euv(download_euv_dates, EUV_DATE_LIST,\n",
    "                          download_dir=ALL_EUV_DIR, hr_window=3)"
   ]
  },
  {
   "attachments": {},
   "cell_type": "markdown",
   "id": "f16670ab",
   "metadata": {},
   "source": [
    "Manual EUV Download"
   ]
  },
  {
   "cell_type": "code",
   "execution_count": null,
   "id": "7807f60c",
   "metadata": {},
   "outputs": [],
   "source": [
    "import astropy.units as u\n",
    "from datetime import datetime, timedelta\n",
    "from sunpy.net import Fido, attrs as a\n",
    "\n",
    "\n",
    "date_str = '2012_05_12__18_28'\n",
    "hr_window = 1\n",
    "\n",
    "center_date = datetime.strptime(date_str, DICT_DATE_STR_FORMAT)\n",
    "        \n",
    "min_date = center_date - timedelta(hours=hr_window)\n",
    "max_date = center_date + timedelta(hours=hr_window)\n",
    "\n",
    "result = Fido.search(\n",
    "    a.Time(min_date, max_date),\n",
    "    a.Instrument.aia, a.Wavelength(193*u.angstrom),\n",
    "    a.Sample(30*u.minute), \n",
    ")\n",
    "result"
   ]
  },
  {
   "cell_type": "code",
   "execution_count": null,
   "id": "90278427",
   "metadata": {},
   "outputs": [],
   "source": [
    "row_num = 2\n",
    "download_dir = ALL_EUV_DIR\n",
    "\n",
    "Fido.fetch(result[:, row_num], path=download_dir + '{file}')"
   ]
  },
  {
   "attachments": {},
   "cell_type": "markdown",
   "id": "6181f045-b741-4915-a11b-e6e127064fab",
   "metadata": {},
   "source": [
    "# Available Data"
   ]
  },
  {
   "cell_type": "code",
   "execution_count": null,
   "id": "bb53e85c-08e3-4ea4-b224-2f95076b967d",
   "metadata": {},
   "outputs": [],
   "source": [
    "print('Available Datetimes for He I Observations:')\n",
    "prepare_data.display_dates(HE_DATE_LIST)"
   ]
  },
  {
   "cell_type": "code",
   "execution_count": null,
   "id": "22723302-2664-4607-9d54-99860d4c1124",
   "metadata": {},
   "outputs": [],
   "source": [
    "print('Available Datetimes for Magnetograms:')\n",
    "prepare_data.display_dates(MAG_DATE_LIST)"
   ]
  },
  {
   "cell_type": "code",
   "execution_count": null,
   "id": "b5e810be",
   "metadata": {},
   "outputs": [],
   "source": [
    "print('Available Datetimes for EUV Observations:')\n",
    "prepare_data.display_dates(EUV_DATE_LIST)"
   ]
  },
  {
   "cell_type": "code",
   "execution_count": null,
   "id": "388c2021",
   "metadata": {},
   "outputs": [],
   "source": [
    "print('Available Datetimes for NSO Pre-Processed He I Observations:')\n",
    "prepare_data.display_dates(NSO_EQW_DATE_LIST)"
   ]
  },
  {
   "cell_type": "code",
   "execution_count": null,
   "id": "4b2768c6",
   "metadata": {},
   "outputs": [],
   "source": [
    "print('Available Carrington Rotation for NSO Coronal Hole Maps:')\n",
    "prepare_data.display_crs(CH_MAP_LIST)"
   ]
  },
  {
   "attachments": {},
   "cell_type": "markdown",
   "id": "82e04759",
   "metadata": {},
   "source": [
    "# Magnetograms & EUV"
   ]
  },
  {
   "cell_type": "markdown",
   "id": "3b7a64d5",
   "metadata": {},
   "source": [
    "1. 2013_02_16__18_23 *Thin, stretched CHs*\n",
    "2. 2013_06_19__15_35 **Large, poorly visible CH**\n",
    "3. 2015_02_27__20_39 **Large polar CH**\n",
    "4. 2015_03_29__18_00 **Large limb CH** <u>Potential EUV AR Obscuring CH</u>\n",
    "5. 2015_03_31__18_13 **Large central CH**\n",
    "6. 2015_04_28__17_25 *EUV Filament Detection* <u>EUV AR Obscuring CH</u>\n",
    "7. 2015_06_19__16_33 **Large central CH**\n",
    "8. 2015_07_16__17_12 *Thin, stretched CHs*"
   ]
  },
  {
   "cell_type": "code",
   "execution_count": null,
   "id": "7a592a0a",
   "metadata": {},
   "outputs": [],
   "source": [
    "smooth_size_percent = 10\n",
    "\n",
    "for eqw_date_str in HE_DATE_LIST:\n",
    "\n",
    "    mag_date_str = prepare_data.get_nearest_date_str(\n",
    "        MAG_DATE_LIST, selected_date_str=eqw_date_str\n",
    "    )\n",
    "    euv_date_str = prepare_data.get_nearest_date_str(\n",
    "        date_str_list=EUV_DATE_LIST, selected_date_str=eqw_date_str\n",
    "    )\n",
    "\n",
    "    eqw_map = prepare_data.get_solis_sunpy_map(SELECT_HE_DIR + eqw_date_str + '.fts')\n",
    "    mag_map = prepare_data.get_solis_sunpy_map(SELECT_MAG_DIR + mag_date_str + '.fts')\n",
    "    euv_map = sunpy.map.Map(SELECT_EUV_DIR + euv_date_str + '.fts')\n",
    "\n",
    "    # Process magnetogram\n",
    "    smoothed_mag_map = prepare_data.get_smoothed_map(mag_map, smooth_size_percent)\n",
    "\n",
    "    fig = plt.figure(figsize=(18, 5))\n",
    "\n",
    "    ax = fig.add_subplot(131, projection=eqw_map)\n",
    "    eqw_map.plot(axes=ax, vmin=-100, vmax=100, title=eqw_date_str)\n",
    "\n",
    "    ax = fig.add_subplot(132, projection=mag_map)\n",
    "    mag_map.plot(axes=ax, vmin=-50, vmax=50, title=mag_date_str)\n",
    "    plot_detection.plot_map_contours(ax, smoothed_mag_map)\n",
    "    \n",
    "    ax = fig.add_subplot(133, projection=euv_map)\n",
    "    euv_map.plot(axes=ax, title=euv_date_str)"
   ]
  },
  {
   "attachments": {},
   "cell_type": "markdown",
   "id": "72852a08",
   "metadata": {},
   "source": [
    "Differentially Rotated Maps"
   ]
  },
  {
   "cell_type": "code",
   "execution_count": null,
   "id": "31ef7276",
   "metadata": {},
   "outputs": [],
   "source": [
    "eqw_date = HE_DATE_LIST[3]\n",
    "mag_date = MAG_DATE_LIST[4]\n",
    "\n",
    "he_fits = SELECT_HE_DIR + eqw_date + '.fts'\n",
    "eqw_map = prepare_data.get_solis_sunpy_map(he_fits)\n",
    "\n",
    "mag_fits = SELECT_MAG_DIR + mag_date + '.fts'\n",
    "mag_map = prepare_data.get_solis_sunpy_map(mag_fits)\n",
    "\n",
    "\n",
    "fig = plt.figure(figsize=(12, 5))\n",
    "\n",
    "ax1 = fig.add_subplot(121, projection=mag_map)\n",
    "mag_map.plot(axes=ax1, vmin=-50, vmax=50,\n",
    "               title=f'Original: {mag_map.date}')\n",
    "\n",
    "smoothed_map = prepare_data.get_smoothed_map(mag_map, smooth_size_percent=10)\n",
    "plot_detection.plot_map_contours(ax1, smoothed_map)\n",
    "\n",
    "reprojected_map = prepare_data.get_reprojected_map(\n",
    "   input_map=mag_map, target_map=eqw_map\n",
    ")\n",
    "\n",
    "ax2 = fig.add_subplot(122, projection=reprojected_map)\n",
    "reprojected_map.plot(axes=ax2, vmin=-50, vmax=50,\n",
    "                     title=f'Reprojection: {reprojected_map.date}')\n",
    "\n",
    "reprojected_smooth_map = prepare_data.get_reprojected_map(\n",
    "   input_map=smoothed_map, target_map=eqw_map\n",
    ")\n",
    "plot_detection.plot_map_contours(ax2, reprojected_smooth_map)"
   ]
  },
  {
   "attachments": {},
   "cell_type": "markdown",
   "id": "a13f3fed",
   "metadata": {},
   "source": [
    "# NSO Data"
   ]
  },
  {
   "attachments": {},
   "cell_type": "markdown",
   "id": "3d7cb277",
   "metadata": {},
   "source": [
    "## Input Level 2 Products: **Stage/Level2/**\n",
    "\n",
    "10830i equivalent width: **svsm_e3100_S2_yyyymmdd_hhmm.fts.gz**\n",
    "\n",
    "10830i intensity: **svsm_i3000_S2_yyyymmdd_hhmm.fts.gz**\n",
    "\n",
    "6302l magnetogram: **svsm_m1100_S2_yyyymmdd_hhmm.fts.gz**\n",
    "\n",
    "6302l intensity: **svsm_i1000_S2_yyyymmdd_hhmm.fts.gz**"
   ]
  },
  {
   "cell_type": "code",
   "execution_count": null,
   "metadata": {},
   "outputs": [],
   "source": [
    "raw_he_eqw_fits_path = NSO_INPUT_DIR + 'svsm_e3100_S2_20140626_1419.fts'\n",
    "\n",
    "raw_he_intensity_fits_path = NSO_INPUT_DIR + 'svsm_i3000_S2_20140626_1419.fts'\n",
    "\n",
    "raw_magnetogram_fits_path = NSO_INPUT_DIR + 'svsm_m1100_S2_20140626_1444.fts'\n",
    "\n",
    "raw_mag_intensity_fits_path = NSO_INPUT_DIR + 'svsm_i1000_S2_20140626_1444.fts'\n",
    "\n",
    "im_list = plot_detection.plot_raw_fits_content(\n",
    "    raw_he_eqw_fits_path, header_list=['IMTYPE'],\n",
    "    # print_header=True\n",
    ")\n",
    "plot_detection.plot_raw_fits_content(\n",
    "    raw_he_intensity_fits_path, header_list=['IMTYPE'],\n",
    "    # print_header=True\n",
    ")\n",
    "plot_detection.plot_raw_fits_content(\n",
    "    raw_magnetogram_fits_path, header_list=['IMTYPE'],\n",
    "    print_header=True\n",
    ")\n",
    "plot_detection.plot_raw_fits_content(\n",
    "    raw_mag_intensity_fits_path, header_list=['IMTYPE'],\n",
    "    # print_header=True\n",
    ")"
   ]
  },
  {
   "attachments": {},
   "cell_type": "markdown",
   "id": "d3a202e6",
   "metadata": {},
   "source": [
    "## Output Level 3 Products: **Stage/Level3/**\n",
    "He I EqW Maps List: **hDataList.txt**\n",
    "- 'Text list of available 10830 He EqW low-res sine-latlon heliographic maps'\n",
    "- Produced by **mk_datalist**\n",
    "  - Args: heliographic He I EqW maps\n",
    "\n",
    "Magnetogram Maps List: **mDataList.txt**\n",
    "- 'Text list of available 6301.5 low-res sine-latlon heliographic maps'\n",
    "- Produced by **mk_datalist**\n",
    "  - Args: heliographic magnetograms\n",
    "\n",
    "CH Maps List: **oDataList.txt**\n",
    "- 'Text list of available 10830 solar wind source sine-latlon heliographic maps'\n",
    "- Produced by **mk_datalist**\n",
    "  - Args: heliographic CH maps\n",
    "\n",
    "Carrington Rotation CH Images\n",
    "- '10830 solar wind sine-latlon daily synoptic map plots'\n",
    "- High-Res: **chsh.jpg**\n",
    "- Med-Res: **chsm.jpg**\n",
    "- Low-Res: **chsl.jpg**\n",
    "- Produced by **plot_lev3_map**\n",
    "  - Args: 1 carrington rotation CH map, CH maps list\n",
    "\n",
    "Unincluded He I Observation Image?: **svsm_o10mr_S3_{yyyymmdd}_{hhmm}.jpg**\n",
    "- Produced by **mk_obsimg**\n",
    "  - Args: 1 sky frame disk CH map, CH maps list"
   ]
  },
  {
   "attachments": {},
   "cell_type": "markdown",
   "id": "1f05b7fd",
   "metadata": {},
   "source": [
    "#### Single Maps: **../single/{yyyy}/**\n",
    "\n",
    "Sine-LatLon He I EQW: **svsm_e31hr_B3_{yyyymmdd}_{hhmm}.fts.gz**\n",
    "- '10830 He EqW high-res sine-latlon heliographic map'\n",
    "- Produced by **mk_synimg**\n",
    "  - Args: L2 He I EQW file, L2 He I continuum intensity file\n",
    "\n",
    "LatLon He I EQW: **svsm_e31lr_L3_{yyyymmdd}_{hhmm}.fts.gz**\n",
    "- '10830 He EqW low-res latlon heliographic map'\n",
    "- Produced by **mk_synimg**\n",
    "  - Args: L2 He I EQW file, L2 He I continuum intensity file\n",
    "\n",
    "Sine-LatLon Magnetogram: **svsm_m11hr_B3_{yyyymmdd}_{hhmm}.fts.gz**\n",
    "- '6301.5 high-res sine-latlon heliographic map'\n",
    "- Produced by **mk_synimg**\n",
    "  - Args: L2 magnetogram file, L2 6302l magnetogram intensity file\n",
    "\n",
    "LatLon Magnetogram: **svsm_m11lr_L3_{yyyymmdd}_{hhmm}.fts.gz**\n",
    "- '6301.5 low-res latlon heliographic map'\n",
    "- Produced by **mk_synimg**\n",
    "  - Args: L2 magnetogram file, L2 6302l magnetogram intensity file\n",
    "\n",
    "Sine-LatLon CH Map: **svsm_o1083_B3_{yyyymmdd}_{hhmm}.fts.gz**\n",
    "- '10830 solar wind source sine-latlon heliographic map'\n",
    "- Produced by **mk_holeimg**\n",
    "  - Args: processed He I EqW, He I EqW maps list, processed magnetogram, magnetogram maps list\n",
    "\n",
    "Sky Frame Disk CH Map: **svsmgo1083_B3_{yyyymmdd}_{hhmm}.fts.gz**\n",
    "- '10830 solar wind source sky frame heliocentric map'\n",
    "- Produced by **mk_dchimg**\n",
    "  - Args: 1 disk CH map, disk CH maps list"
   ]
  },
  {
   "cell_type": "code",
   "execution_count": null,
   "id": "74ea0d35",
   "metadata": {},
   "outputs": [],
   "source": [
    "# he_eqw_fits_path = NSO_SINGLE_DIR + 'svsm_e31hr_B3_20140606_1746.fts'\n",
    "he_eqw_fits_path = NSO_SINGLE_DIR + 'svsm_e31hr_B3_20140626_1419.fts'\n",
    "he_eqw_fits_path = NSO_SINGLE_DIR + 'svsm_e31lr_L3_20140626_1419.fts'\n",
    "\n",
    "# mag_fits_path = NSO_SINGLE_DIR + 'svsm_m11hr_B3_20140606_1605.fts'\n",
    "mag_fits_path = NSO_SINGLE_DIR + 'svsm_m11hr_B3_20140626_1444.fts'\n",
    "\n",
    "# E: Empty file\n",
    "# E ch_fits_map = NSO_SINGLE_DIR + 'svsm_o1083_B3_20140601_1836.fts'\n",
    "# E ch_fits_map = NSO_SINGLE_DIR + 'svsm_o1083_B3_20140603_1704.fts'\n",
    "# E ch_fits_map = NSO_SINGLE_DIR + 'svsm_o1083_B3_20140606_1755.fts'\n",
    "# E ch_fits_map = NSO_SINGLE_DIR + 'svsm_o1083_B3_20140612_1438.fts'\n",
    "# E ch_fits_map = NSO_SINGLE_DIR + 'svsm_o1083_B3_20140620_1711.fts'\n",
    "ch_fits_map = NSO_SINGLE_DIR + 'svsm_o1083_B3_20140626_1428.fts'\n",
    "\n",
    "# E sky_ch_fits_path = NSO_SINGLE_DIR + 'svsmgo1083_B3_20140606_1755.fts'\n",
    "sky_ch_fits_path = NSO_SINGLE_DIR + 'svsmgo1083_B3_20140626_1428.fts'\n",
    "\n",
    "plot_detection.plot_raw_fits_content(\n",
    "    he_eqw_fits_path, header_list=['IMTYPE', 'COMMENT2'],\n",
    "    cmaps=[plt.cm.gray, plt.cm.gray],\n",
    "    print_header=True\n",
    ")\n",
    "plot_detection.plot_raw_fits_content(\n",
    "    mag_fits_path, header_list=['IMTYPE', 'COMMENT1', 'COMMENT2'],\n",
    "    cmaps=[plt.cm.gray, plt.cm.gray, plt.cm.gray],\n",
    "    # print_header=True\n",
    ")\n",
    "plot_detection.plot_raw_fits_content(\n",
    "    ch_fits_map, header_list=['IMGTYP01', 'IMGTYP02', 'IMGTYP03'],\n",
    "    # print_header=True\n",
    ")\n",
    "im_list = plot_detection.plot_raw_fits_content(\n",
    "    sky_ch_fits_path, header_list=['COMMENT2'],\n",
    "    # print_header=True\n",
    ")"
   ]
  },
  {
   "attachments": {},
   "cell_type": "markdown",
   "id": "66f2567b",
   "metadata": {},
   "source": [
    "##### NSO EQW"
   ]
  },
  {
   "cell_type": "code",
   "execution_count": null,
   "metadata": {},
   "outputs": [],
   "source": [
    "fits = '~/Desktop/out_solarstrm_data/' + 'svsm_e31lr_L3_20140626_1419.fts'\n",
    "im_list = plot_detection.plot_raw_fits_content(\n",
    "    fits, header_list=['IMTYPE', 'COMMENT2'],\n",
    "    cmaps=[plt.cm.gray, plt.cm.gray, plt.cm.gray],\n",
    "    print_header=True\n",
    ")"
   ]
  },
  {
   "cell_type": "code",
   "execution_count": null,
   "id": "9a11b243",
   "metadata": {},
   "outputs": [],
   "source": [
    "date_str = '2014_06_26__00_00'\n",
    "\n",
    "raw_nso_eqw = NSO_EQW_DICT[date_str]\n",
    "nso_eqw_nan = prepare_data.pre_process_eqw_v0_1(raw_nso_eqw)[2]\n",
    "\n",
    "titles = ['EQW', 'EQW NaN']\n",
    "plot_detection.plot_hists(\n",
    "    [raw_nso_eqw, nso_eqw_nan], titles, semilogy=True\n",
    ")\n",
    "\n",
    "lower_bounds = [-1600,  0,  0]\n",
    "upper_bounds = [0,      250, 500]\n",
    "plot_detection.plot_thresholds(\n",
    "    nso_eqw_nan, bounds=[lower_bounds, upper_bounds], \n",
    "    bounds_as_percent=False, threshold_type='band'\n",
    ")\n",
    "plot_detection.plot_thresholds(\n",
    "    nso_eqw_nan, bounds=[75, 85, 100], bounds_as_percent=True\n",
    ")"
   ]
  },
  {
   "attachments": {},
   "cell_type": "markdown",
   "id": "c1ce2ca2",
   "metadata": {},
   "source": [
    "### Merged Maps: **../merged/carr-daily/**\n",
    "Carrington Rotation CH Map: **svsm_o31hr_B3_cr{RRRR}_{DDD}.fts.gz**\n",
    "- 'Solar wind source high-res sine-latlon daily synoptic map'\n",
    "- Produced by **create_crmap**\n",
    "  - Args: 27 most recent disk CH maps, disk CH maps list"
   ]
  },
  {
   "cell_type": "code",
   "execution_count": null,
   "id": "915a4889",
   "metadata": {},
   "outputs": [],
   "source": [
    "synoptic_ch_fits_path = NSO_MERGED_DIR + 'svsm_o31hr_B3_cr2152_275.fts'\n",
    "\n",
    "plot_detection.plot_raw_fits_content(\n",
    "    synoptic_ch_fits_path,\n",
    "    # header_list=['DATE', 'CARR01', 'IMTYPE'],\n",
    "    header_list=['IMGTYP01', 'IMGTYP02', 'IMGTYP03', 'IMGTYP04'],\n",
    "    # print_header=True\n",
    ")"
   ]
  },
  {
   "cell_type": "markdown",
   "id": "4f8f1a26",
   "metadata": {},
   "source": [
    "## Algorithm on NSO EQW"
   ]
  },
  {
   "cell_type": "code",
   "execution_count": null,
   "id": "b2ef1316",
   "metadata": {},
   "outputs": [],
   "source": [
    "date_str = '2014_06_26__00_00'\n",
    "\n",
    "raw_nso_eqw = NSO_EQW_DICT[date_str]\n",
    "nso_eqw_nan = prepare_data.pre_process_eqw_v0_01(raw_nso_eqw)[2]\n",
    "\n",
    "percent_of_peak_list = [80,85,90]\n",
    "radius_list = [6]\n",
    "\n",
    "ensemble_map, holes_mask_list, confidence_list = run_detection.get_ensemble(\n",
    "    nso_eqw_nan, percent_of_peak_list, radius_list)\n",
    "\n",
    "title_list = [f'{percent_of_peak:d}% of Histogram Peak | {radius:d}px Radius'\n",
    "              for percent_of_peak in percent_of_peak_list\n",
    "              for radius in radius_list]\n",
    "\n",
    "plot_detection.plot_ensemble(\n",
    "    nso_eqw_nan, ensemble_map, confidence_list, title_list, holes_mask_list\n",
    ")"
   ]
  },
  {
   "attachments": {},
   "cell_type": "markdown",
   "id": "3a225787",
   "metadata": {},
   "source": [
    "## Carrington Map Comparison"
   ]
  },
  {
   "cell_type": "code",
   "execution_count": null,
   "id": "2a9a4780",
   "metadata": {},
   "outputs": [],
   "source": [
    "percent_of_peak_list = [80,90,100]\n",
    "radius_list = [11,13,15]\n",
    "\n",
    "for eqw_date in list(reversed(EQW_DATE_LIST)):\n",
    "    eqw = EQW_DICT[eqw_date]\n",
    "    \n",
    "    ensemble_map = run_detection.get_ensemble(\n",
    "        eqw, percent_of_peak_list, radius_list\n",
    "    )[0]\n",
    "\n",
    "    euv = EUV_DICT[eqw_date]\n",
    "\n",
    "    plot_detection.plot_ensemble_comparison(eqw, eqw_date, ensemble_map, euv)"
   ]
  },
  {
   "cell_type": "code",
   "execution_count": null,
   "id": "84c1daab",
   "metadata": {},
   "outputs": [],
   "source": [
    "cr_str = '2151.0342_2152.1035'\n",
    "\n",
    "plot_detection.plot_ch_map(list(reversed(HE_DATE_LIST)), cr_str, CH_MAP_DICT)"
   ]
  },
  {
   "attachments": {},
   "cell_type": "markdown",
   "id": "24becfa3-4634-43f1-b5c5-9c463459948c",
   "metadata": {},
   "source": [
    "# Ensemble Maps"
   ]
  },
  {
   "attachments": {},
   "cell_type": "markdown",
   "id": "e49f2210",
   "metadata": {},
   "source": [
    "Magnetogram & EUV"
   ]
  },
  {
   "cell_type": "code",
   "execution_count": null,
   "id": "667442a5",
   "metadata": {},
   "outputs": [],
   "source": [
    "overwrite = True\n",
    "output_dir = ENSEMBLE_MAPS_DIR + 'Full_Comparison/'\n",
    "smooth_size_percent = 10\n",
    "\n",
    "if not os.path.isdir(output_dir):\n",
    "    os.makedirs(output_dir)\n",
    "\n",
    "for euv_date_str in EUV_DATE_LIST:\n",
    "    \n",
    "    # Optionally overwrite existing files\n",
    "    comparison_img_file = f'{output_dir}EUV{euv_date_str}.jpg'\n",
    "    if os.path.isfile(comparison_img_file) and not overwrite:\n",
    "        print((f'EUV {euv_date_str} full comparison already exists.'))\n",
    "        continue\n",
    "\n",
    "    he_date_str = prepare_data.get_latest_date_str(\n",
    "        HE_DATE_LIST, selected_date_str=euv_date_str\n",
    "    )\n",
    "    mag_date_str = prepare_data.get_nearest_date_str(\n",
    "        MAG_DATE_LIST, selected_date_str=he_date_str\n",
    "    )\n",
    "    \n",
    "    # Extract He I observation\n",
    "    he_map = prepare_data.get_solis_sunpy_map(ALL_HE_DIR + he_date_str + '.fts')\n",
    "    if not he_map:\n",
    "        print(f'{he_date_str} He I observation extraction failed.')\n",
    "        continue\n",
    "    \n",
    "    mag_map = prepare_data.get_solis_sunpy_map(ALL_MAG_DIR + mag_date_str + '.fts')\n",
    "    euv_map = sunpy.map.Map(ALL_EUV_DIR + euv_date_str + '.fts')\n",
    "\n",
    "    # Process magnetogram\n",
    "    smoothed_mag_map = prepare_data.get_smoothed_map(mag_map, smooth_size_percent)\n",
    "    \n",
    "    # Extract saved ensemble map array and convert to Sunpy map\n",
    "    save_file = f'{ENSEMBLE_MAP_SAVE_DIR}{he_date_str}_ensemble_map.npy'\n",
    "    ensemble_map_data = run_detection.get_saved_ensemble_map(save_file)[-1]\n",
    "    ensemble_map = sunpy.map.Map(np.flipud(ensemble_map_data), he_map.meta)\n",
    "    ensemble_map.plot_settings['cmap'] = matplotlib.colormaps['magma']\n",
    "    \n",
    "    fig = plt.figure(figsize=(24, 5))\n",
    "\n",
    "    ax = fig.add_subplot(141, projection=he_map)\n",
    "    he_map.plot(axes=ax, vmin=-100, vmax=100, title=he_date_str)\n",
    "\n",
    "    ax = fig.add_subplot(142, projection=he_map)\n",
    "    ensemble_map.plot(axes=ax, title='')\n",
    "    \n",
    "    ax = fig.add_subplot(143, projection=mag_map)\n",
    "    mag_map.plot(axes=ax, vmin=-50, vmax=50, title=mag_date_str)\n",
    "    plot_detection.plot_map_contours(ax, smoothed_mag_map)\n",
    "    \n",
    "    ax = fig.add_subplot(144, projection=euv_map)\n",
    "    euv_map.plot(axes=ax, title=euv_date_str)\n",
    "    \n",
    "    plt.savefig(comparison_img_file)\n",
    "    plt.close(fig)\n",
    "\n",
    "    print(f'{euv_date_str} map comparison saved.')"
   ]
  },
  {
   "attachments": {},
   "cell_type": "markdown",
   "id": "edf850f7",
   "metadata": {},
   "source": [
    "Create Reprojected Magnetograms and Save to Files (Expensive computation)"
   ]
  },
  {
   "cell_type": "code",
   "execution_count": null,
   "id": "a9971cf3",
   "metadata": {},
   "outputs": [],
   "source": [
    "overwrite = False\n",
    "smooth_size_percent = 10\n",
    "\n",
    "if not os.path.isdir(REPROJECT_MAG_SAVE_DIR):\n",
    "    os.makedirs(REPROJECT_MAG_SAVE_DIR)\n",
    "\n",
    "for he_date_str in HE_DATE_LIST:\n",
    "\n",
    "    mag_date_str = prepare_data.get_nearest_date_str(\n",
    "        MAG_DATE_LIST, selected_date_str=he_date_str\n",
    "    )\n",
    "    \n",
    "    fits_file_name = f'{REPROJECT_MAG_SAVE_DIR}Mag{mag_date_str}_He{he_date_str}'\n",
    "    reprojected_fits_file = f'{fits_file_name}.fits'\n",
    "    reprojected_smooth_fits_file = f'{fits_file_name}_smooth.fits'\n",
    "    \n",
    "    # Optionally overwrite existing files\n",
    "    if os.path.isfile(reprojected_fits_file):\n",
    "        if overwrite:\n",
    "            os.remove(reprojected_fits_file)\n",
    "        else:\n",
    "            print((f'{mag_date_str} magnetogram reprojected '\n",
    "                   + f'to {he_date_str} already exists.'))\n",
    "            continue\n",
    "    \n",
    "    if os.path.isfile(reprojected_smooth_fits_file):\n",
    "        if overwrite:\n",
    "            os.remove(reprojected_smooth_fits_file)\n",
    "        else:\n",
    "            print((f'{mag_date_str} magnetogram reprojected '\n",
    "                   + f'to {he_date_str} already exists.'))\n",
    "            continue\n",
    "    \n",
    "    # Extract He I observation\n",
    "    he_map = prepare_data.get_solis_sunpy_map(ALL_HE_DIR + he_date_str + '.fts')\n",
    "    if not he_map:\n",
    "        print(f'{he_date_str} He I observation extraction failed.')\n",
    "        continue\n",
    "    \n",
    "    # Extract Magnetogram observation\n",
    "    mag_map = prepare_data.get_solis_sunpy_map(ALL_MAG_DIR + mag_date_str + '.fts')\n",
    "\n",
    "    # Process magnetogram\n",
    "    smoothed_map = prepare_data.get_smoothed_map(mag_map, smooth_size_percent)\n",
    "    reprojected_mag_map = prepare_data.get_reprojected_map(\n",
    "        input_map=mag_map, target_map=he_map\n",
    "    )\n",
    "    reprojected_smooth_map = prepare_data.get_reprojected_map(\n",
    "        input_map=smoothed_map, target_map=he_map\n",
    "    )\n",
    "    \n",
    "    # Save to FITS files\n",
    "    reprojected_mag_map.save(reprojected_fits_file)\n",
    "    reprojected_smooth_map.save(f'{fits_file_name}_smooth.fits')\n",
    "    print(f'{mag_date_str} magnetogram reprojected to {he_date_str} maps saved.')"
   ]
  },
  {
   "attachments": {},
   "cell_type": "markdown",
   "id": "e06f01c7",
   "metadata": {},
   "source": [
    "Magnetogram Contours"
   ]
  },
  {
   "cell_type": "code",
   "execution_count": null,
   "id": "d7fd03d8",
   "metadata": {},
   "outputs": [],
   "source": [
    "output_dir = ENSEMBLE_MAPS_DIR + 'Mag_Comparison/'\n",
    "\n",
    "if not os.path.isdir(output_dir):\n",
    "    os.makedirs(output_dir)\n",
    "\n",
    "for he_date_str in HE_DATE_LIST:\n",
    "\n",
    "    mag_date_str = prepare_data.get_nearest_date_str(\n",
    "        MAG_DATE_LIST, selected_date_str=he_date_str\n",
    "    )\n",
    "\n",
    "    # Extract He I observation\n",
    "    he_map = prepare_data.get_solis_sunpy_map(ALL_HE_DIR + he_date_str + '.fts')\n",
    "    if not he_map:\n",
    "        print(f'{he_date_str} He I observation extraction failed.')\n",
    "        continue\n",
    "\n",
    "    # Extract saved processed magnetograms\n",
    "    mag_fits_name = f'{REPROJECT_MAG_SAVE_DIR}Mag{mag_date_str}_He{he_date_str}'\n",
    "    reprojected_fits_file = f'{mag_fits_name}.fits'\n",
    "    reprojected_smooth_fits_file = f'{mag_fits_name}_smooth.fits'\n",
    "    reprojected_mag_map = sunpy.map.Map(reprojected_fits_file)\n",
    "    reprojected_smooth_map = sunpy.map.Map(reprojected_smooth_fits_file)\n",
    "\n",
    "    # Extract saved ensemble map array and convert to Sunpy map\n",
    "    save_file = f'{ENSEMBLE_MAP_SAVE_DIR}{he_date_str}_ensemble_map.npy'\n",
    "    ensemble_map_data = run_detection.get_saved_ensemble_map(save_file)[-1]\n",
    "    ensemble_map = sunpy.map.Map(np.flipud(ensemble_map_data), he_map.meta)\n",
    "    ensemble_map.plot_settings['cmap'] = matplotlib.colormaps['magma']\n",
    "\n",
    "    fig = plt.figure(figsize=(18, 5))\n",
    "\n",
    "    ax = fig.add_subplot(131, projection=he_map)\n",
    "    he_map.plot(axes=ax, vmin=-100, vmax=100, title=he_date_str)\n",
    "\n",
    "    ax = fig.add_subplot(132, projection=he_map)\n",
    "    ensemble_map.plot(axes=ax, title='')\n",
    "    plot_detection.plot_map_contours(ax, reprojected_smooth_map)\n",
    "\n",
    "    ax = fig.add_subplot(133, projection=he_map)\n",
    "    reprojected_mag_map.plot(axes=ax, vmin=-50, vmax=50, title=mag_date_str)\n",
    "    plot_detection.plot_map_contours(ax, reprojected_smooth_map)\n",
    "\n",
    "    plt.savefig(f'{output_dir}He{he_date_str}.jpg')\n",
    "    plt.close(fig)\n",
    "\n",
    "    print(f'{he_date_str} map comparison saved')"
   ]
  },
  {
   "attachments": {},
   "cell_type": "markdown",
   "id": "6eb4de14",
   "metadata": {},
   "source": [
    "Ensemble Magnetic Contours & EUV "
   ]
  },
  {
   "cell_type": "code",
   "execution_count": null,
   "id": "a04b9cc3",
   "metadata": {},
   "outputs": [],
   "source": [
    "overwrite = False\n",
    "output_dir = ENSEMBLE_MAPS_DIR + 'EUV_Comparison/'\n",
    "\n",
    "if not os.path.isdir(output_dir):\n",
    "    os.makedirs(output_dir)\n",
    "\n",
    "for euv_date_str in EUV_DATE_LIST:\n",
    "    \n",
    "    # Optionally overwrite existing files\n",
    "    comparison_img_file = f'{output_dir}EUV{euv_date_str}.jpg'\n",
    "    if os.path.isfile(comparison_img_file) and not overwrite:\n",
    "        print((f'EUV {euv_date_str} comparison already exists.'))\n",
    "        continue\n",
    "\n",
    "    he_date_str = prepare_data.get_latest_date_str(\n",
    "        HE_DATE_LIST, selected_date_str=euv_date_str\n",
    "    )\n",
    "    mag_date_str = prepare_data.get_nearest_date_str(\n",
    "        MAG_DATE_LIST, selected_date_str=he_date_str\n",
    "    )\n",
    "    \n",
    "    # Extract He I observation\n",
    "    he_map = prepare_data.get_solis_sunpy_map(ALL_HE_DIR + he_date_str + '.fts')\n",
    "    if not he_map:\n",
    "        print(f'{he_date_str} He I observation extraction failed.')\n",
    "        continue\n",
    "    \n",
    "    euv_map = sunpy.map.Map(ALL_EUV_DIR + euv_date_str + '.fts')\n",
    "    \n",
    "    # Extract saved ensemble map array and convert to Sunpy map\n",
    "    save_file = f'{ENSEMBLE_MAP_SAVE_DIR}{he_date_str}_ensemble_map.npy'\n",
    "    ensemble_map_data = run_detection.get_saved_ensemble_map(save_file)[-1]\n",
    "    ensemble_map = sunpy.map.Map(np.flipud(ensemble_map_data), he_map.meta)\n",
    "    ensemble_map.plot_settings['cmap'] = matplotlib.colormaps['magma']    \n",
    "\n",
    "    # Extract saved processed magnetogram\n",
    "    mag_fits_name = f'{REPROJECT_MAG_SAVE_DIR}Mag{mag_date_str}_He{he_date_str}'\n",
    "    reprojected_smooth_fits_file = f'{mag_fits_name}_smooth.fits'\n",
    "    reprojected_smooth_map = sunpy.map.Map(reprojected_smooth_fits_file)\n",
    "    \n",
    "    fig = plt.figure(figsize=(18, 5))\n",
    "    \n",
    "    # Plot He observation\n",
    "    ax = fig.add_subplot(131, projection=he_map)\n",
    "    he_map.plot(axes=ax, vmin=-100, vmax=100, title=he_date_str)\n",
    "    \n",
    "    # Plot ensemble map with overlayed neutral lines\n",
    "    ax = fig.add_subplot(132, projection=he_map)\n",
    "    ensemble_map.plot(axes=ax, title='')\n",
    "    plot_detection.plot_map_contours(ax, reprojected_smooth_map)\n",
    "    \n",
    "    # Plot EUV observation\n",
    "    ax = fig.add_subplot(133, projection=euv_map)\n",
    "    euv_map.plot(axes=ax, title=euv_date_str)\n",
    "    \n",
    "    # Save plot\n",
    "    plt.savefig(comparison_img_file)\n",
    "    plt.close(fig)\n",
    "    print(f'{euv_date_str} map comparison saved.')"
   ]
  },
  {
   "cell_type": "markdown",
   "id": "eb4ca0bc",
   "metadata": {},
   "source": [
    "Write Images to Video"
   ]
  },
  {
   "cell_type": "code",
   "execution_count": null,
   "id": "f62f042d",
   "metadata": {},
   "outputs": [],
   "source": [
    "# output_dir = ENSEMBLE_MAPS_DIR + 'Full_Comparison/'\n",
    "output_dir = ENSEMBLE_MAPS_DIR + 'EUV_Comparison/'\n",
    "\n",
    "run_detection.write_ensemble_video(output_dir, fps=2)"
   ]
  },
  {
   "cell_type": "code",
   "execution_count": null,
   "id": "6b312a5c",
   "metadata": {},
   "outputs": [],
   "source": []
  }
 ],
 "metadata": {
  "kernelspec": {
   "display_name": "jupyterlab-debugger",
   "language": "python",
   "name": "python3"
  },
  "language_info": {
   "codemirror_mode": {
    "name": "ipython",
    "version": 3
   },
   "file_extension": ".py",
   "mimetype": "text/x-python",
   "name": "python",
   "nbconvert_exporter": "python",
   "pygments_lexer": "ipython3",
   "version": "3.11.0"
  },
  "toc-autonumbering": true,
  "vscode": {
   "interpreter": {
    "hash": "9702f0bff29bacff409d5ed2ffa7f0a67aa5aa939df8fc4f21a3e6487ad9172c"
   }
  }
 },
 "nbformat": 4,
 "nbformat_minor": 5
}
