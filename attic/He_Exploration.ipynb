{
 "cells": [
  {
   "cell_type": "code",
   "execution_count": null,
   "id": "7642142b",
   "metadata": {
    "tags": []
   },
   "outputs": [],
   "source": [
    "import os\n",
    "import glob\n",
    "import math\n",
    "import shutil\n",
    "import numpy as np\n",
    "from PIL import Image\n",
    "from astropy.io import fits\n",
    "from datetime import datetime\n",
    "\n",
    "from matplotlib import cm\n",
    "from matplotlib import pyplot as plt\n",
    "from matplotlib.colors import ListedColormap\n",
    "\n",
    "from scipy import fft, ndimage\n",
    "from sklearn.cluster import MeanShift\n",
    "from skimage import filters, morphology, feature, transform, measure"
   ]
  },
  {
   "cell_type": "markdown",
   "id": "90bf26cc",
   "metadata": {
    "tags": []
   },
   "source": [
    "# Functions"
   ]
  },
  {
   "cell_type": "markdown",
   "id": "c3890c20-f495-43e4-9a4d-e12b5a58b25a",
   "metadata": {},
   "source": [
    "## Calculation Routines"
   ]
  },
  {
   "cell_type": "code",
   "execution_count": null,
   "id": "b1614f59",
   "metadata": {
    "tags": []
   },
   "outputs": [],
   "source": [
    "def get_val(array, percent, abs_percent=True):\n",
    "    array = array[~np.isnan(array)]\n",
    "    \n",
    "    if abs_percent:\n",
    "        min_val = np.min(array)\n",
    "        max_val = np.max(array)\n",
    "        array_range = max_val - min_val\n",
    "        val = percent/100 * array_range + min_val\n",
    "    else:\n",
    "        max_val = np.max(array)\n",
    "        val = max_val * percent/100\n",
    "    \n",
    "    return val\n",
    "\n",
    "\n",
    "def get_percent(array, val, abs_percent=True):\n",
    "    array = array[~np.isnan(array)]\n",
    "    \n",
    "    if abs_percent:\n",
    "        min_val = np.min(array)\n",
    "        max_val = np.max(array)\n",
    "        array_range = max_val - min_val\n",
    "        percent = (val - min_val)/array_range * 100\n",
    "    else:\n",
    "        max_val = np.max(array)\n",
    "        percent = val/max_val * 100\n",
    "    \n",
    "    return percent\n",
    "\n",
    "\n",
    "def get_peak_percent(array, skip_zero=False):\n",
    "    hist, edges = get_hist(array)\n",
    "    \n",
    "    if skip_zero:\n",
    "        peak_i = np.argmax(hist[1:])\n",
    "    else:\n",
    "        peak_i = np.argmax(hist)\n",
    "    return (edges[peak_i] + edges[peak_i+1])/2\n",
    "\n",
    "\n",
    "def get_percent_to_peak_percent(array, percent_to_peak):\n",
    "    percent_of_zero_val = get_percent(array, 0)\n",
    "    peak_percent = get_peak_percent(array, skip_zero=True)\n",
    "    \n",
    "#     print((percent_of_zero_val, peak_percent))\n",
    "\n",
    "    return percent_to_peak/100*(peak_percent - percent_of_zero_val) + \\\n",
    "        percent_of_zero_val\n",
    "\n",
    "\n",
    "def get_hist(array, n=1000):\n",
    "    \"\"\"Get counts in each of n bins and a list of bin edges normalized as % of max value\"\"\"\n",
    "    array = array[~np.isnan(array)]\n",
    "    min_val = np.min(array)\n",
    "    max_val = np.max(array)\n",
    "    \n",
    "    histogram, bin_edges = np.histogram(array, bins=n, range=(min_val,max_val))\n",
    "    # bin_edges = np.hstack((bin_edges[bin_edges < 0]/abs(min_val)*100,\n",
    "    #                       bin_edges[bin_edges >= 0]/max_val*100))\n",
    "    array_range = max_val - min_val\n",
    "    bin_edges = 100 / array_range * (bin_edges - min_val)\n",
    "    \n",
    "    return histogram, bin_edges"
   ]
  },
  {
   "cell_type": "markdown",
   "id": "bca68e66-a87f-4185-b546-629c657aa3db",
   "metadata": {},
   "source": [
    "### Extraction"
   ]
  },
  {
   "cell_type": "code",
   "execution_count": null,
   "id": "567725e7-a9d1-41fd-a638-e3596a2137ca",
   "metadata": {},
   "outputs": [],
   "source": [
    "src_folder = '../CHS_DETECT/'\n",
    "\n",
    "def extract_fits(file_num, src_folder=src_folder):\n",
    "    fits_list = glob.glob(src_folder + 'He/*.fts')\n",
    "    fits_list.sort()\n",
    "        \n",
    "    he_fits_files = [fits.open(fits_path) for fits_path in fits_list]\n",
    "    he_fits = he_fits_files[file_num]\n",
    "\n",
    "    # Flip data to visualize arrays as images\n",
    "    eqw = np.flip(he_fits[0].data[0], axis=0)\n",
    "    continuum = np.flip(he_fits[0].data[1], axis=0)\n",
    "    try:\n",
    "        cloud = np.flip(he_fits[0].data[2], axis=0)\n",
    "    except:\n",
    "        cloud = np.zeros_like(continuum)\n",
    "    \n",
    "    date = datetime.strptime(he_fits[0].header['DATE'], \n",
    "                             '%Y-%m-%dT%H:%M:%S')\n",
    "    \n",
    "    try:\n",
    "        titles = [he_fits[0].header[f'IMTYPE{i}'] for i in range(1,4)]\n",
    "    except:\n",
    "        titles = [f'Array {i}' for i in range(1,4)]\n",
    "        \n",
    "    return eqw, continuum, cloud, date, titles\n",
    "\n",
    "\n",
    "def extract_euv(file_num, src_folder=src_folder):\n",
    "    euv_list = glob.glob(src_folder + 'EUV/*.png')\n",
    "    euv_list.sort()\n",
    "    euv = Image.open(euv_list[file_num])\n",
    "    \n",
    "    return euv\n",
    "    \n",
    "\n",
    "def edit_eqw(eqw, peak_count_cutoff_percent=0.1):\n",
    "    \"\"\"\n",
    "    Args\n",
    "        peak_count_cutoff_percent: Vertical cutoff for histogram\n",
    "            counts below a percentage\n",
    "    \"\"\"\n",
    "    eqw_nan = np.where(eqw == 0, np.NaN, eqw)\n",
    "\n",
    "    hist, edges = get_hist(eqw_nan)\n",
    "    max_count = np.max(hist)\n",
    "\n",
    "    cutoff = max_count*peak_count_cutoff_percent/100\n",
    "    cutoff_edges = np.where(hist > cutoff, get_val(eqw_nan, edges[:-1]), 0)\n",
    "\n",
    "#     eqw_high_cut = np.clip(eqw_nan, np.min(eqw), np.max(cutoff_edges))\n",
    "    eqw_high_cut = np.where(eqw > np.max(cutoff_edges), np.NaN, eqw_nan)\n",
    "\n",
    "    eqw_band_cut = np.clip(eqw_high_cut, np.min(cutoff_edges), np.max(cutoff_edges))\n",
    "#     eqw_band_cut = np.where(eqw < np.min(cutoff_edges), np.NaN, eqw_high_cut)\n",
    "    \n",
    "    return eqw_band_cut, eqw_high_cut, eqw_nan"
   ]
  },
  {
   "cell_type": "markdown",
   "id": "274303ad-4c84-411e-8652-dcfc620c4403",
   "metadata": {},
   "source": [
    "### Candidates"
   ]
  },
  {
   "cell_type": "code",
   "execution_count": null,
   "id": "70c81adc-a6a7-40f6-9e1a-cdf01720759c",
   "metadata": {},
   "outputs": [],
   "source": [
    "def morph(array, open_radius, close_radius=None, close_first=False,\n",
    "          grey=False):\n",
    "    if close_radius == None:\n",
    "        close_radius = open_radius\n",
    "        \n",
    "    if grey:\n",
    "        if close_first:\n",
    "            im_1 = morphology.closing(array, morphology.disk(close_radius))\n",
    "            im_2 = morphology.opening(im_1, morphology.disk(open_radius))\n",
    "        else:\n",
    "            im_1 = morphology.opening(array, morphology.disk(open_radius))\n",
    "            im_2 = morphology.closing(im_1, morphology.disk(close_radius))\n",
    "    else:\n",
    "        if close_first:\n",
    "            im_1 = morphology.binary_closing(array, morphology.disk(close_radius))\n",
    "            im_2 = morphology.binary_opening(im_1, morphology.disk(open_radius))\n",
    "        else:\n",
    "            im_1 = morphology.binary_opening(array, morphology.disk(open_radius))\n",
    "            im_2 = morphology.binary_closing(im_1, morphology.disk(close_radius))\n",
    "    \n",
    "    return im_2, im_1\n",
    "\n",
    "\n",
    "def fill_rm(array, min_size, rm_first=False):\n",
    "    if rm_first:\n",
    "        im_1 = morphology.remove_small_objects(array, min_size=min_size)\n",
    "        im_2 = ndimage.binary_fill_holes(im_1)\n",
    "    else:\n",
    "        im_1 = ndimage.binary_fill_holes(array)\n",
    "        im_2 = morphology.remove_small_objects(im_1, min_size=min_size)\n",
    "    \n",
    "    return im_2, im_1\n",
    "\n",
    "\n",
    "def get_holes_mask(array, thresh_percent,\n",
    "                   open_radius=8, close_first=False, grey=False,\n",
    "                   min_size=15_000):\n",
    "    bound = get_val(array, thresh_percent)\n",
    "    \n",
    "    if grey:\n",
    "        holes_mask = morph(array, open_radius=open_radius,\n",
    "                           close_first=close_first, grey=grey)[0]\n",
    "        holes_mask = np.where(holes_mask > bound, 1, 0)\n",
    "    else:\n",
    "        holes_mask = np.where(array > bound, 1, 0)\n",
    "        holes_mask = morph(holes_mask, open_radius=open_radius,\n",
    "                           close_first=close_first, grey=grey)[0]\n",
    "        \n",
    "    holes_mask = fill_rm(holes_mask, min_size=min_size)[0]\n",
    "\n",
    "    return holes_mask\n",
    "\n",
    "\n",
    "def get_masked_candidates(array, holes_mask):\n",
    "    inverted_holes_mask = np.where(holes_mask == 1, 0, 1)\n",
    "\n",
    "    masked_candidates = np.ma.array(array, mask=inverted_holes_mask)\n",
    "    \n",
    "    return masked_candidates\n",
    "\n",
    "\n",
    "def pool(array, size, pool_type):\n",
    "    \"\"\"pool_type: 'min' 'median' or 'max'\n",
    "    \"\"\"\n",
    "    if pool_type=='min':\n",
    "        func = np.min\n",
    "    elif pool_type=='median':\n",
    "        func = np.median\n",
    "    elif pool_type=='max':\n",
    "        func = np.max\n",
    "        \n",
    "    return measure.block_reduce(\n",
    "        array, block_size=(size, size), func=func)"
   ]
  },
  {
   "cell_type": "markdown",
   "id": "4f314cc4-1999-4d1d-b586-d97f32040c10",
   "metadata": {},
   "source": [
    "### Ensemble"
   ]
  },
  {
   "cell_type": "code",
   "execution_count": null,
   "id": "aef1b3f3-cf6d-4c8f-afe2-ec2d950a5727",
   "metadata": {},
   "outputs": [],
   "source": [
    "empty_disk_val = -25\n",
    "\n",
    "def get_ensemble(array, percent_of_peak_list, radius_list, grey=False):\n",
    "    ensemble_size = len(percent_of_peak_list) * len(radius_list)\n",
    "    confidence_list = [(c + 1)*100/ensemble_size\n",
    "                       for c in range(ensemble_size)]\n",
    "\n",
    "    thresh_percent_list = [get_percent_to_peak_percent(\n",
    "        array, percent_to_peak=percent_of_peak)\n",
    "                           for percent_of_peak in percent_of_peak_list]\n",
    "    \n",
    "    holes_mask_list = [get_holes_mask(array, thresh_percent=thresh_percent,\n",
    "                                      open_radius=radius, grey=grey,\n",
    "                                      min_size=5000)\n",
    "                       for thresh_percent in thresh_percent_list\n",
    "                       for radius in radius_list]\n",
    "\n",
    "    ensemble_map = np.where(~np.isnan(array), empty_disk_val, np.nan)\n",
    "    \n",
    "    for holes_mask, mask_num in zip(holes_mask_list, range(ensemble_size)):\n",
    "        ensemble_map = np.where(holes_mask == 1, \n",
    "                                mask_num*100/(ensemble_size - 1), ensemble_map)\n",
    "        \n",
    "    return ensemble_map, holes_mask_list, confidence_list"
   ]
  },
  {
   "cell_type": "markdown",
   "id": "55f24b4a-3ba5-48a3-a890-acef683eeaf4",
   "metadata": {},
   "source": [
    "### Selection"
   ]
  },
  {
   "cell_type": "code",
   "execution_count": null,
   "id": "369aedc1-d5de-42fa-9918-80a0fbca7a2a",
   "metadata": {},
   "outputs": [],
   "source": [
    "def get_hole_im_list(array, labeled_candidate_holes, num_holes):\n",
    "    hole_im_list = [np.where(labeled_candidate_holes == hole_num + 1, \n",
    "                             array, np.NaN)\n",
    "                    for hole_num in range(num_holes)]\n",
    "    return hole_im_list\n",
    "\n",
    "\n",
    "def get_hole_medians(hole_im_list):    \n",
    "    medians = [np.median(hole_im[~np.isnan(hole_im)])\n",
    "               for hole_im in hole_im_list]\n",
    "    return medians\n",
    "\n",
    "\n",
    "def get_hole_band_widths(hole_im_list):    \n",
    "    bound_list = [np.percentile(hole_im[~np.isnan(hole_im)], [5, 95])\n",
    "                  for hole_im in hole_im_list]\n",
    "    \n",
    "    hole_band_widths = [bounds[1] - bounds[0]\n",
    "                        for bounds\n",
    "                        in bound_list]\n",
    "    return hole_band_widths\n",
    "\n",
    "\n",
    "def print_holes_metrics(num_holes, sorted_candidate_nums, metrics):\n",
    "    for i in range(num_holes):\n",
    "        if sorted_candidate_nums[i] < 10:\n",
    "            hole_num = f'0{sorted_candidate_nums[i]}'\n",
    "        else:\n",
    "            hole_num = sorted_candidate_nums[i]\n",
    "        if (i + 1) % 5 == 0:\n",
    "            end_str = '\\n'\n",
    "        else:\n",
    "            end_str = '  '\n",
    "        print(f'Hole {hole_num}: {metrics[i]:.1f}', end=end_str)"
   ]
  },
  {
   "cell_type": "markdown",
   "id": "e743f9d5-3a4f-4002-aff8-687e47097106",
   "metadata": {},
   "source": [
    "## Plotting Routines"
   ]
  },
  {
   "cell_type": "code",
   "execution_count": null,
   "id": "5d955c8f-22a0-4a2b-bfac-6f5163b89563",
   "metadata": {},
   "outputs": [],
   "source": [
    "oldcmp = cm.get_cmap('PuBuGn', 256)\n",
    "newcolors = oldcmp(np.linspace(0, 1, 256))\n",
    "newcolors = newcolors[20:]\n",
    "\n",
    "background = np.array([1, 1, 1, 1])\n",
    "newcolors[:1, :] = background\n",
    "newcmp = ListedColormap(newcolors)\n",
    "\n",
    "def plot_thresholds(array, bounds, threshold_type='band', abs_percent=True):\n",
    "    \"\"\"Plot image array, its histogram, and 3 thresholded images\n",
    "    with their histograms.\n",
    "    \n",
    "    Args\n",
    "        array: image as Numpy array\n",
    "        bounds: list of threshold bounds from 0-100 %\n",
    "            List of lists of lower and upper threshold bounds from 0-100 %\n",
    "            for 'band' threshold type\n",
    "        threshold_type:\n",
    "            'lower' to disregard values below bounds \n",
    "            'upper' to disregard values above bounds\n",
    "            'band' to disregard values outside bounds\n",
    "        abs_percent: Specify as false to take bounds relative to 0 value\n",
    "    \"\"\"\n",
    "    fig, axes = plt.subplots(nrows=2, ncols=4, figsize=(40, 15))\n",
    "    ax = axes.ravel()\n",
    "\n",
    "    ax[0].imshow(array, cmap=plt.cm.gray)\n",
    "    hist, edges = get_hist(array)\n",
    "    ax[1].set_title('Histogram', fontsize=24)\n",
    "    ax[1].plot(edges[0:-1], hist)\n",
    "\n",
    "    for i in range(3):\n",
    "        img_i = (i + 1)*2\n",
    "        hist_i = (i + 1)*2 + 1\n",
    "\n",
    "        ax[hist_i].semilogy(edges[0:-1], hist)\n",
    "        \n",
    "        if threshold_type == 'band':\n",
    "            lower_percent = bounds[0][i]\n",
    "            upper_percent = bounds[1][i]\n",
    "            \n",
    "            lower_bound = get_val(array, lower_percent, abs_percent=abs_percent)\n",
    "            upper_bound = get_val(array, upper_percent, abs_percent=abs_percent)\n",
    "            \n",
    "            lower_line_percent = get_percent(array, lower_bound)\n",
    "            upper_line_percent = get_percent(array, upper_bound)\n",
    "            \n",
    "            ax[hist_i].axvline(lower_line_percent, color='r')\n",
    "            ax[hist_i].axvline(upper_line_percent, color='r')\n",
    "            \n",
    "            ax[hist_i].set_title((f'Band: {lower_percent:.2f}-' +\n",
    "                                  f'{upper_percent:.2f}% | Semilog Histogram'),\n",
    "                                 fontsize=24)\n",
    "            edit = np.where((array > lower_bound) & (array < upper_bound), 1, 0)\n",
    "            ax[hist_i].axvspan(lower_line_percent, upper_line_percent, \n",
    "                               color='y', alpha=0.1, lw=0)\n",
    "        else:\n",
    "            percent_bound = bounds[i]\n",
    "            bound = get_val(array, percent_bound, abs_percent=abs_percent)\n",
    "            \n",
    "            line_percent = get_percent(array, bound)\n",
    "            \n",
    "            ax[hist_i].axvline(line_percent, color='r')\n",
    "\n",
    "            if threshold_type == 'lower':\n",
    "                ax[hist_i].set_title((f'Threshold: >{percent_bound:.2f}% ' +\n",
    "                                     '| Semilog Histogram'),\n",
    "                                     fontsize=24)\n",
    "                edit = np.where(array > bound, 1, 0)\n",
    "                ax[hist_i].axvspan(line_percent, np.max(edges), \n",
    "                                   color='y', alpha=0.1, lw=0)\n",
    "            elif threshold_type == 'upper':\n",
    "                ax[hist_i].set_title((f'Threshold: <{percent_bound:.2f}% ' +\n",
    "                                     '| Semilog Histogram'),\n",
    "                                     fontsize=24)\n",
    "                edit = np.where(array < bound, 1, 0)\n",
    "                ax[hist_i].axvspan(np.min(edges), line_percent, \n",
    "                                   color='y', alpha=0.1, lw=0)\n",
    "        \n",
    "        ax[img_i].imshow(edit)\n",
    "        \n",
    "        \n",
    "def plot_hists(arrays, titles, ns=[1000,1000], semilogy=True):\n",
    "    fig, axes = plt.subplots(nrows=1, ncols=4, figsize=(40, 10))\n",
    "    ax = axes.ravel()\n",
    "\n",
    "    ax[0].set_title(titles[0], fontsize=24)\n",
    "    ax[0].imshow(arrays[0], cmap=plt.cm.gray)\n",
    "    hist, edges = get_hist(arrays[0], n=ns[0])\n",
    "    if semilogy:\n",
    "        ax[1].semilogy(edges[0:-1], hist)\n",
    "    else:\n",
    "        ax[1].plot(edges[0:-1], hist)\n",
    "        \n",
    "    ax[2].set_title(titles[1], fontsize=24)\n",
    "    ax[2].imshow(arrays[1], cmap=plt.cm.gray)\n",
    "    hist, edges = get_hist(arrays[1], n=ns[1])\n",
    "    if semilogy:\n",
    "        ax[3].semilogy(edges[0:-1], hist)\n",
    "    else:\n",
    "        ax[3].plot(edges[0:-1], hist)\n",
    "\n",
    "\n",
    "def plot_edge_thresholds(edge_list, edge_names, threshold):\n",
    "    fig, axes = plt.subplots(nrows=3, ncols=3, figsize=(30, 30))\n",
    "    ax = axes.ravel()\n",
    "    \n",
    "    for i in range(3):\n",
    "        edges_i = i*3\n",
    "        hist_i = i*3 + 1\n",
    "        thresh_i = i*3 + 2\n",
    "        \n",
    "        edge_im = edge_list[i]\n",
    "        name = edge_names[i]\n",
    "        \n",
    "        ax[edges_i].set_title(name, fontsize=24)\n",
    "        ax[edges_i].imshow(edge_im, cmap=plt.cm.gray)\n",
    "        hist, edges = get_hist(edge_im)\n",
    "        ax[hist_i].set_title('Semilog Histogram', fontsize=24)\n",
    "        ax[hist_i].semilogx(edges[0:-1], hist)\n",
    "        ax[thresh_i].imshow(np.where(edge_im > threshold, 1, 0), cmap=plt.cm.gray)"
   ]
  },
  {
   "cell_type": "markdown",
   "id": "39f93e76-22cb-4391-87f9-69cea8a92abe",
   "metadata": {},
   "source": [
    "### Candidates"
   ]
  },
  {
   "cell_type": "code",
   "execution_count": null,
   "id": "1d3dae56-14a9-47b1-99bf-b95dd9c572c6",
   "metadata": {},
   "outputs": [],
   "source": [
    "def plot_candidates(array, holes_mask, date, num_holes, \n",
    "                    labeled_candidate_holes):\n",
    "    fig, axes = plt.subplots(nrows=1, ncols=3, \n",
    "                             figsize=(30, 10))\n",
    "    ax = axes.ravel()\n",
    "    \n",
    "    ax[0].imshow(array, cmap=plt.cm.gray)\n",
    "    ax[0].set_title(datetime.strftime(date, \"%b %d, %Y %H:%M\"), fontsize=24)\n",
    "    \n",
    "    ax[1].imshow(array, cmap=plt.cm.afmhot)\n",
    "    ax[1].contour(holes_mask, cmap=plt.cm.binary)\n",
    "    ax[1].set_title(f'{num_holes} Holes', fontsize=24)\n",
    "    \n",
    "    ax[2].imshow(labeled_candidate_holes, cmap=newcmp)\n",
    "        \n",
    "        \n",
    "def plot_comparison(array, holes_mask, date, num_holes, euv):\n",
    "    fig, axes = plt.subplots(nrows=1, ncols=3, \n",
    "                             figsize=(30, 10))\n",
    "    ax = axes.ravel()\n",
    "    \n",
    "    ax[0].imshow(array, cmap=plt.cm.gray)\n",
    "    ax[0].set_title(datetime.strftime(date, \"%b %d, %Y %H:%M\"), fontsize=24)\n",
    "    \n",
    "    ax[1].imshow(euv)\n",
    "    \n",
    "    ax[2].imshow(array, cmap=plt.cm.afmhot)\n",
    "    ax[2].contour(holes_mask, cmap=plt.cm.binary)\n",
    "    ax[2].set_title(f'{num_holes} Holes', fontsize=24)"
   ]
  },
  {
   "cell_type": "markdown",
   "id": "ca6b399f-d222-473a-bc28-d88094b098cc",
   "metadata": {},
   "source": [
    "### Ensemble"
   ]
  },
  {
   "cell_type": "code",
   "execution_count": null,
   "id": "be0f0634-2bdb-4165-a7ad-bf2520abe3e3",
   "metadata": {},
   "outputs": [],
   "source": [
    "def plot_ims(im_1, im_2, im_3, titles=[]):\n",
    "    fig, axes = plt.subplots(nrows=1, ncols=3, figsize=(30, 10))\n",
    "    ax = axes.ravel()\n",
    "    \n",
    "    ax[0].imshow(im_1, cmap=plt.cm.gray)\n",
    "    ax[1].imshow(im_2, cmap=plt.cm.gray)\n",
    "    ax[2].imshow(im_3, cmap=plt.cm.gray)\n",
    "    \n",
    "    if titles:\n",
    "        [ax[i].set_title(titles[i], fontsize=24)\n",
    "         for i in range(3)]\n",
    "    \n",
    "\n",
    "def plot_ensemble(array, ensemble_map, confidence_list, \n",
    "                  title_list, holes_mask_list):\n",
    "    fig, axes = plt.subplots(nrows=1, ncols=2, figsize=(20, 10))\n",
    "    ax = axes.ravel()\n",
    "    \n",
    "    ax[0].imshow(array, cmap=plt.cm.gray)\n",
    "    ax[1].imshow(ensemble_map, cmap=plt.cm.magma)\n",
    "\n",
    "    for row in range(math.ceil(len(holes_mask_list)/3)):\n",
    "        fig, axes = plt.subplots(nrows=1, ncols=3, figsize=(30, 10))\n",
    "        ax = axes.ravel()\n",
    "        \n",
    "        for col in range(3):\n",
    "            i = 3*row + col\n",
    "            if i + 1 > len(holes_mask_list):\n",
    "                return\n",
    "\n",
    "            title = f'{confidence_list[i]:.1f}% Confidence\\n' + title_list[i]\n",
    "            \n",
    "            ax[col].set_title(title, fontsize=28)\n",
    "            ax[col].imshow(holes_mask_list[i], cmap=plt.cm.gray)\n",
    "            \n",
    "            \n",
    "def plot_ensemble_comparison(array, date, ensemble_map, euv):\n",
    "    fig, axes = plt.subplots(nrows=1, ncols=3, \n",
    "                             figsize=(30, 10))\n",
    "    ax = axes.ravel()\n",
    "    \n",
    "    ax[0].set_title(datetime.strftime(date, \"%b %d, %Y %H:%M\"), fontsize=24)\n",
    "    ax[0].imshow(array, cmap=plt.cm.gray)\n",
    "\n",
    "    ax[2].imshow(euv)\n",
    "\n",
    "    ax[1].imshow(ensemble_map, cmap=plt.cm.magma)"
   ]
  },
  {
   "cell_type": "markdown",
   "id": "ba80fe78-80d9-42c1-bfbe-449a09548ae0",
   "metadata": {},
   "source": [
    "### Selection"
   ]
  },
  {
   "cell_type": "code",
   "execution_count": null,
   "id": "3b10ab0d-7309-4215-9702-b785bbe5a32a",
   "metadata": {
    "tags": []
   },
   "outputs": [],
   "source": [
    "def plot_hole_hists(array, masked_candidates, labeled_candidate_holes, \n",
    "                    num_holes, sort_type='', gradient=False):\n",
    "    if gradient:\n",
    "        candidate_edges = filters.sobel(masked_candidates)\n",
    "        xlim_min = np.min(candidate_edges[~np.isnan(candidate_edges)])\n",
    "        xlim_max = np.max(candidate_edges[~np.isnan(candidate_edges)])/8\n",
    "    else:\n",
    "        xlim_min = np.min(masked_candidates[~np.isnan(masked_candidates)])/4\n",
    "        xlim_max = np.max(masked_candidates[~np.isnan(masked_candidates)])*2/3\n",
    "    \n",
    "    if gradient:\n",
    "        hole_im_list = get_hole_im_list(\n",
    "            candidate_edges, labeled_candidate_holes, num_holes)\n",
    "    else:\n",
    "        hole_im_list = get_hole_im_list(\n",
    "            array, labeled_candidate_holes, num_holes)\n",
    "        \n",
    "    medians = get_hole_medians(hole_im_list)\n",
    "    hole_band_widths = get_hole_band_widths(hole_im_list)\n",
    "    \n",
    "    if sort_type == 'median':\n",
    "        sorted_candidate_nums = np.argsort(medians)\n",
    "        if not gradient:\n",
    "            sorted_candidate_nums = np.flip(sorted_candidate_nums)\n",
    "    elif sort_type == 'width':\n",
    "        sorted_candidate_nums = np.argsort(hole_band_widths)\n",
    "\n",
    "    for r in range(math.ceil(num_holes/2)):\n",
    "        fig, axes = plt.subplots(nrows=1, ncols=6, figsize=(60, 10))\n",
    "        ax = axes.ravel()\n",
    "        \n",
    "        for c in range(2):\n",
    "            i = 2*r + c\n",
    "            ax_i = 3*c\n",
    "            if i + 1 > num_holes:\n",
    "                return\n",
    "            \n",
    "            if not sort_type:\n",
    "                hole_num = i\n",
    "            else:\n",
    "                hole_num = sorted_candidate_nums[i]\n",
    "            \n",
    "                \n",
    "            hole_im = np.where(labeled_candidate_holes == hole_num + 1,\n",
    "                               array, np.NaN)\n",
    "            if gradient:\n",
    "                hole_im = filters.sobel(hole_im)\n",
    "                \n",
    "            hole_contour = np.where(labeled_candidate_holes == hole_num + 1,\n",
    "                                    1, 0)\n",
    "\n",
    "            y, x = np.where(~np.isnan(hole_im))\n",
    "            hole_focus = hole_im[np.min(y) - 10:np.max(y) + 10,\n",
    "                                 np.min(x) - 10:np.max(x) + 10]\n",
    "                \n",
    "            unique_val_num = np.unique(hole_focus).size\n",
    "            hist, edges = np.histogram(hole_focus[~np.isnan(hole_focus)],\n",
    "                                       bins=int(unique_val_num/1000))\n",
    "            \n",
    "            ax[ax_i].set_title(f'Hole {hole_num + 1}', fontsize=32)\n",
    "            ax[ax_i].imshow(array, cmap=plt.cm.afmhot)\n",
    "            ax[ax_i].contour(hole_contour, cmap=plt.cm.binary)\n",
    "                \n",
    "            ax[ax_i + 1].set_title(\n",
    "                f'Median: {medians[hole_num]:.1f}', fontsize=32)\n",
    "            \n",
    "            if gradient:\n",
    "                ax[ax_i + 1].imshow(hole_focus)\n",
    "            else:\n",
    "                ax[ax_i + 1].imshow(hole_focus, cmap=plt.cm.magma)\n",
    "\n",
    "            ax[ax_i + 2].set_title(\n",
    "                f'90% Band width: {hole_band_widths[hole_num]:.1f}',\n",
    "                                                    fontsize=32)\n",
    "            ax[ax_i + 2].bar(edges[0:-1], hist)\n",
    "            ax[ax_i + 2].set_xlim([xlim_min, xlim_max])\n",
    "            \n",
    "\n",
    "def plot_metric_bars(ax, num_holes, metrics,\n",
    "                     title, median=False, high_cutoff=False, gradient=False):\n",
    "    metrics_median = np.percentile(metrics, 50)\n",
    "    if high_cutoff:\n",
    "        candidate_metrics = [metric for metric in metrics\n",
    "                             if metric > metrics_median]\n",
    "    else:\n",
    "        candidate_metrics = [metric for metric in metrics\n",
    "                             if metric < metrics_median]\n",
    "    \n",
    "    metric_diffs = np.diff(candidate_metrics)\n",
    "    max_diff = np.max(np.abs(metric_diffs))/metrics_median*100\n",
    "    \n",
    "    max_diff_i = np.argmax(np.abs(metric_diffs))\n",
    "    cutoff = np.mean([metrics[max_diff_i], metrics[max_diff_i + 1]])\n",
    "    \n",
    "    if high_cutoff:\n",
    "        selected_hole_num = np.count_nonzero(metrics > cutoff)\n",
    "    else:\n",
    "        selected_hole_num = np.count_nonzero(metrics < cutoff)\n",
    "    \n",
    "    ax.set_title(f'{title}\\n Max Difference: {max_diff:.1f}%', fontsize=28)\n",
    "    ax.set_xlabel('Candidates', fontsize=24)\n",
    "    \n",
    "    if median:\n",
    "        ax.set_ylabel('Median', fontsize=24)\n",
    "    else:\n",
    "        ax.set_ylabel('Central 90% Band Width', fontsize=24)\n",
    "    \n",
    "    ax.plot([0.5, num_holes+0.5], [cutoff, cutoff], \n",
    "               linestyle='--', color='k', linewidth=3)\n",
    "    \n",
    "    if gradient:\n",
    "        ax.bar(list(range(1,num_holes + 1)), metrics, color='#3e4989')\n",
    "        ax.bar(list(range(1,selected_hole_num+1)), \n",
    "               metrics[:selected_hole_num], color='#6ece58')\n",
    "    else:\n",
    "        ax.bar(list(range(1,num_holes + 1)), metrics, color='#721f81')\n",
    "        ax.bar(list(range(1,selected_hole_num+1)), \n",
    "           metrics[:selected_hole_num], color='#fd9668')\n",
    "    \n",
    "    return max_diff\n",
    "    \n",
    "    \n",
    "def plot_selection_metrics(array, date, num_holes, holes_mask,\n",
    "                           bright_medians, bright_band_widths, \n",
    "                           gradient_medians, gradient_band_widths):\n",
    "    fig, axes = plt.subplots(nrows=1, ncols=5, figsize=(50, 10))\n",
    "    ax = axes.ravel()\n",
    "\n",
    "    ax[0].set_title(datetime.strftime(date, \"%b %d, %Y %H:%M\"), fontsize=24)\n",
    "    ax[0].imshow(array, cmap=plt.cm.afmhot)\n",
    "    ax[0].contour(holes_mask, cmap=plt.cm.binary)\n",
    "\n",
    "    b_median_diff = plot_metric_bars(\n",
    "        ax[1], num_holes, bright_medians, 'Brightness Median',\n",
    "        median=True, high_cutoff=True)\n",
    "    b_width_diff = plot_metric_bars(\n",
    "        ax[2], num_holes, bright_band_widths, 'Brightness Spread')\n",
    "    g_median_diff = plot_metric_bars(\n",
    "        ax[3], num_holes, gradient_medians, 'Gradient Intensity Median', \n",
    "        median=True, gradient=True)\n",
    "    g_width_diff = plot_metric_bars(\n",
    "        ax[4], num_holes, gradient_band_widths, 'Gradient Intensity Spread',\n",
    "        gradient=True)\n",
    "    \n",
    "    return b_median_diff, b_width_diff, g_median_diff, g_width_diff"
   ]
  },
  {
   "cell_type": "markdown",
   "id": "da24366b",
   "metadata": {
    "tags": []
   },
   "source": [
    "# Extract Data"
   ]
  },
  {
   "cell_type": "code",
   "execution_count": null,
   "id": "9fd16d08",
   "metadata": {
    "tags": []
   },
   "outputs": [],
   "source": [
    "# 0-9\n",
    "file_num = 9\n",
    "\n",
    "eqw, continuum, cloud, date, titles = extract_fits(file_num=file_num)\n",
    "print(date)\n",
    "\n",
    "eqw_visual = np.clip(eqw, -50, 50)\n",
    "\n",
    "fig, axes = plt.subplots(nrows=1, ncols=3, figsize=(30, 10))\n",
    "ax = axes.ravel()\n",
    "    \n",
    "ax[0].set_title(titles[0], fontsize=24)\n",
    "ax[0].imshow(eqw_visual, cmap=plt.cm.RdBu)\n",
    "ax[1].set_title(titles[1], fontsize=24)\n",
    "ax[1].imshow(continuum, cmap=plt.cm.afmhot)\n",
    "ax[2].set_title(titles[2], fontsize=24)\n",
    "ax[2].imshow(cloud, cmap=plt.cm.gray)"
   ]
  },
  {
   "cell_type": "markdown",
   "id": "1f956753-e5f2-4f7f-ba4d-147137eae27d",
   "metadata": {},
   "source": [
    "## Rename FITS & EUV"
   ]
  },
  {
   "cell_type": "code",
   "execution_count": null,
   "id": "0caf2883-8659-4269-bc2e-2ad0901b9ad1",
   "metadata": {},
   "outputs": [],
   "source": [
    "# Extract FITS data\n",
    "fits_list = glob.glob('Desktop/CHS_DETECT/*.fts')\n",
    "he_fits_list = [fits.open(fits_path) for fits_path in fits_list]\n",
    "date_list = [datetime.strptime(he_fits[0].header['DATE'], '%Y-%m-%dT%H:%M:%S')\n",
    "             for he_fits in he_fits_list]\n",
    "\n",
    "# Sort FITS list by date\n",
    "fits_array = np.array(fits_list)\n",
    "dates = np.array(date_list)\n",
    "inds = dates.argsort()\n",
    "sorted_fits_list = fits_array[inds]\n",
    "date_list.sort()\n",
    "\n",
    "# Extract EUV image list\n",
    "euv_list = glob.glob('Desktop/CHS_DETECT/Screen*')\n",
    "euv_list.sort()\n",
    "\n",
    "# Rename FITS\n",
    "fits_dst = 'Desktop/CHS_DETECT/Renamed_FITS'\n",
    "if not os.path.isdir(fits_dst):\n",
    "    os.mkdir(fits_dst)\n",
    "    \n",
    "new_fits_list = [datetime.strftime(date, \"%Y_%m_%d_%H%M.fts\")\n",
    "                 for date in date_list] \n",
    "for fits_path, new_fits in zip(sorted_fits_list, new_fits_list):\n",
    "    shutil.copy(fits_path, os.path.join(fits_dst, new_fits))\n",
    "\n",
    "# Rename EUV\n",
    "euv_dst = 'Desktop/CHS_DETECT/Renamed_EUV'\n",
    "if not os.path.isdir(euv_dst):\n",
    "    os.mkdir(euv_dst)\n",
    "    \n",
    "new_euv_list = [datetime.strftime(date, \"%Y_%m_%d_%H%M.png\")\n",
    "                for date in date_list] \n",
    "for euv_path, new_euv in zip(euv_list, new_euv_list):\n",
    "    shutil.copy(euv_path, os.path.join(euv_dst, new_euv))"
   ]
  },
  {
   "cell_type": "markdown",
   "id": "7cc7e884-b6c3-4285-9e25-baf553e67243",
   "metadata": {
    "tags": []
   },
   "source": [
    "## Modify Arrays"
   ]
  },
  {
   "cell_type": "markdown",
   "id": "26b8f359-7517-44f8-808d-b9ec6a913a38",
   "metadata": {},
   "source": [
    "### EQW Edits"
   ]
  },
  {
   "cell_type": "markdown",
   "id": "f86cfdb6-46e2-46d9-bffe-c014ca8eb233",
   "metadata": {
    "tags": []
   },
   "source": [
    " - Equivalent Width Threshold: Upper threshold on EQW to zero very high disk edge \n",
    " - EQW Threshold Image: Continuum + EQW Edit"
   ]
  },
  {
   "cell_type": "code",
   "execution_count": null,
   "id": "4dd56fe2-cbf6-46a3-b2b8-be956e66289a",
   "metadata": {
    "tags": []
   },
   "outputs": [],
   "source": [
    "eqw_band_cut, eqw_high_cut, eqw_nan = edit_eqw(eqw, peak_count_cutoff_percent=0.1)\n",
    "\n",
    "arrays = [eqw, eqw_nan, eqw_high_cut, eqw_band_cut]\n",
    "titles = ['EQW', 'EQW NaN', 'EQW High Cut', 'EQW Band Cut']\n",
    "\n",
    "plot_hists(arrays[0:2], titles[0:2], semilogy=True)\n",
    "plot_hists(arrays[2:4], titles[2:4], semilogy=True)"
   ]
  },
  {
   "cell_type": "code",
   "execution_count": null,
   "id": "68778317-cda7-41d2-bbd9-1387c2fb5cad",
   "metadata": {
    "tags": []
   },
   "outputs": [],
   "source": [
    "upper_bound = 2000\n",
    "eqw_thresh = np.where(eqw < upper_bound, eqw, 0)\n",
    "eqw_thresh_im = continuum + eqw_thresh\n",
    "\n",
    "arrays = [np.log10(eqw_nan + abs(np.min(eqw_thresh_im[~np.isnan(eqw_nan)])) + 1), eqw_nan]\n",
    "titles = ['EQW Threshold', 'EQW Threshold Image']\n",
    "plot_hists(arrays, titles)"
   ]
  },
  {
   "cell_type": "code",
   "execution_count": null,
   "id": "97dd9167-efe6-4bc1-810d-ec93194dd81b",
   "metadata": {
    "tags": []
   },
   "outputs": [],
   "source": [
    "# Outdated Approach: Multiply by a binary disk to mask off disk values\n",
    "edge_pad = 90\n",
    "\n",
    "radius = len(im)/2 - edge_pad\n",
    "disk = morphology.disk(radius)\n",
    "\n",
    "# Create and center disk mask \n",
    "pad_width = int((len(eqw) - len(disk) - 1)/2)\n",
    "disk_mask = np.pad(disk, pad_width=pad_width)\n",
    "if len(eqw) > len(disk_mask):\n",
    "    disk_mask = np.pad(disk_mask, pad_width=(0,1))\n",
    "\n",
    "# Apply disk mask\n",
    "eqw_disk = eqw*disk_mask\n",
    "plt.imshow(eqw_disk)"
   ]
  },
  {
   "cell_type": "markdown",
   "id": "842a8f3a-0a48-4436-b873-0948817e7305",
   "metadata": {},
   "source": [
    "### Intensity Edits and Addition"
   ]
  },
  {
   "cell_type": "markdown",
   "id": "e8ded73f-67ac-42ed-a25b-79f5adfed08c",
   "metadata": {
    "tags": []
   },
   "source": [
    " - Raw Image: Continuum + EQW\n",
    " - Continuum Edit: Lower bound threshold to NaN off disk values\n",
    "   - Iterates until negative values appear\n",
    "     - Negative values indicate continuum disk has been reduced to where negative EQW adds with NaN\n",
    "   - Assumes EQW will have negative values near edge of disk\n",
    "     - Replace with hough transform to detect circle and threshold off disk?\n",
    "values\n",
    " - Image: Continuum Edit + EQW Edit"
   ]
  },
  {
   "cell_type": "code",
   "execution_count": null,
   "id": "67e0226c-93a7-4131-b12b-a6e83ffa23d7",
   "metadata": {
    "tags": []
   },
   "outputs": [],
   "source": [
    "raw_im = continuum + eqw\n",
    "\n",
    "\n",
    "cont_edit_im = raw_im\n",
    "no_negative_vals = len(np.flatnonzero(cont_edit_im < 0)) == 0\n",
    "lower_bound = 0\n",
    "\n",
    "while no_negative_vals:\n",
    "    cont_edit = np.where(continuum > lower_bound, continuum, 0)\n",
    "    cont_edit_im = cont_edit + eqw\n",
    "    \n",
    "    # Update conditional and increase threshold\n",
    "    no_negative_vals = len(np.flatnonzero(cont_edit_im < 0)) == 0\n",
    "    lower_bound += 10\n",
    "    \n",
    "# Step threshold down to reach limit before negative values appear \n",
    "lower_bound -= 10\n",
    "cont_edit = np.where(continuum > lower_bound, continuum, np.NaN)\n",
    "\n",
    "cont_edit_im = cont_edit + eqw_band_cut\n",
    "\n",
    "\n",
    "im = cont_edit + eqw"
   ]
  },
  {
   "cell_type": "code",
   "execution_count": null,
   "id": "58792dd8-4792-418e-83fb-e230fe868ef1",
   "metadata": {
    "tags": []
   },
   "outputs": [],
   "source": [
    "arrays = [cont_edit, cont_edit_im, raw_im, im]\n",
    "titles = ['Continuum Edit', 'Continuum Edit Image', 'Raw',\n",
    "          'Image']\n",
    "\n",
    "plot_hists(arrays[0:2], titles[0:2])\n",
    "plot_hists(arrays[2:4], titles[2:4])"
   ]
  },
  {
   "cell_type": "markdown",
   "id": "d86d54ef-540e-4549-9eff-4423eff18388",
   "metadata": {},
   "source": [
    "## Linear Combinations"
   ]
  },
  {
   "cell_type": "code",
   "execution_count": null,
   "id": "e1d54083-af52-4397-9ec9-f569d855f6e8",
   "metadata": {
    "tags": []
   },
   "outputs": [],
   "source": [
    "percent_range = [10, 20, 30, 40]\n",
    "\n",
    "arrays = [cont_edit*percent/100 + eqw_band_cut for percent in percent_range]\n",
    "# arrays = [array + abs(np.min(array[~np.isnan(array)])) for array in arrays]\n",
    "arrays = [np.where(array < 0, 0, array) for array in arrays]\n",
    "titles = [f'{percent}% of Continuum Combo' for percent in percent_range]\n",
    "\n",
    "plot_hists(arrays[0:2], titles[0:2])\n",
    "plot_hists(arrays[2:4], titles[2:4])"
   ]
  },
  {
   "cell_type": "code",
   "execution_count": null,
   "id": "18e8f350-3798-4b88-9f59-4ab9a1a6bca6",
   "metadata": {
    "tags": []
   },
   "outputs": [],
   "source": [
    "im_10p = cont_edit*10/100 + eqw_band_cut\n",
    "im_10p = np.where(im_10p < 0, 0, im_10p)\n",
    "im_20p = cont_edit*20/100 + eqw_band_cut\n",
    "im_20p = np.where(im_20p < 0, 0, im_20p)"
   ]
  },
  {
   "cell_type": "markdown",
   "id": "10ff2c06-b082-4d60-b707-8a3de1cb6818",
   "metadata": {},
   "source": [
    "## SPoCA CHs"
   ]
  },
  {
   "cell_type": "code",
   "execution_count": null,
   "id": "a618790d-9fbe-4496-b8d2-dbe556585bd8",
   "metadata": {},
   "outputs": [],
   "source": [
    "from sunpy.net import attrs as a\n",
    "from sunpy.net import Fido\n",
    "# sunpy, zeep, drms"
   ]
  },
  {
   "cell_type": "code",
   "execution_count": null,
   "id": "07bcf397-f58d-4f13-8498-642ae8ef194f",
   "metadata": {},
   "outputs": [],
   "source": [
    "tstart = '2015/03/30 00:00:00'\n",
    "tend = '2015/04/01 00:00:00'\n",
    "event_type = 'CH'\n",
    "result = Fido.search(a.Time(tstart,tend), a.hek.EventType(event_type), \n",
    "                     a.hek.FRM.Name == 'SPoCA')"
   ]
  },
  {
   "cell_type": "markdown",
   "id": "1d3324c0",
   "metadata": {
    "tags": []
   },
   "source": [
    "# Visualization"
   ]
  },
  {
   "cell_type": "markdown",
   "id": "3ea4c7ca",
   "metadata": {},
   "source": [
    "## Continuum"
   ]
  },
  {
   "cell_type": "markdown",
   "id": "f5676b92",
   "metadata": {},
   "source": [
    "### Visualization"
   ]
  },
  {
   "cell_type": "markdown",
   "id": "c505bf7f",
   "metadata": {},
   "source": [
    " - Off disk white corners are 0\n",
    " - Off disk dark regions are >0\n",
    "   - Visualized in histogram hill centered on 10<sup>-2</sup>\n",
    "   - Should be dropped to 0"
   ]
  },
  {
   "cell_type": "code",
   "execution_count": null,
   "id": "699d709a",
   "metadata": {
    "tags": []
   },
   "outputs": [],
   "source": [
    "fig, axes = plt.subplots(nrows=1, ncols=2, figsize=(20, 10))\n",
    "ax = axes.ravel()\n",
    "\n",
    "ax[0].imshow(np.log(continuum), cmap=plt.cm.afmhot)\n",
    "hist, edges = get_hist(continuum)\n",
    "ax[1].semilogx(edges[0:-1], hist)"
   ]
  },
  {
   "cell_type": "markdown",
   "id": "f5e5734f",
   "metadata": {},
   "source": [
    "### Thresholds"
   ]
  },
  {
   "cell_type": "code",
   "execution_count": null,
   "id": "136c5e5d",
   "metadata": {
    "tags": []
   },
   "outputs": [],
   "source": [
    "plot_thresholds(continuum, bounds=[0, 1, 20], threshold_type='lower')"
   ]
  },
  {
   "cell_type": "code",
   "execution_count": null,
   "id": "17648134",
   "metadata": {
    "tags": []
   },
   "outputs": [],
   "source": [
    "plot_thresholds(continuum, bounds=[55, 85, 90], threshold_type='lower')"
   ]
  },
  {
   "cell_type": "code",
   "execution_count": null,
   "id": "c6c9be35",
   "metadata": {
    "tags": []
   },
   "outputs": [],
   "source": [
    "plot_thresholds(continuum, bounds=[90, 60, 10], threshold_type='upper')"
   ]
  },
  {
   "cell_type": "code",
   "execution_count": null,
   "id": "551d32ff",
   "metadata": {
    "tags": []
   },
   "outputs": [],
   "source": [
    "plot_thresholds(continuum, bounds=[5, 2, 1], threshold_type='upper')"
   ]
  },
  {
   "cell_type": "markdown",
   "id": "63b49f07",
   "metadata": {},
   "source": [
    "## EQW"
   ]
  },
  {
   "cell_type": "markdown",
   "id": "72e4794b-44d7-4829-aabd-3f4b08185330",
   "metadata": {},
   "source": [
    "### Visualization"
   ]
  },
  {
   "cell_type": "markdown",
   "id": "0dbf3a37-5898-4d12-9fcc-8a1d23d088fc",
   "metadata": {},
   "source": [
    " - Red regions are <0 and indicate absorption\n",
    "   - Strongest in active regions\n",
    " - Blue regions are >0 and indicate emission\n",
    "   - Strongest on disk edge (see lower and upper thresholds at 100)"
   ]
  },
  {
   "cell_type": "code",
   "execution_count": null,
   "id": "87ed9a49-2cca-4ea9-acb8-7ebbb5e7823c",
   "metadata": {
    "tags": []
   },
   "outputs": [],
   "source": [
    "fig, axes = plt.subplots(nrows=1, ncols=2, figsize=(20, 10))\n",
    "ax = axes.ravel()\n",
    "\n",
    "lower_bound = -100\n",
    "upper_bound = 100\n",
    "\n",
    "ax[0].imshow(np.clip(eqw, lower_bound, upper_bound), cmap=plt.cm.RdBu)\n",
    "hist, edges = get_hist(eqw)\n",
    "ax[1].semilogy(edges[0:-1], hist)\n",
    "\n",
    "lower_percent = get_percent(eqw, lower_bound)\n",
    "upper_percent = get_percent(eqw, upper_bound)\n",
    "\n",
    "ax[1].axvline(lower_percent, color='r')\n",
    "ax[1].axvline(upper_percent, color='r')\n",
    "ax[1].axvspan(lower_percent, upper_percent, color='y', alpha=0.1, lw=0)"
   ]
  },
  {
   "cell_type": "markdown",
   "id": "6a072751-0715-4f18-8b82-2d8b45e05fb8",
   "metadata": {},
   "source": [
    "### Thresholds"
   ]
  },
  {
   "cell_type": "code",
   "execution_count": null,
   "id": "84e12884-e86e-48ac-9d64-8f9b30386446",
   "metadata": {},
   "outputs": [],
   "source": [
    "tresh_percent_list = [get_percent_to_peak_percent(eqw_band_cut, \n",
    "                                                  percent_to_peak=percent_of_peak)\n",
    "                      for percent_of_peak in [75, 100, 125]]\n",
    "plot_thresholds(eqw_band_cut, bounds=tresh_percent_list, threshold_type='lower',\n",
    "                abs_percent=True)"
   ]
  },
  {
   "cell_type": "code",
   "execution_count": null,
   "id": "7deba4df-fb52-4cd4-a537-a78f03ec5160",
   "metadata": {
    "tags": []
   },
   "outputs": [],
   "source": [
    "plot_thresholds(eqw, bounds=[-18, -16, 0], threshold_type='lower',\n",
    "                abs_percent=False)"
   ]
  },
  {
   "cell_type": "code",
   "execution_count": null,
   "id": "425c6910-a5c0-4819-9d3c-48087e316e8a",
   "metadata": {
    "tags": []
   },
   "outputs": [],
   "source": [
    "plot_thresholds(eqw, bounds=[2, 4, 6], threshold_type='lower',\n",
    "                abs_percent=False)"
   ]
  },
  {
   "cell_type": "code",
   "execution_count": null,
   "id": "358b901b-df28-44cc-a26d-b878d223bdf3",
   "metadata": {
    "tags": []
   },
   "outputs": [],
   "source": [
    "plot_thresholds(eqw, bounds=[9, 8, 5], threshold_type='upper',\n",
    "                abs_percent=False)"
   ]
  },
  {
   "cell_type": "code",
   "execution_count": null,
   "id": "b6903c65-3927-40e0-adb5-b8610d91a568",
   "metadata": {
    "tags": []
   },
   "outputs": [],
   "source": [
    "plot_thresholds(eqw, bounds=[0, -10, -20], threshold_type='upper',\n",
    "                abs_percent=False)"
   ]
  },
  {
   "cell_type": "code",
   "execution_count": null,
   "id": "f9588768-193b-45a8-8dcb-a38f21b78c11",
   "metadata": {
    "tags": []
   },
   "outputs": [],
   "source": [
    "band_bounds = [[0,-20,4],\n",
    "               [9, 0, 9]]\n",
    "plot_thresholds(eqw, bounds=band_bounds, threshold_type='band',\n",
    "                abs_percent=False)"
   ]
  },
  {
   "cell_type": "markdown",
   "id": "69ba9870-e0f3-443f-9d0e-f6567e2c1275",
   "metadata": {},
   "source": [
    "## Raw Intensity"
   ]
  },
  {
   "cell_type": "code",
   "execution_count": null,
   "id": "380837cc-b177-4c13-91b0-c4fecdf27450",
   "metadata": {},
   "outputs": [],
   "source": [
    "peak_p = get_peak_percent(raw_im)\n",
    "plot_thresholds(raw_im, bounds=[40, 80, peak_p], threshold_type='lower')"
   ]
  },
  {
   "cell_type": "markdown",
   "id": "85a10c75-3ff3-490f-afc5-9ab576aebc85",
   "metadata": {},
   "source": [
    "## Processed Intensity"
   ]
  },
  {
   "cell_type": "code",
   "execution_count": null,
   "id": "f82a87fa-25ce-4589-b71d-69de147ccd4b",
   "metadata": {},
   "outputs": [],
   "source": [
    "peak_p = get_peak_percent(im)\n",
    "plot_thresholds(im, bounds=[60, 80, peak_p], threshold_type='lower')"
   ]
  },
  {
   "cell_type": "markdown",
   "id": "8d32e033-8a95-4c89-844f-b51532a35e3d",
   "metadata": {},
   "source": [
    "## Linear Combos"
   ]
  },
  {
   "cell_type": "code",
   "execution_count": null,
   "id": "5b72025d-a2d2-4e6a-b525-0cddd7e3258e",
   "metadata": {},
   "outputs": [],
   "source": [
    "peak_p = get_peak_percent(im_10p, skip_zero=True)\n",
    "plot_thresholds(im_10p, bounds=[65, peak_p, 75], threshold_type='lower')"
   ]
  },
  {
   "cell_type": "code",
   "execution_count": null,
   "id": "c5f79e18-e94d-4491-b290-8d877c171cf0",
   "metadata": {},
   "outputs": [],
   "source": [
    "peak_p = get_peak_percent(im_20p)\n",
    "plot_thresholds(im_20p, bounds=[75, peak_p, 85], threshold_type='lower')"
   ]
  },
  {
   "cell_type": "markdown",
   "id": "1391b8ea-cb5f-49c8-857d-b0bf86a0054e",
   "metadata": {},
   "source": [
    "# Shape Processing"
   ]
  },
  {
   "cell_type": "markdown",
   "id": "037ae7cd-fa59-49a1-becb-a2999990d535",
   "metadata": {},
   "source": [
    "## Morphology"
   ]
  },
  {
   "cell_type": "markdown",
   "id": "af3f124a-9191-4630-ad50-f359abdb0d2f",
   "metadata": {},
   "source": [
    "### Open, Close"
   ]
  },
  {
   "cell_type": "code",
   "execution_count": null,
   "id": "0ca47687-2e68-41ac-ad3a-3826e8e9a3ef",
   "metadata": {},
   "outputs": [],
   "source": [
    "# 0-9\n",
    "file_num = 9\n",
    "\n",
    "eqw, date = extract_fits(file_num=file_num)[0:4:3]\n",
    "eqw_band_cut = edit_eqw(eqw, peak_count_cutoff_percent=0.1)[0]\n",
    "edit_im = eqw_band_cut\n",
    "\n",
    "thresh_percent = get_percent_to_peak_percent(\n",
    "        edit_im, percent_to_peak=90)\n",
    "bound = get_val(edit_im, thresh_percent)\n",
    "thresh_im = np.where(edit_im > bound, 1, 0)\n",
    "\n",
    "for open_radius_percent in [0.5, 0.6, 0.7, 0.8]:\n",
    "    open_radius = int(open_radius_percent/100 * edit_im.shape[0])\n",
    "    im_2, im_1 = morph(thresh_im, open_radius=open_radius)\n",
    "    \n",
    "    titles = ['', f'{open_radius}px Radius', '']\n",
    "    plot_ims(edit_im, im_1, im_2, titles)"
   ]
  },
  {
   "cell_type": "markdown",
   "id": "142f2e01-0e77-4c3a-bf71-a6bc7771555f",
   "metadata": {},
   "source": [
    "### Open, Close with Different Radii"
   ]
  },
  {
   "cell_type": "code",
   "execution_count": null,
   "id": "0264b0ae-4b20-45d7-9c6b-52ce16101b62",
   "metadata": {
    "tags": []
   },
   "outputs": [],
   "source": [
    "edit_im = im_10p\n",
    "\n",
    "peak_p = get_peak_percent(edit_im, skip_zero=True)\n",
    "bound = get_val(edit_im, peak_p)\n",
    "edit_im = np.where(edit_im > bound, 1, 0)\n",
    "\n",
    "im_2, im_1 = morph(edit_im, open_radius=8, close_radius=10)\n",
    "plot_ims(edit_im, im_1, im_2)\n",
    "im_2, im_1 = morph(edit_im, open_radius=8, close_radius=15)\n",
    "plot_ims(edit_im, im_1, im_2)\n",
    "im_2, im_1 = morph(edit_im, open_radius=8, close_radius=20)\n",
    "plot_ims(edit_im, im_1, im_2)"
   ]
  },
  {
   "cell_type": "markdown",
   "id": "13c023c7-b6ed-4342-b4ff-cb2ff95f8672",
   "metadata": {},
   "source": [
    "### Close, Open"
   ]
  },
  {
   "cell_type": "code",
   "execution_count": null,
   "id": "fb5b09e0-d6c9-4700-b2c8-bdd772e0cd08",
   "metadata": {
    "tags": []
   },
   "outputs": [],
   "source": [
    "edit_im = eqw_band_cut\n",
    "peak_p = get_peak_percent(edit_im, skip_zero=True)\n",
    "bound = get_val(edit_im, peak_p)\n",
    "edit_im = np.where(edit_im > bound, 1, 0)\n",
    "\n",
    "im_2, im_1 = morph(edit_im, open_radius=4, close_first=True)\n",
    "plot_ims(edit_im, im_1, im_2)\n",
    "im_2, im_1 = morph(edit_im, open_radius=10, close_first=True)\n",
    "plot_ims(edit_im, im_1, im_2)\n",
    "im_2, im_1 = morph(edit_im, open_radius=15, close_first=True)\n",
    "plot_ims(edit_im, im_1, im_2)"
   ]
  },
  {
   "cell_type": "markdown",
   "id": "381fec2b-163e-417c-ad8d-12061e23717a",
   "metadata": {},
   "source": [
    "### Grey Morphology before Threshold"
   ]
  },
  {
   "cell_type": "code",
   "execution_count": null,
   "id": "5fd3abd0-e0e2-4ac6-adb1-b1148adda2e2",
   "metadata": {},
   "outputs": [],
   "source": [
    "# 0-9\n",
    "file_num = 9\n",
    "\n",
    "eqw, date = extract_fits(file_num=file_num)[0:4:3]\n",
    "eqw_band_cut = edit_eqw(eqw, peak_count_cutoff_percent=0.1)[0]\n",
    "edit_im = eqw_band_cut\n",
    "\n",
    "open_radius = 10\n",
    "close_radius = open_radius\n",
    "\n",
    "im_2, im_1 = morph(edit_im, open_radius=5, grey=True)\n",
    "plot_ims(edit_im, im_1, im_2)\n",
    "im_2, im_1 = morph(edit_im, open_radius=10, grey=True)\n",
    "plot_ims(edit_im, im_1, im_2)\n",
    "im_2, im_1 = morph(edit_im, open_radius=15, grey=True)\n",
    "plot_ims(edit_im, im_1, im_2)"
   ]
  },
  {
   "cell_type": "markdown",
   "id": "8626dc7f-ec05-4a8b-b0c7-75fd51f713f5",
   "metadata": {},
   "source": [
    "## Binary Hole Processing"
   ]
  },
  {
   "cell_type": "markdown",
   "id": "6b540aa7-c411-4696-82cc-3e70fef0b503",
   "metadata": {},
   "source": [
    "### Fill, Remove"
   ]
  },
  {
   "cell_type": "code",
   "execution_count": null,
   "id": "767754a8-5735-4573-94c9-f1dc58813508",
   "metadata": {},
   "outputs": [],
   "source": [
    "# 0-9\n",
    "file_num = 9\n",
    "\n",
    "eqw, date = extract_fits(file_num=file_num)[0:4:3]\n",
    "eqw_band_cut = edit_eqw(eqw, peak_count_cutoff_percent=0.1)[0]\n",
    "\n",
    "edit_im = eqw_band_cut\n",
    "thresh_percent = get_percent_to_peak_percent(edit_im, percent_to_peak=100)\n",
    "bound = get_val(edit_im, thresh_percent)\n",
    "edit_im = np.where(edit_im > bound, 1, 0)\n",
    "\n",
    "edit_im = morph(edit_im, open_radius=5)[0]\n",
    "\n",
    "im_2, im_1 = fill_rm(edit_im, min_size=5_000)\n",
    "plot_ims(edit_im, im_1, im_2)\n",
    "im_2, im_1 = fill_rm(edit_im, min_size=12_500)\n",
    "plot_ims(edit_im, im_1, im_2)\n",
    "im_2, im_1 = fill_rm(edit_im, min_size=20_000)\n",
    "plot_ims(edit_im, im_1, im_2)"
   ]
  },
  {
   "cell_type": "markdown",
   "id": "3c9db0b7-dcf6-4bf1-a6fe-ab13c3672973",
   "metadata": {},
   "source": [
    "### Remove, Fill"
   ]
  },
  {
   "cell_type": "code",
   "execution_count": null,
   "id": "524b13a8-e7c6-4fd7-9b45-a9528b34dd17",
   "metadata": {
    "tags": []
   },
   "outputs": [],
   "source": [
    "edit_im = im_10p\n",
    "peak_p = get_peak_percent(edit_im, skip_zero=True)\n",
    "bound = get_val(edit_im, peak_p)\n",
    "edit_im = np.where(edit_im > bound, 1, 0)\n",
    "\n",
    "edit_im = morph(edit_im, open_radius=8)[0]\n",
    "\n",
    "im_2, im_1 = fill_rm(edit_im, min_size=5000, rm_first=True)\n",
    "plot_ims(edit_im, im_1, im_2)\n",
    "im_2, im_1 = fill_rm(edit_im, min_size=15000, rm_first=True)\n",
    "plot_ims(edit_im, im_1, im_2)\n",
    "im_2, im_1 = fill_rm(edit_im, min_size=25000, rm_first=True)\n",
    "plot_ims(edit_im, im_1, im_2)"
   ]
  },
  {
   "cell_type": "markdown",
   "id": "32c5027d-a399-4e85-ae9e-ad08134f0b25",
   "metadata": {},
   "source": [
    "# Pooling"
   ]
  },
  {
   "cell_type": "markdown",
   "id": "76d3865f-080c-4350-a44e-8ec86ea58e9e",
   "metadata": {},
   "source": [
    "## Fixed Morphological Radius"
   ]
  },
  {
   "cell_type": "code",
   "execution_count": null,
   "id": "93a96d80-dbfb-4ebb-963c-cb0b6d2eeb9d",
   "metadata": {},
   "outputs": [],
   "source": [
    "# 0-9\n",
    "file_num = 8\n",
    "\n",
    "eqw, date = extract_fits(file_num=file_num)[0:4:3]\n",
    "eqw_band_cut = edit_eqw(eqw, peak_count_cutoff_percent=0.1)[0]\n",
    "\n",
    "open_radius = 6\n",
    "min_size_percent = 0.2\n",
    "\n",
    "pool_sizes = [2,4,6]\n",
    "    \n",
    "for pool_type in ['min', 'median', 'max']:\n",
    "\n",
    "    pooled_ims = [pool(eqw_band_cut, size=i, pool_type=pool_type)\n",
    "                  for i in pool_sizes]\n",
    "\n",
    "    thresh_percents = [get_percent_to_peak_percent(\n",
    "        pooled_im, percent_to_peak=90)\n",
    "                       for pooled_im in pooled_ims]\n",
    "    min_sizes = [int(min_size_percent/100 * pooled_im.shape[0]**2)\n",
    "                 for pooled_im in pooled_ims]\n",
    "    \n",
    "    holes_mask_list = [get_holes_mask(\n",
    "        pooled_im, thresh_percent=thresh_percent, \n",
    "        open_radius=open_radius, min_size=min_size)\n",
    "                       for pooled_im, thresh_percent, min_size\n",
    "                       in zip(pooled_ims, thresh_percents, min_sizes)]\n",
    "    \n",
    "    titles = [f'{pool_type[0].upper()}{pool_type[1:]} Pooling \\n' +\\\n",
    "              f'{pool_size}px Window Length'\n",
    "              for pool_size in pool_sizes]\n",
    "              \n",
    "    plot_ims(holes_mask_list[0], holes_mask_list[1], holes_mask_list[2], titles)"
   ]
  },
  {
   "cell_type": "markdown",
   "id": "d2206fc7-3490-4153-bddf-95d5cda79aa2",
   "metadata": {},
   "source": [
    "## Morphological Radius Scaling Down with Pooling"
   ]
  },
  {
   "cell_type": "code",
   "execution_count": null,
   "id": "dd171b49-2fcd-452f-8e09-f2abf07aa3c6",
   "metadata": {},
   "outputs": [],
   "source": [
    "# 0-9\n",
    "file_num = 8\n",
    "\n",
    "eqw, date = extract_fits(file_num=file_num)[0:4:3]\n",
    "eqw_band_cut = edit_eqw(eqw, peak_count_cutoff_percent=0.1)[0]\n",
    "\n",
    "percent_to_peak = 100\n",
    "open_radius_percent = 0.6\n",
    "min_size_percent = 0.2\n",
    "\n",
    "pool_sizes = [2,4,6]\n",
    "\n",
    "thresh_percent = get_percent_to_peak_percent(\n",
    "    edit_im, percent_to_peak=percent_to_peak)\n",
    "open_radius = int(open_radius_percent/100 * eqw_band_cut.shape[0])\n",
    "min_size = int(min_size_percent/100 * eqw_band_cut.shape[0]**2)\n",
    "\n",
    "holes_mask = get_holes_mask(eqw_band_cut, thresh_percent=thresh_percent,\n",
    "                            open_radius=open_radius, min_size=min_size)\n",
    "plot_ims(eqw_band_cut, holes_mask, [[0,0],[0,0]])\n",
    "\n",
    "for pool_type in ['min', 'median', 'max']:\n",
    "\n",
    "    pooled_ims = [pool(eqw_band_cut, size=i, pool_type=pool_type)\n",
    "                  for i in pool_sizes]\n",
    "\n",
    "    thresh_percents = [get_percent_to_peak_percent(\n",
    "        pooled_im, percent_to_peak=percent_to_peak)\n",
    "                       for pooled_im in pooled_ims]\n",
    "    radii = [int(open_radius_percent/100 * pooled_im.shape[0])\n",
    "             for pooled_im in pooled_ims]\n",
    "    min_sizes = [int(min_size_percent/100 * pooled_im.shape[0]**2)\n",
    "                 for pooled_im in pooled_ims]\n",
    "    \n",
    "    holes_mask_list = [get_holes_mask(\n",
    "        pooled_im, thresh_percent=thresh_percent, \n",
    "        open_radius=radius, min_size=min_size)\n",
    "                       for pooled_im, thresh_percent, radius, min_size\n",
    "                       in zip(pooled_ims, thresh_percents, radii, min_sizes)]\n",
    "    \n",
    "    titles = [f'{pool_type[0].upper()}{pool_type[1:]} Pooling \\n' +\\\n",
    "              f'{pool_size}px Window Length'\n",
    "              for pool_size in pool_sizes]\n",
    "              \n",
    "    plot_ims(holes_mask_list[0], holes_mask_list[1], holes_mask_list[2], titles)"
   ]
  },
  {
   "cell_type": "markdown",
   "id": "f3339871-bb43-4a45-9374-ba704d0ddeb3",
   "metadata": {
    "tags": []
   },
   "source": [
    "# Candidate Holes"
   ]
  },
  {
   "cell_type": "markdown",
   "id": "319cb5d5-a31c-4ff7-b75c-a94c3af91876",
   "metadata": {},
   "source": [
    "Initial Algorithm\n",
    "1. EQW Pre-Processing\n",
    "    - Work with EQW rather than intensity\n",
    "        - Continuum overpowers EQW in Intensity = Continuum + EQW\n",
    "            - Threshold becomes meaningless\n",
    "    - Fill background with NaN\n",
    "    - Band pass threshold\n",
    "        - At % of peak histogram count: **0.1%**\n",
    "        - Brightest Limb Values: Strong emission that does not indicate CHS presence\n",
    "            - Introduce an unwanted ring in CHS mask\n",
    "        - Darkest Region Values: Strong absorption from irrelevant active regions\n",
    "            - Center image brightness for visualization\n",
    "            - Thresholded off in CHS mask anyways\n",
    "2. Threshold to create binary CHS mask\n",
    "    - Arbitrary threshold options\n",
    "        - At % from 0 value to peak histogram count value: **90%**\n",
    "        - At peak histogram count\n",
    "3. Process CHS mask to remove noise\n",
    "    - Morphological open, close\n",
    "        - Arbitrary structuring element disk radius: **5 px**\n",
    "    - Fill small holes in CHS and remove small features\n",
    "        - Arbitrary minimum size for small object removal: **10,000 px**\n",
    "4. Produce labeled candidate holes\n",
    "    - Visualize boundaries with a contour map\n",
    "    - Labeled candidates are regions numbered 1 to number of CHS"
   ]
  },
  {
   "cell_type": "markdown",
   "id": "e2a496c8-0599-405d-8142-1d6d551079bf",
   "metadata": {},
   "source": [
    "## Extraction"
   ]
  },
  {
   "cell_type": "markdown",
   "id": "0b3969d8-d964-4910-872d-799f5d58c5c4",
   "metadata": {},
   "source": [
    "### Threshold Before Processing"
   ]
  },
  {
   "cell_type": "code",
   "execution_count": null,
   "id": "27a93826-895a-4b34-b431-6bfc1a76f6c0",
   "metadata": {},
   "outputs": [],
   "source": [
    "# 0-9\n",
    "file_num = 8\n",
    "\n",
    "percent_to_peak = 90\n",
    "open_radius_percent = 0.5\n",
    "min_size_percent = 0.2\n",
    "\n",
    "eqw, date = extract_fits(file_num=file_num)[0:4:3]\n",
    "eqw_band_cut = edit_eqw(eqw, peak_count_cutoff_percent=0.1)[0]\n",
    "\n",
    "edit_im = eqw_band_cut\n",
    "\n",
    "thresh_percent = get_percent_to_peak_percent(\n",
    "    edit_im, percent_to_peak=percent_to_peak)\n",
    "open_radius = int(open_radius_percent/100 * eqw_band_cut.shape[0])\n",
    "min_size = int(min_size_percent/100 * eqw_band_cut.shape[0]**2)\n",
    "\n",
    "holes_mask = get_holes_mask(edit_im, thresh_percent=thresh_percent,\n",
    "                            open_radius=open_radius, min_size=min_size)\n",
    "\n",
    "labeled_candidate_holes, num_holes = ndimage.label(holes_mask)\n",
    "masked_candidates = get_masked_candidates(edit_im, holes_mask)\n",
    "\n",
    "plot_candidates(edit_im, holes_mask, date, num_holes, labeled_candidate_holes)\n",
    "plot_ims(edit_im, masked_candidates.mask, masked_candidates)"
   ]
  },
  {
   "cell_type": "markdown",
   "id": "3c2ac0c2-1851-4aca-86ec-e9fd0a91c044",
   "metadata": {},
   "source": [
    "#### Pooling"
   ]
  },
  {
   "cell_type": "code",
   "execution_count": null,
   "id": "a353aec1-97c1-4e4e-80bc-858021259d41",
   "metadata": {},
   "outputs": [],
   "source": [
    "# 0-9\n",
    "file_num = 8\n",
    "\n",
    "pool_size = 2\n",
    "percent_to_peak = 90\n",
    "open_radius_percent = 0.6\n",
    "min_size_percent = 0.2\n",
    "\n",
    "eqw, date = extract_fits(file_num=file_num)[0:4:3]\n",
    "eqw_band_cut = edit_eqw(eqw, peak_count_cutoff_percent=0.1)[0]\n",
    "\n",
    "pooled_im = pool(eqw_band_cut, size=pool_size, pool_type='min')\n",
    "\n",
    "thresh_percent = get_percent_to_peak_percent(\n",
    "    pooled_im, percent_to_peak=percent_to_peak)\n",
    "open_radius = int(open_radius_percent/100 * pooled_im.shape[0])\n",
    "min_size = int(min_size_percent/100 * pooled_im.shape[0]**2)\n",
    "\n",
    "holes_mask = get_holes_mask(\n",
    "    pooled_im, thresh_percent=thresh_percent, open_radius=6, \n",
    "    min_size=min_size)\n",
    "holes_mask_im = Image.fromarray(holes_mask)\n",
    "zoom_holes_mask = np.asarray(holes_mask_im.resize(\n",
    "    (eqw_band_cut.shape[0], eqw_band_cut.shape[0])))\n",
    "\n",
    "labeled_candidate_holes, num_holes = ndimage.label(holes_mask)\n",
    "masked_candidates = get_masked_candidates(eqw_band_cut, zoom_holes_mask)\n",
    "\n",
    "plot_candidates(eqw_band_cut, zoom_holes_mask, date, num_holes, labeled_candidate_holes)\n",
    "plot_ims(pooled_im, masked_candidates.mask, masked_candidates)"
   ]
  },
  {
   "cell_type": "markdown",
   "id": "d8d54364-15d7-4c94-a614-d24c7e02dad9",
   "metadata": {},
   "source": [
    "### Threshold after Processing"
   ]
  },
  {
   "cell_type": "code",
   "execution_count": null,
   "id": "148892d1-4e5d-4102-af74-c46f1bb537f9",
   "metadata": {},
   "outputs": [],
   "source": [
    "# 0-9\n",
    "file_num = 8\n",
    "\n",
    "eqw, date = extract_fits(file_num=file_num)[0:4:3]\n",
    "eqw_band_cut = edit_eqw(eqw, peak_count_cutoff_percent=0.1)[0]\n",
    "\n",
    "edit_im = eqw_band_cut\n",
    "\n",
    "thresh_percent = get_percent_to_peak_percent(edit_im, \n",
    "                                             percent_to_peak=90)\n",
    "\n",
    "holes_mask = get_holes_mask(edit_im, thresh_percent=thresh_percent,\n",
    "                            open_radius=8, grey=True,\n",
    "                            min_size=10000)\n",
    "\n",
    "labeled_candidate_holes, num_holes = ndimage.label(holes_mask)\n",
    "masked_candidates = get_masked_candidates(edit_im, holes_mask)\n",
    "\n",
    "plot_candidates(edit_im, holes_mask, date, num_holes, labeled_candidate_holes)\n",
    "plot_ims(edit_im, masked_candidates.mask, masked_candidates)"
   ]
  },
  {
   "cell_type": "markdown",
   "id": "5a94564b-2a32-47d2-85ff-bfa8a3fd8b7d",
   "metadata": {},
   "source": [
    "## Candidates"
   ]
  },
  {
   "cell_type": "code",
   "execution_count": null,
   "id": "1305270a-ffb9-439c-89c0-2e882107d1e6",
   "metadata": {},
   "outputs": [],
   "source": [
    "# 0-9\n",
    "file_num = 8\n",
    "\n",
    "percent_to_peak = 90\n",
    "open_radius_percent = 0.6\n",
    "min_size_percent = 0.2\n",
    "\n",
    "eqw, date = extract_fits(file_num=file_num)[0:4:3]\n",
    "eqw_band_cut = edit_eqw(eqw, peak_count_cutoff_percent=0.1)[0]\n",
    "\n",
    "edit_im = eqw_band_cut\n",
    "\n",
    "thresh_percent = get_percent_to_peak_percent(\n",
    "    edit_im, percent_to_peak=percent_to_peak)\n",
    "open_radius = int(open_radius_percent/100 * eqw_band_cut.shape[0])\n",
    "min_size = int(min_size_percent/100 * eqw_band_cut.shape[0]**2)\n",
    "\n",
    "holes_mask = get_holes_mask(edit_im, thresh_percent=thresh_percent,\n",
    "                            open_radius=open_radius, min_size=min_size)\n",
    "\n",
    "masked_candidates = get_masked_candidates(edit_im, holes_mask)\n",
    "labeled_candidate_holes, num_holes = ndimage.label(holes_mask)\n",
    "\n",
    "plot_hole_hists(edit_im, masked_candidates, labeled_candidate_holes, num_holes)"
   ]
  },
  {
   "cell_type": "markdown",
   "id": "3b6531af-d4b6-428a-b343-693f7bb65df0",
   "metadata": {},
   "source": [
    "## Compare"
   ]
  },
  {
   "cell_type": "code",
   "execution_count": null,
   "id": "afb0c7cd-f52e-465d-9dd2-db5f511f18c2",
   "metadata": {},
   "outputs": [],
   "source": [
    "percent_to_peak = 100\n",
    "open_radius_percent = 0.6\n",
    "min_size_percent = 0.2\n",
    "\n",
    "for file_num in range(10):\n",
    "    eqw, date = extract_fits(file_num=file_num)[0:4:3]\n",
    "    eqw_band_cut = edit_eqw(eqw, peak_count_cutoff_percent=0.1)[0]\n",
    "\n",
    "    edit_im = eqw_band_cut\n",
    "    \n",
    "    thresh_percent = get_percent_to_peak_percent(\n",
    "        edit_im, percent_to_peak=percent_to_peak)\n",
    "    open_radius = int(open_radius_percent/100 * edit_im.shape[0])\n",
    "    min_size = int(min_size_percent/100 * edit_im.shape[0]**2)\n",
    "    \n",
    "    holes_mask = get_holes_mask(edit_im, thresh_percent=thresh_percent,\n",
    "                                open_radius=open_radius, min_size=min_size)\n",
    "    num_holes = ndimage.label(holes_mask)[1]\n",
    "\n",
    "    euv = extract_euv(file_num)\n",
    "\n",
    "    plot_comparison(eqw_band_cut, holes_mask, date, num_holes, euv)"
   ]
  },
  {
   "cell_type": "markdown",
   "id": "d04a4a4b-bfcc-46f8-baa0-f1b6a1ef94da",
   "metadata": {},
   "source": [
    "### Pool"
   ]
  },
  {
   "cell_type": "code",
   "execution_count": null,
   "id": "f9e51ef9-339f-46c4-945a-0ceba9020ad3",
   "metadata": {},
   "outputs": [],
   "source": [
    "pool_size = 4\n",
    "percent_to_peak = 100\n",
    "open_radius_percent = 0.6\n",
    "min_size_percent = 0.2\n",
    "\n",
    "for file_num in range(10):\n",
    "    eqw, date = extract_fits(file_num=file_num)[0:4:3]\n",
    "    eqw_band_cut = edit_eqw(eqw, peak_count_cutoff_percent=0.1)[0]\n",
    "\n",
    "    edit_im = pool(eqw_band_cut, size=pool_size, pool_type='min')\n",
    "\n",
    "    thresh_percent = get_percent_to_peak_percent(\n",
    "        edit_im, percent_to_peak=percent_to_peak)\n",
    "    open_radius = int(open_radius_percent/100 * edit_im.shape[0])\n",
    "    min_size = int(min_size_percent/100 * edit_im.shape[0]**2)\n",
    "\n",
    "    holes_mask = get_holes_mask(\n",
    "        edit_im, thresh_percent=thresh_percent, open_radius=open_radius, \n",
    "        min_size=min_size)\n",
    "    holes_mask_im = Image.fromarray(holes_mask)\n",
    "    zoom_holes_mask = np.asarray(holes_mask_im.resize(\n",
    "        (eqw_band_cut.shape[0], eqw_band_cut.shape[0])))\n",
    "\n",
    "    num_holes = ndimage.label(holes_mask)[1]\n",
    "\n",
    "    euv = extract_euv(file_num)\n",
    "\n",
    "    plot_comparison(eqw_band_cut, zoom_holes_mask, date, num_holes, euv)"
   ]
  },
  {
   "cell_type": "markdown",
   "id": "372621a7-0481-4cb3-b8fc-9249ee920b30",
   "metadata": {},
   "source": [
    "# Ensemble"
   ]
  },
  {
   "cell_type": "markdown",
   "id": "593a95b7-390a-4f08-ae01-9dbc1e747d28",
   "metadata": {},
   "source": [
    "**Bright, smooth regions** indicate likelihood of a candidate being a CH"
   ]
  },
  {
   "cell_type": "markdown",
   "id": "78e2c08e-2445-42fc-8fa8-c1b817cc23a4",
   "metadata": {},
   "source": [
    "Ensemble Approach: Confidence map for initial segmentations\n",
    "- Vary key algorithm parameters and assign high confidence to more \"conservative\" segmentations\n",
    "    - Display of intra-algorithm uncertainty\n",
    "- Parameters\n",
    "    - Initial thresholds as % of histogram peak \n",
    "        - Higher thresholds require high brightness to \"nominate\" candidates\n",
    "        - Current: **90, 100, & 110%**\n",
    "    - Radius of disk structuring element for morphological open/closing \n",
    "        - Larger radii require greater coherence to \"nominate\" candidates\n",
    "            - Nominates more blobby and less stringy regions\n",
    "        - Current: **4, 6, 8px**\n",
    "- Confidence\n",
    "    - Assigned $\\in$ (0%, 100%] via number of parameter options provided"
   ]
  },
  {
   "cell_type": "markdown",
   "id": "632b7e99-5e14-4cc7-ba09-7ee60c60febd",
   "metadata": {},
   "source": [
    "## Threshold-Based"
   ]
  },
  {
   "cell_type": "code",
   "execution_count": null,
   "id": "2f6f1876-c856-41a5-a76d-6ef48e943624",
   "metadata": {},
   "outputs": [],
   "source": [
    "# 0-9\n",
    "file_num = 8\n",
    "\n",
    "eqw, date = extract_fits(file_num=file_num)[0:4:3]\n",
    "edit_im = edit_eqw(eqw, peak_count_cutoff_percent=0.1)[0]\n",
    "\n",
    "percent_of_peak_list = list(range(80,131,10))\n",
    "radius_list = [5]\n",
    "\n",
    "ensemble_map, holes_mask_list, confidence_list = get_ensemble(\n",
    "    edit_im, percent_of_peak_list, radius_list)\n",
    "\n",
    "title_list = [f'{percent_of_peak:d}% of Histogram Peak'\n",
    "              for percent_of_peak, confidence \n",
    "              in zip(percent_of_peak_list, confidence_list)]\n",
    "\n",
    "plot_ensemble(edit_im, ensemble_map, confidence_list, title_list, holes_mask_list)"
   ]
  },
  {
   "cell_type": "markdown",
   "id": "fc7d746d-2e69-4230-9fc1-b365a5d562af",
   "metadata": {},
   "source": [
    "## Radius-Based"
   ]
  },
  {
   "cell_type": "code",
   "execution_count": null,
   "id": "b851db33-f382-4bc5-bc7e-caa1307d3b11",
   "metadata": {},
   "outputs": [],
   "source": [
    "# 0-9\n",
    "file_num = 8\n",
    "\n",
    "eqw, date = extract_fits(file_num=file_num)[0:4:3]\n",
    "edit_im = edit_eqw(eqw, peak_count_cutoff_percent=0.1)[0]\n",
    "\n",
    "percent_of_peak_list = [100]\n",
    "radius_list = list(range(2,13,2))\n",
    "\n",
    "ensemble_map, holes_mask_list, confidence_list = get_ensemble(\n",
    "    edit_im, percent_of_peak_list, radius_list)\n",
    "\n",
    "title_list = [f'{radius:d}px Radius'\n",
    "              for radius, confidence \n",
    "              in zip(radius_list, confidence_list)]\n",
    "\n",
    "plot_ensemble(edit_im, ensemble_map, confidence_list, title_list, holes_mask_list)"
   ]
  },
  {
   "cell_type": "markdown",
   "id": "d9af723b-f061-4a97-9850-8a0494e6b52e",
   "metadata": {},
   "source": [
    "## Combined"
   ]
  },
  {
   "cell_type": "code",
   "execution_count": null,
   "id": "eec4a453-c71f-4070-a00d-ccc462979ce2",
   "metadata": {},
   "outputs": [],
   "source": [
    "# 0-9\n",
    "file_num = 8\n",
    "\n",
    "eqw, date = extract_fits(file_num=file_num)[0:4:3]\n",
    "edit_im = edit_eqw(eqw, peak_count_cutoff_percent=0.1)[0]\n",
    "\n",
    "percent_of_peak_list = list(range(90,111,10))\n",
    "radius_list = list(range(4,9,2))\n",
    "\n",
    "ensemble_map, holes_mask_list, confidence_list = get_ensemble(\n",
    "    edit_im, percent_of_peak_list, radius_list)\n",
    "\n",
    "title_list = [f'{percent_of_peak:d}% of Histogram Peak | {radius:d}px Radius'\n",
    "              for percent_of_peak in percent_of_peak_list\n",
    "              for radius in radius_list]\n",
    "\n",
    "plot_ensemble(edit_im, ensemble_map, confidence_list, title_list, holes_mask_list)"
   ]
  },
  {
   "cell_type": "code",
   "execution_count": null,
   "id": "ec3f7b52-3c36-4456-b78d-1bffa1378399",
   "metadata": {},
   "outputs": [],
   "source": [
    "# 0-9\n",
    "file_num = 8\n",
    "\n",
    "eqw, date = extract_fits(file_num=file_num)[0:4:3]\n",
    "edit_im = edit_eqw(eqw, peak_count_cutoff_percent=0.1)[0]\n",
    "\n",
    "percent_of_peak_list = list(range(90,111,10))\n",
    "radius_list = list(range(4,9,2))\n",
    "\n",
    "ensemble_map, holes_mask_list, confidence_list = get_ensemble(\n",
    "    edit_im, percent_of_peak_list, radius_list, grey=True)\n",
    "\n",
    "title_list = [f'{percent_of_peak:d}% of Histogram Peak | {radius:d}px Radius'\n",
    "              for percent_of_peak in percent_of_peak_list\n",
    "              for radius in radius_list]\n",
    "\n",
    "plot_ensemble(edit_im, ensemble_map, confidence_list, title_list, holes_mask_list)"
   ]
  },
  {
   "cell_type": "markdown",
   "id": "e0941c99-3942-4770-ad5c-f863c63a30db",
   "metadata": {},
   "source": [
    "## EUV Comparison"
   ]
  },
  {
   "cell_type": "code",
   "execution_count": null,
   "id": "6a552b24-18d7-438a-8efe-5f9d281163ba",
   "metadata": {},
   "outputs": [],
   "source": [
    "for file_num in range(10):\n",
    "    eqw, date = extract_fits(file_num=file_num)[0:4:3]\n",
    "    eqw_band_cut = edit_eqw(eqw, peak_count_cutoff_percent=0.1)[0]\n",
    "\n",
    "    edit_im = eqw_band_cut\n",
    "    \n",
    "    percent_of_peak_list = list(range(90,111,10))\n",
    "    radius_list = list(range(4,9,2))\n",
    "\n",
    "    ensemble_map = get_ensemble(edit_im, percent_of_peak_list, radius_list)[0]\n",
    "\n",
    "    euv = extract_euv(file_num)\n",
    "\n",
    "    plot_ensemble_comparison(edit_im, date, ensemble_map, euv)"
   ]
  },
  {
   "cell_type": "markdown",
   "id": "23b0e0b4-414a-4586-947d-ecede872ddd8",
   "metadata": {
    "tags": []
   },
   "source": [
    "# Selection Metrics"
   ]
  },
  {
   "cell_type": "markdown",
   "id": "177edb6c-115b-422e-9956-480668660981",
   "metadata": {},
   "source": [
    "Statistical Selection Approach: Probability map for candidates being CH's \n",
    "- Brightness Metrics\n",
    "    - High central tendency in brightness\n",
    "        1. Median of candidate brightness\n",
    "- Smoothness Metrics\n",
    "    - Low dispersion in brightness\n",
    "        2. Central **90%** band width from histogram of candidate brightness\n",
    "    - Low central tendency in gradient intensity\n",
    "        3. Median of candidate intensity after Sobel operator\n",
    "    - Low dispersion in gradient intensity\n",
    "        4. Central **90%** band width from histogram of candidate intensity after Sobel operator"
   ]
  },
  {
   "cell_type": "markdown",
   "id": "1a56c60e-4663-4ef4-92cc-5ea7afff48d8",
   "metadata": {},
   "source": [
    "## Brightness"
   ]
  },
  {
   "cell_type": "code",
   "execution_count": null,
   "id": "9f7cb8c4-a634-4dc3-88af-99792dee878d",
   "metadata": {
    "tags": []
   },
   "outputs": [],
   "source": [
    "# 0-9\n",
    "file_num = 9\n",
    "\n",
    "eqw, date = extract_fits(file_num=file_num)[0:4:3]\n",
    "edit_im = edit_eqw(eqw, peak_count_cutoff_percent=0.1)[0]\n",
    "\n",
    "thresh_percent = get_percent_to_peak_percent(edit_im, percent_to_peak=90)\n",
    "\n",
    "holes_mask = get_holes_mask(edit_im, thresh_percent=thresh_percent,\n",
    "                            open_radius=5, min_size=10000)\n",
    "\n",
    "masked_candidates = get_masked_candidates(edit_im, holes_mask)\n",
    "labeled_candidate_holes, num_holes = ndimage.label(holes_mask)\n",
    "\n",
    "hole_im_list = get_hole_im_list(edit_im, labeled_candidate_holes, num_holes)"
   ]
  },
  {
   "cell_type": "code",
   "execution_count": null,
   "id": "6513cd97-799c-4e5e-9348-c6b6acdf6457",
   "metadata": {},
   "outputs": [],
   "source": [
    "plot_hole_hists(edit_im, masked_candidates, labeled_candidate_holes, num_holes,\n",
    "                sort_type='median')"
   ]
  },
  {
   "cell_type": "code",
   "execution_count": null,
   "id": "0b791ed6-7887-4de0-ad7c-3ab9c3d04def",
   "metadata": {},
   "outputs": [],
   "source": [
    "medians = get_hole_medians(hole_im_list)\n",
    "\n",
    "sorted_candidate_nums = np.argsort(medians) + 1\n",
    "sorted_candidate_nums = np.flip(sorted_candidate_nums)\n",
    "medians.sort(reverse=True)\n",
    "\n",
    "print('Brightness Medians')\n",
    "print_holes_metrics(num_holes, sorted_candidate_nums, medians)\n",
    "\n",
    "fig = plt.figure(figsize=(15, 10))\n",
    "ax = fig.add_subplot()\n",
    "\n",
    "plot_metric_bars(ax, num_holes, medians, 'Brightness Median', \n",
    "                 median=True, high_cutoff=True)"
   ]
  },
  {
   "cell_type": "markdown",
   "id": "6ebc2d77-e1ea-4e79-8cdb-f8d18e20d62b",
   "metadata": {},
   "source": [
    "## Smoothness"
   ]
  },
  {
   "cell_type": "code",
   "execution_count": null,
   "id": "fbdcfd49-a3e3-4e50-9335-e7ab22f20a91",
   "metadata": {},
   "outputs": [],
   "source": [
    "plot_hole_hists(edit_im, masked_candidates, labeled_candidate_holes, num_holes,\n",
    "                sort_type='width')"
   ]
  },
  {
   "cell_type": "code",
   "execution_count": null,
   "id": "1e5fc364-4213-4669-bb15-3b92796b2f14",
   "metadata": {},
   "outputs": [],
   "source": [
    "hole_band_widths = get_hole_band_widths(hole_im_list)\n",
    "sorted_candidate_nums = np.argsort(hole_band_widths) + 1\n",
    "hole_band_widths.sort()\n",
    "\n",
    "print('Central 90% Band Widths of Brightness')\n",
    "print_holes_metrics(num_holes, sorted_candidate_nums, hole_band_widths)\n",
    "\n",
    "fig = plt.figure(figsize=(15, 10))\n",
    "ax = fig.add_subplot()\n",
    "\n",
    "plot_metric_bars(ax, num_holes, hole_band_widths, 'Brightness Spread')"
   ]
  },
  {
   "cell_type": "markdown",
   "id": "52519ed9-a60b-4183-89f4-3db5a252b0b4",
   "metadata": {},
   "source": [
    "### Gradient"
   ]
  },
  {
   "cell_type": "code",
   "execution_count": null,
   "id": "f281bf30-e912-4e5b-9aaa-ce893dd649a2",
   "metadata": {},
   "outputs": [],
   "source": [
    "# 0-9\n",
    "file_num = 9\n",
    "\n",
    "eqw, date = extract_fits(file_num=file_num)[0:4:3]\n",
    "edit_im = edit_eqw(eqw, peak_count_cutoff_percent=0.1)[0]\n",
    "\n",
    "thresh_percent = get_percent_to_peak_percent(edit_im, percent_to_peak=90)\n",
    "\n",
    "holes_mask = get_holes_mask(edit_im, thresh_percent=thresh_percent,\n",
    "                            open_radius=5, min_size=10000)\n",
    "\n",
    "masked_candidates = get_masked_candidates(edit_im, holes_mask)\n",
    "labeled_candidate_holes, num_holes = ndimage.label(holes_mask)\n",
    "\n",
    "candidate_edges = filters.sobel(masked_candidates)\n",
    "hole_im_list = get_hole_im_list(candidate_edges,\n",
    "                                labeled_candidate_holes, num_holes)"
   ]
  },
  {
   "cell_type": "markdown",
   "id": "200ce2e8-dc75-4347-83ef-821ef92c0d5f",
   "metadata": {},
   "source": [
    "### Central Tendency"
   ]
  },
  {
   "cell_type": "code",
   "execution_count": null,
   "id": "61cb8eb1-01b6-43ff-88d8-27325cf2c68b",
   "metadata": {},
   "outputs": [],
   "source": [
    "plot_hole_hists(edit_im, masked_candidates, labeled_candidate_holes, num_holes,\n",
    "                sort_type='median', gradient=True)"
   ]
  },
  {
   "cell_type": "code",
   "execution_count": null,
   "id": "43771c79-4df5-454d-b51b-27264a4b7b99",
   "metadata": {},
   "outputs": [],
   "source": [
    "medians = get_hole_medians(hole_im_list)\n",
    "sorted_candidate_nums = np.argsort(medians) + 1\n",
    "medians.sort()\n",
    "\n",
    "print('Gradient Intensity Medians')\n",
    "print_holes_metrics(num_holes, sorted_candidate_nums, medians)\n",
    "\n",
    "fig = plt.figure(figsize=(15, 10))\n",
    "ax = fig.add_subplot()\n",
    "\n",
    "plot_metric_bars(ax, num_holes, medians, 'Gradient Intensity Median',\n",
    "                 gradient=True)"
   ]
  },
  {
   "cell_type": "markdown",
   "id": "1395ce4e-6377-4150-8b7d-d0f36e4a9c2b",
   "metadata": {},
   "source": [
    "### Dispersion"
   ]
  },
  {
   "cell_type": "code",
   "execution_count": null,
   "id": "93b89a14-3ee5-4ab9-bd19-369f336a02d8",
   "metadata": {},
   "outputs": [],
   "source": [
    "plot_hole_hists(edit_im, masked_candidates, labeled_candidate_holes, num_holes,\n",
    "                sort_type='width', gradient=True)"
   ]
  },
  {
   "cell_type": "code",
   "execution_count": null,
   "id": "7e104952-a22c-47de-9f26-8f7a7ab88dcf",
   "metadata": {},
   "outputs": [],
   "source": [
    "hole_band_widths = get_hole_band_widths(hole_im_list)\n",
    "sorted_candidate_nums = np.argsort(hole_band_widths) + 1\n",
    "hole_band_widths.sort()\n",
    "\n",
    "print('Central 90% Band Widths of Gradient Intensity')\n",
    "print_holes_metrics(num_holes, sorted_candidate_nums, hole_band_widths)\n",
    "\n",
    "fig = plt.figure(figsize=(15, 10))\n",
    "ax = fig.add_subplot()\n",
    "\n",
    "plot_metric_bars(ax, num_holes, hole_band_widths, 'Gradient Spread',\n",
    "                 gradient=True)"
   ]
  },
  {
   "cell_type": "markdown",
   "id": "f4b6ef4c-b308-4ed6-bd50-3599dab5a763",
   "metadata": {},
   "source": [
    "## Metric Comparison"
   ]
  },
  {
   "cell_type": "code",
   "execution_count": null,
   "id": "34cedcbe-ee21-4eec-84e7-9aad79f87105",
   "metadata": {},
   "outputs": [],
   "source": [
    "file_num = 10\n",
    "\n",
    "b_median_avg_diff = 0\n",
    "b_width_avg_diff = 0\n",
    "g_median_avg_diff = 0\n",
    "g_width_avg_diff = 0\n",
    "\n",
    "for file_num in range(file_num):\n",
    "    eqw, date = extract_fits(file_num=file_num)[0:4:3]\n",
    "    edit_im = edit_eqw(eqw, peak_count_cutoff_percent=0.1)[0]\n",
    "    \n",
    "    thresh_percent = get_percent_to_peak_percent(edit_im, percent_to_peak=90)\n",
    "    holes_mask = get_holes_mask(edit_im, thresh_percent=thresh_percent,\n",
    "                                open_radius=5, min_size=10000)\n",
    "\n",
    "    masked_candidates = get_masked_candidates(edit_im, holes_mask)\n",
    "    labeled_candidate_holes, num_holes = ndimage.label(holes_mask)\n",
    "    \n",
    "    hole_im_list = get_hole_im_list(edit_im, labeled_candidate_holes, num_holes)\n",
    "    \n",
    "    bright_medians = get_hole_medians(hole_im_list)\n",
    "    bright_medians.sort(reverse=True)\n",
    "    \n",
    "    bright_band_widths = get_hole_band_widths(hole_im_list)\n",
    "    bright_band_widths.sort()\n",
    "    \n",
    "    candidate_edges = filters.sobel(masked_candidates)\n",
    "    hole_im_list = get_hole_im_list(candidate_edges, \n",
    "                                    labeled_candidate_holes, num_holes)\n",
    "    \n",
    "    gradient_medians = get_hole_medians(hole_im_list)\n",
    "    gradient_medians.sort()\n",
    "    \n",
    "    gradient_band_widths = get_hole_band_widths(hole_im_list)\n",
    "    gradient_band_widths.sort()\n",
    "\n",
    "    (b_median_diff, b_width_diff, \n",
    "     g_median_diff, g_width_diff) = plot_selection_metrics(\n",
    "        edit_im, date, num_holes, holes_mask,\n",
    "        bright_medians, bright_band_widths, \n",
    "        gradient_medians, gradient_band_widths)\n",
    "    \n",
    "    b_median_avg_diff += b_median_diff\n",
    "    b_width_avg_diff += b_width_diff\n",
    "    g_median_avg_diff += g_median_diff\n",
    "    g_width_avg_diff += g_width_diff\n",
    "    \n",
    "print(f'Brightness Median Avg Max Diff: {b_median_avg_diff/file_num:.1f}%')\n",
    "print(f'Brightness Width Avg Max Diff: {b_width_avg_diff/file_num:.1f}%')\n",
    "print(f'Gradient Median Avg Max Diff: {g_median_avg_diff/file_num:.1f}%')\n",
    "print(f'Gradient Width Avg Max Diff: {g_width_avg_diff/file_num:.1f}%')"
   ]
  },
  {
   "cell_type": "markdown",
   "id": "767ec415-0e47-450e-ad5f-82906e10bd10",
   "metadata": {},
   "source": [
    "Single Metric Selection: Binary selection of candidates as CH's\n",
    "- Advance candidates with metrics below median of all candidates\n",
    "- Select candidates below the largest jump\n",
    "    - Jump refers to greatest difference in adjacent, sorted metrics"
   ]
  },
  {
   "cell_type": "markdown",
   "id": "71ebbf41-50bc-45d0-aa5e-35c7f503c153",
   "metadata": {},
   "source": [
    "# Selection"
   ]
  },
  {
   "cell_type": "markdown",
   "id": "7dbbaf5c-4abf-45de-bbe6-89e407c98eb8",
   "metadata": {},
   "source": [
    "Multi-Metric Selection: Probability map via generalized linear model \n",
    "- Logit link function mapping probability of CH $p_{CH}$ to linear model $LM$ of metrics\n",
    "    - Aka logistic regression on linear model of metrics\n",
    "- Linear Model Parameters\n",
    "    - $\\alpha$ intercept crossing $p_{CH} = 0.5$\n",
    "    - $\\beta_{i}$ coefficients on metrics\n",
    "    - Metric Formulations\n",
    "        - Metric rank among other candidates, normalized by number of candidates\n",
    "        - Percentile among other candidates\n",
    "            - May be skewed by low end outlier candidates\n",
    "        - Percentile among candidates with upper 90% rank\n",
    "            - Outlier status in high end of candidates indicates standout CH"
   ]
  },
  {
   "cell_type": "markdown",
   "id": "ce91f197-0b46-4104-8680-c36ad6b175ec",
   "metadata": {},
   "source": [
    "$\\mathrm{logit}(p_{CH}) = \\alpha + \\sum(\\beta_{i}x_{i})$"
   ]
  },
  {
   "cell_type": "markdown",
   "id": "2663d195-80a6-4b81-bfa2-dffcead6077a",
   "metadata": {},
   "source": [
    "$\\mathrm{log}(\\frac{p_{CH}}{1 - p_{CH}}) = LM = \\alpha + \\sum(\\beta_{i}x_{i})$"
   ]
  },
  {
   "cell_type": "markdown",
   "id": "3725dcb3-3208-4cc6-ad9f-192bc79b6eeb",
   "metadata": {},
   "source": [
    "$p_{CH} = \\mathrm{logit}^{-1}(LM) = \\mathrm{logistic}(LM) = \\frac{1}{1+exp(-LM ))}$"
   ]
  },
  {
   "attachments": {
    "6470949a-2543-4128-90b7-d0bf489d9ca3.png": {
     "image/png": "[encoded data removed]"
    }
   },
   "cell_type": "markdown",
   "id": "ba74b44f-af5e-4b23-83aa-d1883b756eee",
   "metadata": {},
   "source": [
    "![image.png](attachment:6470949a-2543-4128-90b7-d0bf489d9ca3.png)"
   ]
  },
  {
   "cell_type": "markdown",
   "id": "cfbf208d-5d8d-44ab-a789-3fccdf8dc8d8",
   "metadata": {},
   "source": [
    "- Linear Model Progression\n",
    "    - Simple addition\n",
    "        - 25th percentile among candidates for $\\alpha$\n",
    "        - $\\beta_{i} = 1$\n",
    "    - Bayesian updating\n",
    "        - Weakly informative priors on $\\alpha$  and $\\beta_{i}$\n",
    "        - Update $LM$ with human/expert selected CH's\n",
    "- Alternate Approaches\n",
    "    - ACWE/LSE to refine candidate shapes"
   ]
  },
  {
   "cell_type": "markdown",
   "id": "7c485ca6-b766-434b-bfbc-bbdbb4e914a0",
   "metadata": {},
   "source": [
    "# Dead Ends"
   ]
  },
  {
   "cell_type": "markdown",
   "id": "a4a8d870-898a-41e6-b1c5-9941db97e00d",
   "metadata": {},
   "source": [
    "## Clustering"
   ]
  },
  {
   "cell_type": "code",
   "execution_count": null,
   "id": "678e7a6f-297a-4fae-b3a3-b7f0cd2a5f7c",
   "metadata": {
    "tags": []
   },
   "outputs": [],
   "source": [
    "edit_im = eqw_high_cut\n",
    "\n",
    "mask = ~np.isnan(edit_im)\n",
    "masked_array = get_masked_candidates(edit_im, mask)\n",
    "\n",
    "plt.imshow(masked_array)"
   ]
  },
  {
   "cell_type": "code",
   "execution_count": null,
   "id": "8de02f29-fb98-4509-8761-2cffab05c1d0",
   "metadata": {
    "tags": []
   },
   "outputs": [],
   "source": [
    "ms = MeanShift().fit(masked_array)"
   ]
  },
  {
   "cell_type": "code",
   "execution_count": null,
   "id": "fe04d780-a6bd-4075-9f2f-3557cb18f0ba",
   "metadata": {},
   "outputs": [],
   "source": [
    "labels = ms.labels_\n",
    "cluster_centers = ms.cluster_centers_\n",
    "\n",
    "labels_unique = np.unique(labels)\n",
    "n_clusters_ = len(labels_unique)\n",
    "\n",
    "print(\"number of estimated clusters : %d\" % n_clusters_)"
   ]
  },
  {
   "cell_type": "markdown",
   "id": "2cb1a8ae-6421-49c4-87d3-e7ec4e99a3ae",
   "metadata": {
    "tags": [],
    "toc-hr-collapsed": true
   },
   "source": [
    "## Edge Detection"
   ]
  },
  {
   "cell_type": "markdown",
   "id": "9e64a6b6-f261-4a81-add4-ed5cf663569f",
   "metadata": {},
   "source": [
    "### Gradient Operators"
   ]
  },
  {
   "cell_type": "code",
   "execution_count": null,
   "id": "b8a56e15-8d62-43e7-9922-b3ed8fadaebf",
   "metadata": {
    "tags": []
   },
   "outputs": [],
   "source": [
    "# 2x2 Roberts operator\n",
    "edit_im = filters.roberts(eqw_high_cut)\n",
    "peak_p = get_peak_percent(edit_im)\n",
    "plot_thresholds(edit_im, bounds=[peak_p, 2, 5], threshold_type='lower')"
   ]
  },
  {
   "cell_type": "code",
   "execution_count": null,
   "id": "e9cf0e32-fd1f-435c-b5f9-58243a5f3f61",
   "metadata": {},
   "outputs": [],
   "source": [
    "# 3x3 Sobel operator\n",
    "edit_im = filters.sobel(eqw_high_cut)\n",
    "peak_p = get_peak_percent(edit_im)\n",
    "plot_thresholds(edit_im, bounds=[peak_p, 4, 8], threshold_type='lower')"
   ]
  },
  {
   "cell_type": "code",
   "execution_count": null,
   "id": "ffd06f54-b295-4fe8-8677-9896ed1bb81c",
   "metadata": {
    "tags": []
   },
   "outputs": [],
   "source": [
    "# 3x3 Prewitt operator\n",
    "edit_im = filters.prewitt(eqw_high_cut)\n",
    "peak_p = get_peak_percent(edit_im)\n",
    "plot_thresholds(edit_im, bounds=[peak_p, 4, 8], threshold_type='lower')"
   ]
  },
  {
   "cell_type": "markdown",
   "id": "580f5f6c-0230-49a1-91b1-d011a883f897",
   "metadata": {},
   "source": [
    "### Laplace Operator"
   ]
  },
  {
   "cell_type": "code",
   "execution_count": null,
   "id": "8dc0fcb8-6124-40e0-9240-74440a156463",
   "metadata": {
    "tags": []
   },
   "outputs": [],
   "source": [
    "edit_im = filters.laplace(eqw_high_cut)\n",
    "peak_p = get_peak_percent(edit_im)\n",
    "plot_thresholds(edit_im, bounds=[45, peak_p, 49], threshold_type='lower')"
   ]
  },
  {
   "cell_type": "markdown",
   "id": "c6f2675c-58c5-4505-9b1d-19215dec4f93",
   "metadata": {},
   "source": [
    "### Canny Detector"
   ]
  },
  {
   "cell_type": "code",
   "execution_count": null,
   "id": "3a8ac7e1-7396-44ae-98f5-8316e57e3477",
   "metadata": {},
   "outputs": [],
   "source": [
    "edge_im = feature.canny(im_10p, sigma=10)\n",
    "edge_im = np.where(edge_im, 1, 0)\n",
    "np.histogram(edge_im)"
   ]
  },
  {
   "cell_type": "code",
   "execution_count": null,
   "id": "1d9953d4-bdc7-4882-8758-3a552a4b134d",
   "metadata": {},
   "outputs": [],
   "source": [
    "base_im = im_10p\n",
    "\n",
    "fig, axes = plt.subplots(nrows=3, ncols=3, figsize=(30, 30))\n",
    "ax = axes.ravel()\n",
    "    \n",
    "for i in range(9):\n",
    "    sigma = 3*(i + 1)\n",
    "    edge_im = feature.canny(base_im, sigma=sigma)\n",
    "    edge_im = np.where(edge_im, 1, 0)\n",
    "    \n",
    "    ax[i].imshow(edge_im)\n",
    "    ax[i].title.set_text(f'Sigma: {sigma}')"
   ]
  },
  {
   "cell_type": "markdown",
   "id": "26671140-9534-47c7-b7e5-cd79b16c0ad4",
   "metadata": {},
   "source": [
    "## Frequency Domain"
   ]
  },
  {
   "cell_type": "code",
   "execution_count": null,
   "id": "d82bcecb-ceb7-43a1-8e8c-d5e911f7e2e2",
   "metadata": {},
   "outputs": [],
   "source": [
    "def get_ft(image):\n",
    "    ft = fft.ifftshift(image)\n",
    "    ft = fft.fft2(ft)\n",
    "    return fft.fftshift(ft)\n",
    "\n",
    "def get_ift(image):\n",
    "    ift = fft.ifftshift(image)\n",
    "    ift = fft.ifft2(ift)\n",
    "    ift = fft.fftshift(ift)\n",
    "    return ift.real\n",
    "\n",
    "def plot_freq_pass_filter(pass_type, radius_range):\n",
    "    \"\"\"Visualize frequency domain filter.\n",
    "    \"\"\"\n",
    "    fig, axes = plt.subplots(nrows=4, ncols=4, figsize=(35, 35))\n",
    "    ax = axes.ravel()\n",
    "\n",
    "    for i in range(8):\n",
    "        radius = int(radius_range[i])\n",
    "        disk = morphology.disk(radius)\n",
    "\n",
    "        # Create and center disk mask \n",
    "        pad_width = int((len(fourier_im) - len(disk) - 1)/2)\n",
    "        disk_mask = np.pad(disk, pad_width=pad_width)\n",
    "        if len(fourier_im) > len(disk_mask):\n",
    "            disk_mask = np.pad(disk_mask, pad_width=(0,1))\n",
    "\n",
    "        if pass_type == 'High':\n",
    "            disk_mask = np.where((disk_mask == 0) | (disk_mask == 1), disk_mask^1, disk_mask)\n",
    "\n",
    "        complex_disk_mask = np.empty(disk_mask.shape, dtype=np.complex128)\n",
    "        complex_disk_mask.real = disk_mask\n",
    "        complex_disk_mask.imag = disk_mask\n",
    "\n",
    "        # Apply disk mask\n",
    "        filt_fourier_im = fourier_im*complex_disk_mask\n",
    "\n",
    "        rev_fourier_im = get_ift(filt_fourier_im)\n",
    "\n",
    "        if i < 4:\n",
    "            freq_i = i\n",
    "            reg_i = i + 4\n",
    "        else:\n",
    "            freq_i = i + 4\n",
    "            reg_i = i + 8\n",
    "\n",
    "        ax[freq_i].imshow(np.log(abs(filt_fourier_im)), cmap=plt.cm.inferno)\n",
    "        ax[freq_i].title.set_text(f'{radius}px {pass_type} Pass')\n",
    "        ax[freq_i].axis('off')\n",
    "\n",
    "        ax[reg_i].imshow(rev_fourier_im, cmap=plt.cm.gray)\n",
    "        ax[reg_i].title.set_text(f'{radius}px {pass_type} Pass')\n",
    "        ax[reg_i].axis('off')\n",
    "\n",
    "        \n",
    "def plot_butterworth_pass_filter(high_pass, cutoff_range):\n",
    "    \"\"\"Directly filter as high or low pass.\n",
    "    \"\"\"\n",
    "    fig, axes = plt.subplots(nrows=3, ncols=3, figsize=(25, 25))\n",
    "    ax = axes.ravel()\n",
    "    \n",
    "    if high_pass:\n",
    "        sign = '>'\n",
    "    else:\n",
    "        sign = '<'\n",
    "    \n",
    "    for i in range(9):\n",
    "        cutoff = cutoff_range[i]\n",
    "        high_pass_im = butterworth(im, cutoff_frequency_ratio=cutoff,\n",
    "                                   high_pass=high_pass, channel_axis=None)\n",
    "        ax[i].imshow(high_pass_im, cmap=plt.cm.gray)\n",
    "        ax[i].title.set_text(f'{sign}{cutoff} Pass Filter')\n",
    "        ax[i].axis('off')"
   ]
  },
  {
   "cell_type": "code",
   "execution_count": null,
   "id": "b0a46abc-d960-466f-b0f0-1559130fb34a",
   "metadata": {},
   "outputs": [],
   "source": [
    "fourier_im = get_ft(raw_im)\n",
    "\n",
    "fig, ax = plt.subplots(figsize=(10, 10))\n",
    "ax.imshow(np.log(abs(fourier_im)), cmap=plt.cm.inferno)"
   ]
  },
  {
   "cell_type": "code",
   "execution_count": null,
   "id": "3cc3ae60-e813-45cb-ab5e-7697dca8ac36",
   "metadata": {},
   "outputs": [],
   "source": [
    "pass_type = 'High'\n",
    "radius_range = np.linspace(1, 20, 8)\n",
    "plot_freq_pass_filter(pass_type, radius_range)"
   ]
  },
  {
   "cell_type": "code",
   "execution_count": null,
   "id": "514a472e-4cb0-4f3d-9cdb-b47f01a8635f",
   "metadata": {},
   "outputs": [],
   "source": [
    "pass_type = 'Low'\n",
    "radius_range = np.linspace(100, 10, 8)\n",
    "plot_freq_pass_filter(pass_type, radius_range)"
   ]
  },
  {
   "cell_type": "code",
   "execution_count": null,
   "id": "28507c4c-6d43-4d0f-bf98-6288eb64f63c",
   "metadata": {},
   "outputs": [],
   "source": []
  }
 ],
 "metadata": {
  "kernelspec": {
   "display_name": "base",
   "language": "python",
   "name": "python3"
  },
  "language_info": {
   "codemirror_mode": {
    "name": "ipython",
    "version": 3
   },
   "file_extension": ".py",
   "mimetype": "text/x-python",
   "name": "python",
   "nbconvert_exporter": "python",
   "pygments_lexer": "ipython3",
   "version": "3.8.8"
  },
  "toc-autonumbering": true,
  "toc-showcode": false,
  "toc-showmarkdowntxt": false,
  "toc-showtags": false,
  "vscode": {
   "interpreter": {
    "hash": "1807db594b190732cc610e7ea686ad4ee518334bcb78ffc710d0142263aafb2c"
   }
  }
 },
 "nbformat": 4,
 "nbformat_minor": 5
}
